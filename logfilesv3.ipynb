{
 "cells": [
  {
   "cell_type": "markdown",
   "metadata": {},
   "source": [
    "\n",
    "# Tasca 7 : Transformació Registre Log amb Regular expressions"
   ]
  },
  {
   "cell_type": "markdown",
   "metadata": {},
   "source": [
    "L'anàlisi de registres és una funció important per al control i l'alerta, el compliment de les polítiques de seguretat, l'auditoria i el compliment normatiu, la resposta a incidents de seguretat i fins i tot les investigacions forenses. En analitzar les dades de registre, les empreses poden identificar més fàcilment les possibles amenaces i altres problemes, trobar la causa arrel i iniciar una resposta ràpida per mitigar els riscos.\n",
    "\n",
    "## Nivell 1\n",
    "L'analista ha d'assegurar-se que els registres consisteixen en una gamma completa de missatges i s'interpreten segons el context. Els elements de registre han de normalitzar-se, utilitzant els mateixos termes o terminologia, per evitar confusions i proporcionar cohesió.\n",
    "\n",
    "Com Científic de Dades se t'ha proporcionat accés als registres-Logs on queda registrada l'activitat de totes les visites a realitzades a la pàgina web de l'agència de viatges \"akumenius.com\".\n",
    "\n",
    "### Exercici 1\n",
    "Normalitza, identifica i enumera cada un dels atributs / variables de l'estructura de l'arxiu \"Web_access_log-akumenius.com\" que trobaràs al repositori de GitHub \"Data-sources\".\n",
    "\n"
   ]
  },
  {
   "cell_type": "code",
   "execution_count": 1,
   "metadata": {},
   "outputs": [],
   "source": [
    "# Carga de librerias\n",
    "\n",
    "# Data wrangling\n",
    "\n",
    "import pandas as pd\n",
    "import numpy as np\n",
    "\n",
    "# Visualización de datos\n",
    "\n",
    "import matplotlib\n",
    "import matplotlib.pyplot as plt\n",
    "%matplotlib inline\n",
    "\n",
    "import seaborn as sns\n",
    "sns.set_theme()\n",
    "\n",
    "# Web scraping\n",
    "from urllib.request import urlopen\n",
    "import requests\n",
    "\n",
    "from ip2geotools.databases.noncommercial import DbIpCity\n",
    "\n",
    "from geolite2 import geolite2\n",
    "\n",
    "# User agents parser\n",
    "from ua_parser import user_agent_parser \n",
    "\n",
    "# Otros\n",
    "import pickle\n",
    "import re\n",
    "import json\n"
   ]
  },
  {
   "cell_type": "markdown",
   "metadata": {},
   "source": [
    "## Nivell 2\n",
    "### Exercici 2\n",
    "Neteja, preprocesa, estructura i transforma (dataframe) les dades del registre d'Accés a la web.\n",
    "\n"
   ]
  },
  {
   "cell_type": "markdown",
   "metadata": {},
   "source": [
    "## 1. Ingesta de datos."
   ]
  },
  {
   "cell_type": "markdown",
   "metadata": {},
   "source": [
    "Antes de empezar podemos leer en el siguiente [enlace] la estructura típica de un archivo de log.\n",
    "\n",
    "Las piezas esperadas de información son:\n",
    "\n",
    "[...]\n",
    "- IP address of the client (remote host).\n",
    "- The time that the server finished processing the request. The format is:\n",
    "\n",
    "[day/month/year:hour:minute:second zone]\n",
    "- The request line from the client is given in double quotes. \n",
    "- The status code that the server sends back to the client. \n",
    "- The size of the object returned to the client.\n",
    "- The \"Referer\" (sic) HTTP request header. This gives the site that the client reports having been referred from. \n",
    "- The User-Agent HTTP request header. This is the identifying information that the client browser reports about itself.\n",
    "\n",
    "[...]\n",
    "\n",
    "[enlace]: http://httpd.apache.org/docs/1.3/logs.html\n"
   ]
  },
  {
   "cell_type": "code",
   "execution_count": 2,
   "metadata": {},
   "outputs": [],
   "source": [
    "# Ingesta de datos.\n",
    "logfile=pd.read_csv('Web_access_log-akumenius.txt',\n",
    "                    sep='delimiter', \n",
    "                  #  nrows=100,\n",
    "                    header=None,\n",
    "                    engine='python',\n",
    "                    )"
   ]
  },
  {
   "cell_type": "markdown",
   "metadata": {},
   "source": [
    "He partido cada línea de mi archivo de manera con un delimitador _ \"_ de manera que preveo que me quedarán 4 columnas con la soguiente información:\n",
    "\n",
    "- 0. Dirección, IP y fecha.\n",
    "- 1. Request: método, fuente, protocolo, status y tamaño.\n",
    "- 2. Referer\n",
    "- 3. User Agent\n",
    "\n",
    "Espero que la información quede repartida en estas columnas, sin embargo puede ocurrir que existan algunos registros fuera de lo común o que se haya perdido alguna pieza de información, por eso vamos a revisar cada campo conforme extraigamos la información. "
   ]
  },
  {
   "cell_type": "code",
   "execution_count": 3,
   "metadata": {},
   "outputs": [
    {
     "data": {
      "text/html": [
       "<div>\n",
       "<style scoped>\n",
       "    .dataframe tbody tr th:only-of-type {\n",
       "        vertical-align: middle;\n",
       "    }\n",
       "\n",
       "    .dataframe tbody tr th {\n",
       "        vertical-align: top;\n",
       "    }\n",
       "\n",
       "    .dataframe thead th {\n",
       "        text-align: right;\n",
       "    }\n",
       "</style>\n",
       "<table border=\"1\" class=\"dataframe\">\n",
       "  <thead>\n",
       "    <tr style=\"text-align: right;\">\n",
       "      <th></th>\n",
       "      <th>0</th>\n",
       "    </tr>\n",
       "  </thead>\n",
       "  <tbody>\n",
       "    <tr>\n",
       "      <th>0</th>\n",
       "      <td>localhost 127.0.0.1 - - [23/Feb/2014:03:10:31 ...</td>\n",
       "    </tr>\n",
       "    <tr>\n",
       "      <th>1</th>\n",
       "      <td>localhost 127.0.0.1 - - [23/Feb/2014:03:10:31 ...</td>\n",
       "    </tr>\n",
       "    <tr>\n",
       "      <th>2</th>\n",
       "      <td>localhost 127.0.0.1 - - [23/Feb/2014:03:10:31 ...</td>\n",
       "    </tr>\n",
       "  </tbody>\n",
       "</table>\n",
       "</div>"
      ],
      "text/plain": [
       "                                                   0\n",
       "0  localhost 127.0.0.1 - - [23/Feb/2014:03:10:31 ...\n",
       "1  localhost 127.0.0.1 - - [23/Feb/2014:03:10:31 ...\n",
       "2  localhost 127.0.0.1 - - [23/Feb/2014:03:10:31 ..."
      ]
     },
     "execution_count": 3,
     "metadata": {},
     "output_type": "execute_result"
    }
   ],
   "source": [
    "# Cabecera\n",
    "logfile.head(3)"
   ]
  },
  {
   "cell_type": "code",
   "execution_count": 4,
   "metadata": {},
   "outputs": [
    {
     "data": {
      "text/plain": [
       "array(['www.akumenius.com 220.181.108.96 - - [26/Feb/2014:23:44:31 +0100] \"GET / HTTP/1.1\" 200 25030 \"-\" \"Mozilla/5.0 (compatible; Baiduspider/2.0; +http://www.baidu.com/search/spider.html)\" VLOG=-'],\n",
       "      dtype=object)"
      ]
     },
     "execution_count": 4,
     "metadata": {},
     "output_type": "execute_result"
    }
   ],
   "source": [
    "# Refistro num 181474\n",
    "logfile.iloc[181474,:].values"
   ]
  },
  {
   "cell_type": "code",
   "execution_count": 5,
   "metadata": {},
   "outputs": [
    {
     "name": "stdout",
     "output_type": "stream",
     "text": [
      "<class 'pandas.core.frame.DataFrame'>\n",
      "RangeIndex: 261873 entries, 0 to 261872\n",
      "Data columns (total 1 columns):\n",
      " #   Column  Non-Null Count   Dtype \n",
      "---  ------  --------------   ----- \n",
      " 0   0       261873 non-null  object\n",
      "dtypes: object(1)\n",
      "memory usage: 2.0+ MB\n"
     ]
    }
   ],
   "source": [
    "# Información\n",
    "logfile.info()"
   ]
  },
  {
   "cell_type": "code",
   "execution_count": 6,
   "metadata": {},
   "outputs": [
    {
     "data": {
      "text/plain": [
       "0"
      ]
     },
     "execution_count": 6,
     "metadata": {},
     "output_type": "execute_result"
    }
   ],
   "source": [
    "# Any missing values?\n",
    "logfile.isna().any().sum()"
   ]
  },
  {
   "cell_type": "code",
   "execution_count": 7,
   "metadata": {},
   "outputs": [
    {
     "data": {
      "text/plain": [
       "(4563, 1)"
      ]
     },
     "execution_count": 7,
     "metadata": {},
     "output_type": "execute_result"
    }
   ],
   "source": [
    "# Duplicated rows\n",
    "logfile[logfile.duplicated()].shape"
   ]
  },
  {
   "cell_type": "markdown",
   "metadata": {},
   "source": [
    "No tenemos ninguna columna con valores nulos y hay 4.563 registros duplicados."
   ]
  },
  {
   "cell_type": "markdown",
   "metadata": {},
   "source": [
    "## 2. Extracción de variables."
   ]
  },
  {
   "cell_type": "markdown",
   "metadata": {},
   "source": [
    "### 2.1. DATE."
   ]
  },
  {
   "cell_type": "code",
   "execution_count": 8,
   "metadata": {},
   "outputs": [],
   "source": [
    "# Extracting DATE\n",
    "log=logfile[0].str.extract(r'(?P<DATE>\\d{2}/[A-Z][a-z]{2}/\\d{4}[:\\d\\d]*\\s.\\d{4})',expand=True)"
   ]
  },
  {
   "cell_type": "code",
   "execution_count": 9,
   "metadata": {},
   "outputs": [],
   "source": [
    "# Parsing to datetime\n",
    "log.DATE=pd.to_datetime(log.DATE,format='%d/%b/%Y:%H:%M:%S %z',errors='ignore')"
   ]
  },
  {
   "cell_type": "markdown",
   "metadata": {},
   "source": [
    "### 2.2. IP y WEB."
   ]
  },
  {
   "cell_type": "code",
   "execution_count": 10,
   "metadata": {},
   "outputs": [],
   "source": [
    "# Extraer dirección \n",
    "log['HOST']=logfile[0].str.extract(r'^(.*?\\s)')\n",
    "#logfile[0].str.split(' ',expand=True)[0]; #equivalente"
   ]
  },
  {
   "cell_type": "code",
   "execution_count": 11,
   "metadata": {},
   "outputs": [],
   "source": [
    "# Extraer IP\n",
    "log['IP']=logfile[0].str.extract(r'(\\d+\\.\\d+\\.\\d+\\.\\d+)')"
   ]
  },
  {
   "cell_type": "code",
   "execution_count": 12,
   "metadata": {},
   "outputs": [],
   "source": [
    "# Remote user\n",
    "log['USER']=logfile[0].str.split(' ',expand=True)[3]"
   ]
  },
  {
   "cell_type": "code",
   "execution_count": 13,
   "metadata": {},
   "outputs": [
    {
     "data": {
      "text/plain": [
       "array(['-'], dtype=object)"
      ]
     },
     "execution_count": 13,
     "metadata": {},
     "output_type": "execute_result"
    }
   ],
   "source": [
    "# Identidad\n",
    "logfile[0].str.split(' ',expand=True)[2].unique()"
   ]
  },
  {
   "cell_type": "markdown",
   "metadata": {},
   "source": [
    "### 2.3. Variables derivadas de REQUEST.  "
   ]
  },
  {
   "cell_type": "markdown",
   "metadata": {},
   "source": [
    "La información de request, referer y user agent está almacenada entre paréntesis. Voy a extraerla a un nuevo dataframe."
   ]
  },
  {
   "cell_type": "code",
   "execution_count": 14,
   "metadata": {},
   "outputs": [],
   "source": [
    "df=logfile[0].str.extractall(r'(\"[^\"]*\")')"
   ]
  },
  {
   "cell_type": "code",
   "execution_count": 15,
   "metadata": {},
   "outputs": [
    {
     "data": {
      "text/html": [
       "<div>\n",
       "<style scoped>\n",
       "    .dataframe tbody tr th:only-of-type {\n",
       "        vertical-align: middle;\n",
       "    }\n",
       "\n",
       "    .dataframe tbody tr th {\n",
       "        vertical-align: top;\n",
       "    }\n",
       "\n",
       "    .dataframe thead th {\n",
       "        text-align: right;\n",
       "    }\n",
       "</style>\n",
       "<table border=\"1\" class=\"dataframe\">\n",
       "  <thead>\n",
       "    <tr style=\"text-align: right;\">\n",
       "      <th></th>\n",
       "      <th></th>\n",
       "      <th>0</th>\n",
       "    </tr>\n",
       "    <tr>\n",
       "      <th></th>\n",
       "      <th>match</th>\n",
       "      <th></th>\n",
       "    </tr>\n",
       "  </thead>\n",
       "  <tbody>\n",
       "    <tr>\n",
       "      <th rowspan=\"3\" valign=\"top\">0</th>\n",
       "      <th>0</th>\n",
       "      <td>\"OPTIONS * HTTP/1.0\"</td>\n",
       "    </tr>\n",
       "    <tr>\n",
       "      <th>1</th>\n",
       "      <td>\"-\"</td>\n",
       "    </tr>\n",
       "    <tr>\n",
       "      <th>2</th>\n",
       "      <td>\"Apache (internal dummy connection)\"</td>\n",
       "    </tr>\n",
       "    <tr>\n",
       "      <th rowspan=\"2\" valign=\"top\">1</th>\n",
       "      <th>0</th>\n",
       "      <td>\"OPTIONS * HTTP/1.0\"</td>\n",
       "    </tr>\n",
       "    <tr>\n",
       "      <th>1</th>\n",
       "      <td>\"-\"</td>\n",
       "    </tr>\n",
       "  </tbody>\n",
       "</table>\n",
       "</div>"
      ],
      "text/plain": [
       "                                            0\n",
       "  match                                      \n",
       "0 0                      \"OPTIONS * HTTP/1.0\"\n",
       "  1                                       \"-\"\n",
       "  2      \"Apache (internal dummy connection)\"\n",
       "1 0                      \"OPTIONS * HTTP/1.0\"\n",
       "  1                                       \"-\""
      ]
     },
     "execution_count": 15,
     "metadata": {},
     "output_type": "execute_result"
    }
   ],
   "source": [
    "df.head(5)"
   ]
  },
  {
   "cell_type": "markdown",
   "metadata": {},
   "source": [
    "Se ha generado un multiindex con los matches de cada registro voy a reestructurar el dataframe para obtener los matches en columnas y los valores en registros."
   ]
  },
  {
   "cell_type": "code",
   "execution_count": 16,
   "metadata": {},
   "outputs": [
    {
     "data": {
      "text/html": [
       "<div>\n",
       "<style scoped>\n",
       "    .dataframe tbody tr th:only-of-type {\n",
       "        vertical-align: middle;\n",
       "    }\n",
       "\n",
       "    .dataframe tbody tr th {\n",
       "        vertical-align: top;\n",
       "    }\n",
       "\n",
       "    .dataframe thead th {\n",
       "        text-align: right;\n",
       "    }\n",
       "</style>\n",
       "<table border=\"1\" class=\"dataframe\">\n",
       "  <thead>\n",
       "    <tr style=\"text-align: right;\">\n",
       "      <th></th>\n",
       "      <th>match</th>\n",
       "      <th>0</th>\n",
       "      <th>1</th>\n",
       "      <th>2</th>\n",
       "      <th>3</th>\n",
       "    </tr>\n",
       "  </thead>\n",
       "  <tbody>\n",
       "    <tr>\n",
       "      <th>0</th>\n",
       "      <th>0</th>\n",
       "      <td>\"OPTIONS * HTTP/1.0\"</td>\n",
       "      <td>\"-\"</td>\n",
       "      <td>\"Apache (internal dummy connection)\"</td>\n",
       "      <td>NaN</td>\n",
       "    </tr>\n",
       "    <tr>\n",
       "      <th>1</th>\n",
       "      <th>0</th>\n",
       "      <td>\"OPTIONS * HTTP/1.0\"</td>\n",
       "      <td>\"-\"</td>\n",
       "      <td>\"Apache (internal dummy connection)\"</td>\n",
       "      <td>NaN</td>\n",
       "    </tr>\n",
       "    <tr>\n",
       "      <th>2</th>\n",
       "      <th>0</th>\n",
       "      <td>\"OPTIONS * HTTP/1.0\"</td>\n",
       "      <td>\"-\"</td>\n",
       "      <td>\"Apache (internal dummy connection)\"</td>\n",
       "      <td>NaN</td>\n",
       "    </tr>\n",
       "    <tr>\n",
       "      <th>3</th>\n",
       "      <th>0</th>\n",
       "      <td>\"OPTIONS * HTTP/1.0\"</td>\n",
       "      <td>\"-\"</td>\n",
       "      <td>\"Apache (internal dummy connection)\"</td>\n",
       "      <td>NaN</td>\n",
       "    </tr>\n",
       "    <tr>\n",
       "      <th>4</th>\n",
       "      <th>0</th>\n",
       "      <td>\"OPTIONS * HTTP/1.0\"</td>\n",
       "      <td>\"-\"</td>\n",
       "      <td>\"Apache (internal dummy connection)\"</td>\n",
       "      <td>NaN</td>\n",
       "    </tr>\n",
       "  </tbody>\n",
       "</table>\n",
       "</div>"
      ],
      "text/plain": [
       "match                     0    1                                     2    3\n",
       "0 0    \"OPTIONS * HTTP/1.0\"  \"-\"  \"Apache (internal dummy connection)\"  NaN\n",
       "1 0    \"OPTIONS * HTTP/1.0\"  \"-\"  \"Apache (internal dummy connection)\"  NaN\n",
       "2 0    \"OPTIONS * HTTP/1.0\"  \"-\"  \"Apache (internal dummy connection)\"  NaN\n",
       "3 0    \"OPTIONS * HTTP/1.0\"  \"-\"  \"Apache (internal dummy connection)\"  NaN\n",
       "4 0    \"OPTIONS * HTTP/1.0\"  \"-\"  \"Apache (internal dummy connection)\"  NaN"
      ]
     },
     "execution_count": 16,
     "metadata": {},
     "output_type": "execute_result"
    }
   ],
   "source": [
    "df=df.unstack(level=1).stack(level=0)\n",
    "df.head()"
   ]
  },
  {
   "cell_type": "markdown",
   "metadata": {},
   "source": [
    "Vemos que hay una columna más, probablemente debido a que en algún registro había algunas comillas en la descripción de la fuente."
   ]
  },
  {
   "cell_type": "code",
   "execution_count": 17,
   "metadata": {},
   "outputs": [
    {
     "data": {
      "text/plain": [
       "match\n",
       "0    False\n",
       "1    False\n",
       "2    False\n",
       "3     True\n",
       "dtype: bool"
      ]
     },
     "execution_count": 17,
     "metadata": {},
     "output_type": "execute_result"
    }
   ],
   "source": [
    "df.isna().any()"
   ]
  },
  {
   "cell_type": "code",
   "execution_count": 18,
   "metadata": {},
   "outputs": [
    {
     "data": {
      "text/html": [
       "<div>\n",
       "<style scoped>\n",
       "    .dataframe tbody tr th:only-of-type {\n",
       "        vertical-align: middle;\n",
       "    }\n",
       "\n",
       "    .dataframe tbody tr th {\n",
       "        vertical-align: top;\n",
       "    }\n",
       "\n",
       "    .dataframe thead th {\n",
       "        text-align: right;\n",
       "    }\n",
       "</style>\n",
       "<table border=\"1\" class=\"dataframe\">\n",
       "  <thead>\n",
       "    <tr style=\"text-align: right;\">\n",
       "      <th></th>\n",
       "      <th>match</th>\n",
       "      <th>0</th>\n",
       "      <th>1</th>\n",
       "      <th>2</th>\n",
       "      <th>3</th>\n",
       "    </tr>\n",
       "  </thead>\n",
       "  <tbody>\n",
       "    <tr>\n",
       "      <th>181473</th>\n",
       "      <th>0</th>\n",
       "      <td>\"GET /escapadas/escapada-especial-san-valentin-\\\"</td>\n",
       "      <td>\"-en-playa-de-san-juan-hotel-castilla-alicante...</td>\n",
       "      <td>\"-\"</td>\n",
       "      <td>\"Mozilla/5.0 (compatible; AhrefsBot/5.0; +http...</td>\n",
       "    </tr>\n",
       "    <tr>\n",
       "      <th>236496</th>\n",
       "      <th>0</th>\n",
       "      <td>\"GET /escapadas/escapada-\\\"</td>\n",
       "      <td>\"-observatorio-avifauna-hotel-pedro-i-de-arago...</td>\n",
       "      <td>\"-\"</td>\n",
       "      <td>\"Mozilla/5.0 (compatible; AhrefsBot/5.0; +http...</td>\n",
       "    </tr>\n",
       "  </tbody>\n",
       "</table>\n",
       "</div>"
      ],
      "text/plain": [
       "match                                                     0  \\\n",
       "181473 0  \"GET /escapadas/escapada-especial-san-valentin-\\\"   \n",
       "236496 0                        \"GET /escapadas/escapada-\\\"   \n",
       "\n",
       "match                                                     1    2  \\\n",
       "181473 0  \"-en-playa-de-san-juan-hotel-castilla-alicante...  \"-\"   \n",
       "236496 0  \"-observatorio-avifauna-hotel-pedro-i-de-arago...  \"-\"   \n",
       "\n",
       "match                                                     3  \n",
       "181473 0  \"Mozilla/5.0 (compatible; AhrefsBot/5.0; +http...  \n",
       "236496 0  \"Mozilla/5.0 (compatible; AhrefsBot/5.0; +http...  "
      ]
     },
     "execution_count": 18,
     "metadata": {},
     "output_type": "execute_result"
    }
   ],
   "source": [
    "df[df[3].isna()==False]"
   ]
  },
  {
   "cell_type": "code",
   "execution_count": 19,
   "metadata": {},
   "outputs": [
    {
     "name": "stdout",
     "output_type": "stream",
     "text": [
      "['www.akumenius.com 5.10.83.41 - - [26/Feb/2014:23:44:22 +0100] \"GET /escapadas/escapada-especial-san-valentin-\\\\\"different\\\\\"-en-playa-de-san-juan-hotel-castilla-alicante-80beffa7d651981e2b7abb7ad6a79508.html HTTP/1.1\" 200 3100 \"-\" \"Mozilla/5.0 (compatible; AhrefsBot/5.0; +http://ahrefs.com/robot/)\" VLOG=-']\n"
     ]
    }
   ],
   "source": [
    "print(logfile.iloc[[181473],:][0].values)"
   ]
  },
  {
   "cell_type": "code",
   "execution_count": 20,
   "metadata": {},
   "outputs": [],
   "source": [
    "df=df.reset_index(level=1).drop(columns='level_1')"
   ]
  },
  {
   "cell_type": "code",
   "execution_count": 21,
   "metadata": {},
   "outputs": [
    {
     "data": {
      "text/plain": [
       "Int64Index([181473, 236496], dtype='int64')"
      ]
     },
     "execution_count": 21,
     "metadata": {},
     "output_type": "execute_result"
    }
   ],
   "source": [
    "indices=df[df[3].isna()==False].index\n",
    "indices"
   ]
  },
  {
   "cell_type": "code",
   "execution_count": 22,
   "metadata": {},
   "outputs": [
    {
     "data": {
      "text/plain": [
       "array(['\"GET /escapadas/escapada-especial-san-valentin-\\\\\"\"-en-playa-de-san-juan-hotel-castilla-alicante-80beffa7d651981e2b7abb7ad6a79508.html HTTP/1.1\"',\n",
       "       '\"GET /escapadas/escapada-\\\\\"\"-observatorio-avifauna-hotel-pedro-i-de-aragon-e72dad4b21bdfb8f7285762400e8ba4b.html HTTP/1.1\"'],\n",
       "      dtype=object)"
      ]
     },
     "execution_count": 22,
     "metadata": {},
     "output_type": "execute_result"
    }
   ],
   "source": [
    "df.loc[indices,0]=df.loc[indices,0]+df.loc[indices,1]\n",
    "df.iloc[indices,:][0].values"
   ]
  },
  {
   "cell_type": "code",
   "execution_count": 23,
   "metadata": {},
   "outputs": [
    {
     "data": {
      "text/html": [
       "<div>\n",
       "<style scoped>\n",
       "    .dataframe tbody tr th:only-of-type {\n",
       "        vertical-align: middle;\n",
       "    }\n",
       "\n",
       "    .dataframe tbody tr th {\n",
       "        vertical-align: top;\n",
       "    }\n",
       "\n",
       "    .dataframe thead th {\n",
       "        text-align: right;\n",
       "    }\n",
       "</style>\n",
       "<table border=\"1\" class=\"dataframe\">\n",
       "  <thead>\n",
       "    <tr style=\"text-align: right;\">\n",
       "      <th>match</th>\n",
       "      <th>0</th>\n",
       "      <th>1</th>\n",
       "      <th>2</th>\n",
       "      <th>3</th>\n",
       "    </tr>\n",
       "  </thead>\n",
       "  <tbody>\n",
       "    <tr>\n",
       "      <th>181473</th>\n",
       "      <td>\"GET /escapadas/escapada-especial-san-valentin...</td>\n",
       "      <td>\"-\"</td>\n",
       "      <td>\"Mozilla/5.0 (compatible; AhrefsBot/5.0; +http...</td>\n",
       "      <td>\"Mozilla/5.0 (compatible; AhrefsBot/5.0; +http...</td>\n",
       "    </tr>\n",
       "    <tr>\n",
       "      <th>236496</th>\n",
       "      <td>\"GET /escapadas/escapada-\\\"\"-observatorio-avif...</td>\n",
       "      <td>\"-\"</td>\n",
       "      <td>\"Mozilla/5.0 (compatible; AhrefsBot/5.0; +http...</td>\n",
       "      <td>\"Mozilla/5.0 (compatible; AhrefsBot/5.0; +http...</td>\n",
       "    </tr>\n",
       "  </tbody>\n",
       "</table>\n",
       "</div>"
      ],
      "text/plain": [
       "match                                                   0    1  \\\n",
       "181473  \"GET /escapadas/escapada-especial-san-valentin...  \"-\"   \n",
       "236496  \"GET /escapadas/escapada-\\\"\"-observatorio-avif...  \"-\"   \n",
       "\n",
       "match                                                   2  \\\n",
       "181473  \"Mozilla/5.0 (compatible; AhrefsBot/5.0; +http...   \n",
       "236496  \"Mozilla/5.0 (compatible; AhrefsBot/5.0; +http...   \n",
       "\n",
       "match                                                   3  \n",
       "181473  \"Mozilla/5.0 (compatible; AhrefsBot/5.0; +http...  \n",
       "236496  \"Mozilla/5.0 (compatible; AhrefsBot/5.0; +http...  "
      ]
     },
     "execution_count": 23,
     "metadata": {},
     "output_type": "execute_result"
    }
   ],
   "source": [
    "df.loc[indices,1]=df.loc[indices,2]\n",
    "df.loc[indices,2]=df.loc[indices,3]\n",
    "df.iloc[indices,:]"
   ]
  },
  {
   "cell_type": "code",
   "execution_count": 24,
   "metadata": {},
   "outputs": [
    {
     "name": "stdout",
     "output_type": "stream",
     "text": [
      "<class 'pandas.core.frame.DataFrame'>\n",
      "Int64Index: 261873 entries, 0 to 261872\n",
      "Data columns (total 4 columns):\n",
      " #   Column  Non-Null Count   Dtype \n",
      "---  ------  --------------   ----- \n",
      " 0   0       261873 non-null  object\n",
      " 1   1       261873 non-null  object\n",
      " 2   2       261873 non-null  object\n",
      " 3   3       2 non-null       object\n",
      "dtypes: object(4)\n",
      "memory usage: 20.0+ MB\n"
     ]
    }
   ],
   "source": [
    "df.info()"
   ]
  },
  {
   "cell_type": "code",
   "execution_count": 25,
   "metadata": {},
   "outputs": [],
   "source": [
    "# Request Method\n",
    "log['REQ_METHOD']=df[0].str.extract(r'([A-Z]+\\s)')[0].str.strip()"
   ]
  },
  {
   "cell_type": "code",
   "execution_count": 26,
   "metadata": {},
   "outputs": [
    {
     "data": {
      "text/plain": [
       "array(['OPTIONS', 'GET', 'HEAD', 'POST', nan], dtype=object)"
      ]
     },
     "execution_count": 26,
     "metadata": {},
     "output_type": "execute_result"
    }
   ],
   "source": [
    "log['REQ_METHOD'].unique()"
   ]
  },
  {
   "cell_type": "code",
   "execution_count": 27,
   "metadata": {},
   "outputs": [
    {
     "data": {
      "text/plain": [
       "42"
      ]
     },
     "execution_count": 27,
     "metadata": {},
     "output_type": "execute_result"
    }
   ],
   "source": [
    "log['REQ_METHOD'].isna().sum()"
   ]
  },
  {
   "cell_type": "markdown",
   "metadata": {},
   "source": [
    "Vemos que hay algunos registros sin request method, veamos que ocurre:"
   ]
  },
  {
   "cell_type": "code",
   "execution_count": 28,
   "metadata": {},
   "outputs": [
    {
     "data": {
      "text/plain": [
       "array(['localhost 220.181.108.108 - - [23/Feb/2014:14:14:41 +0100] \"-\" 408 - \"-\" \"-\" VLOG=-',\n",
       "       'localhost 69.61.47.114 - - [23/Feb/2014:16:42:58 +0100] \"-\" 408 - \"-\" \"-\" VLOG=-',\n",
       "       'localhost 220.181.108.79 - - [23/Feb/2014:19:21:43 +0100] \"-\" 408 - \"-\" \"-\" VLOG=-',\n",
       "       'localhost 188.87.251.64 - - [24/Feb/2014:08:48:59 +0100] \"-\" 408 - \"-\" \"-\" VLOG=-',\n",
       "       'localhost 180.76.5.214 - - [24/Feb/2014:10:23:25 +0100] \"-\" 408 - \"-\" \"-\" VLOG=-',\n",
       "       'localhost 62.175.136.122 - - [24/Feb/2014:13:08:00 +0100] \"-\" 408 - \"-\" \"-\" VLOG=-',\n",
       "       'localhost 62.175.136.122 - - [24/Feb/2014:13:08:01 +0100] \"-\" 408 - \"-\" \"-\" VLOG=-',\n",
       "       'localhost 62.175.136.122 - - [24/Feb/2014:13:08:02 +0100] \"-\" 408 - \"-\" \"-\" VLOG=-',\n",
       "       'localhost 87.111.221.104 - - [24/Feb/2014:13:28:49 +0100] \"-\" 408 - \"-\" \"-\" VLOG=-',\n",
       "       'localhost 87.111.221.104 - - [24/Feb/2014:13:30:51 +0100] \"-\" 408 - \"-\" \"-\" VLOG=-',\n",
       "       'localhost 87.111.221.104 - - [24/Feb/2014:13:30:55 +0100] \"-\" 408 - \"-\" \"-\" VLOG=-',\n",
       "       'localhost 87.111.221.104 - - [24/Feb/2014:13:30:56 +0100] \"-\" 408 - \"-\" \"-\" VLOG=-',\n",
       "       'localhost 87.111.221.104 - - [24/Feb/2014:13:32:27 +0100] \"-\" 408 - \"-\" \"-\" VLOG=-',\n",
       "       'localhost 69.61.47.114 - - [25/Feb/2014:08:51:34 +0100] \"-\" 408 - \"-\" \"-\" VLOG=-',\n",
       "       'localhost 68.43.159.123 - - [25/Feb/2014:17:07:52 +0100] \"\\\\x80w\\\\x01\\\\x03\\\\x01\" 400 285 \"-\" \"-\" VLOG=-',\n",
       "       'localhost 81.61.2.96 - - [25/Feb/2014:17:16:24 +0100] \"-\" 408 - \"-\" \"-\" VLOG=-',\n",
       "       'localhost 81.61.2.96 - - [25/Feb/2014:17:18:05 +0100] \"-\" 408 - \"-\" \"-\" VLOG=-',\n",
       "       'localhost 41.98.4.88 - - [25/Feb/2014:20:20:34 +0100] \"-\" 408 - \"-\" \"-\" VLOG=-',\n",
       "       'localhost 123.125.71.17 - - [26/Feb/2014:04:09:41 +0100] \"-\" 408 - \"-\" \"-\" VLOG=-',\n",
       "       'localhost 92.58.211.126 - - [26/Feb/2014:18:04:35 +0100] \"-\" 408 - \"-\" \"-\" VLOG=-',\n",
       "       'localhost 92.58.211.126 - - [26/Feb/2014:18:04:36 +0100] \"-\" 408 - \"-\" \"-\" VLOG=-',\n",
       "       'localhost 194.208.79.18 - - [27/Feb/2014:13:50:37 +0100] \"\\\\x80w\\\\x01\\\\x03\\\\x01\" 400 285 \"-\" \"-\" VLOG=-',\n",
       "       'localhost 77.228.170.201 - - [27/Feb/2014:15:16:37 +0100] \"-\" 408 - \"-\" \"-\" VLOG=-',\n",
       "       'localhost 186.10.21.10 - - [27/Feb/2014:16:56:02 +0100] \"-\" 408 - \"-\" \"-\" VLOG=-',\n",
       "       'localhost 123.125.71.33 - - [27/Feb/2014:21:52:23 +0100] \"-\" 408 - \"-\" \"-\" VLOG=-',\n",
       "       'localhost 85.57.252.60 - - [27/Feb/2014:23:26:48 +0100] \"-\" 408 - \"-\" \"-\" VLOG=-',\n",
       "       'localhost 85.57.252.60 - - [27/Feb/2014:23:26:49 +0100] \"-\" 408 - \"-\" \"-\" VLOG=-',\n",
       "       'localhost 85.57.252.60 - - [27/Feb/2014:23:26:54 +0100] \"-\" 408 - \"-\" \"-\" VLOG=-',\n",
       "       'localhost 85.57.252.60 - - [27/Feb/2014:23:26:55 +0100] \"-\" 408 - \"-\" \"-\" VLOG=-',\n",
       "       'localhost 70.166.82.85 - - [01/Mar/2014:10:10:39 +0100] \"\\\\x80w\\\\x01\\\\x03\\\\x01\" 400 285 \"-\" \"-\" VLOG=-',\n",
       "       'localhost 68.200.46.208 - - [01/Mar/2014:18:52:46 +0100] \"\\\\x80w\\\\x01\\\\x03\\\\x01\" 400 285 \"-\" \"-\" VLOG=-',\n",
       "       'localhost 72.45.160.188 - - [01/Mar/2014:18:57:02 +0100] \"\\\\x80w\\\\x01\\\\x03\\\\x01\" 400 285 \"-\" \"-\" VLOG=-'],\n",
       "      dtype=object)"
      ]
     },
     "execution_count": 28,
     "metadata": {},
     "output_type": "execute_result"
    }
   ],
   "source": [
    "logfile[log['REQ_METHOD'].isna()][0].unique()"
   ]
  },
  {
   "cell_type": "markdown",
   "metadata": {},
   "source": [
    "No se genera un valor de **método** de request cuando hay:\n",
    "- Error **408** que significa (_The client did not produce a request within the time that the server was prepared to wait. The client MAY repeat the request without modifications at any later time._ ) \n",
    "- O cuando hay una respuesta **\\\\x80w\\\\x01\\\\x03\\\\x01**, que tiene que ver con un error de autenticacion con el servidor.\n",
    "Más adelante veremos como trato estos valores nulos en el campo METHOD."
   ]
  },
  {
   "cell_type": "code",
   "execution_count": 29,
   "metadata": {},
   "outputs": [],
   "source": [
    "# Request Source\n",
    "log['REQ_SOURCE']=df[0].str.extract(r'([A-Z]+\\s\\S+\\sH)')[0].str.split(' ',expand=True)[1]"
   ]
  },
  {
   "cell_type": "code",
   "execution_count": 30,
   "metadata": {},
   "outputs": [
    {
     "data": {
      "text/plain": [
       "(66083,)"
      ]
     },
     "execution_count": 30,
     "metadata": {},
     "output_type": "execute_result"
    }
   ],
   "source": [
    "log['REQ_SOURCE'].unique().shape"
   ]
  },
  {
   "cell_type": "code",
   "execution_count": 31,
   "metadata": {},
   "outputs": [
    {
     "data": {
      "text/plain": [
       "42"
      ]
     },
     "execution_count": 31,
     "metadata": {},
     "output_type": "execute_result"
    }
   ],
   "source": [
    "log['REQ_SOURCE'].isna().sum()"
   ]
  },
  {
   "cell_type": "markdown",
   "metadata": {},
   "source": [
    "42 valores nulos que tienen correspondencia con los 42 registros que no generaron método de request."
   ]
  },
  {
   "cell_type": "code",
   "execution_count": 32,
   "metadata": {},
   "outputs": [],
   "source": [
    "# Protocolo\n",
    "log['REQ_PROTOCOL']=df[0].str.extract(r'(HTTP/\\d\\.\\d+)')"
   ]
  },
  {
   "cell_type": "code",
   "execution_count": 33,
   "metadata": {},
   "outputs": [
    {
     "data": {
      "text/plain": [
       "array(['HTTP/1.0', 'HTTP/1.1', nan], dtype=object)"
      ]
     },
     "execution_count": 33,
     "metadata": {},
     "output_type": "execute_result"
    }
   ],
   "source": [
    "log['REQ_PROTOCOL'].unique() "
   ]
  },
  {
   "cell_type": "code",
   "execution_count": 34,
   "metadata": {},
   "outputs": [
    {
     "data": {
      "text/plain": [
       "42"
      ]
     },
     "execution_count": 34,
     "metadata": {},
     "output_type": "execute_result"
    }
   ],
   "source": [
    "log['REQ_SOURCE'].isna().sum()"
   ]
  },
  {
   "cell_type": "markdown",
   "metadata": {},
   "source": [
    "Status y tamaño de archivo está en el archivo inicial y los extraeré desde allí. La manera más sencilla es dividiendo la cadena de caracteres con el comando split."
   ]
  },
  {
   "cell_type": "code",
   "execution_count": 35,
   "metadata": {},
   "outputs": [],
   "source": [
    "# Status\n",
    "log['REQ_STATUS']=logfile[0].str.split('\" ',expand=True)[1].str.split(' ',expand=True)[0]"
   ]
  },
  {
   "cell_type": "code",
   "execution_count": 36,
   "metadata": {},
   "outputs": [
    {
     "data": {
      "text/plain": [
       "array(['200', '404', '304', '502', '301', '403', '408', '400', '206',\n",
       "       '401', '302', '500'], dtype=object)"
      ]
     },
     "execution_count": 36,
     "metadata": {},
     "output_type": "execute_result"
    }
   ],
   "source": [
    "log['REQ_STATUS'].unique() "
   ]
  },
  {
   "cell_type": "code",
   "execution_count": 37,
   "metadata": {},
   "outputs": [],
   "source": [
    "# Size\n",
    "log['SIZE']=logfile[0].str.split('\" ',expand=True)[1].str.split(' ',expand=True)[1]\n"
   ]
  },
  {
   "cell_type": "code",
   "execution_count": 38,
   "metadata": {},
   "outputs": [
    {
     "data": {
      "text/plain": [
       "(15548,)"
      ]
     },
     "execution_count": 38,
     "metadata": {},
     "output_type": "execute_result"
    }
   ],
   "source": [
    "log['SIZE'].unique().shape"
   ]
  },
  {
   "cell_type": "code",
   "execution_count": 39,
   "metadata": {},
   "outputs": [
    {
     "data": {
      "text/plain": [
       "False"
      ]
     },
     "execution_count": 39,
     "metadata": {},
     "output_type": "execute_result"
    }
   ],
   "source": [
    "# Any missing vale for size?\n",
    "log['SIZE'].isna().any()"
   ]
  },
  {
   "cell_type": "code",
   "execution_count": 40,
   "metadata": {},
   "outputs": [
    {
     "data": {
      "text/plain": [
       "42335"
      ]
     },
     "execution_count": 40,
     "metadata": {},
     "output_type": "execute_result"
    }
   ],
   "source": [
    "# Not numeric values for SIZE\n",
    "log.shape[0]-log['SIZE'].str.isnumeric().sum()"
   ]
  },
  {
   "cell_type": "code",
   "execution_count": 41,
   "metadata": {},
   "outputs": [
    {
     "data": {
      "text/plain": [
       "array(['-'], dtype=object)"
      ]
     },
     "execution_count": 41,
     "metadata": {},
     "output_type": "execute_result"
    }
   ],
   "source": [
    "# Diferent values for no numeric in SIZE\n",
    "log[log['SIZE'].str.isnumeric()==False]['SIZE'].unique()"
   ]
  },
  {
   "cell_type": "markdown",
   "metadata": {},
   "source": [
    "En la variable tamaño tenemos un grupo de valores '-' que representan cero bites."
   ]
  },
  {
   "cell_type": "markdown",
   "metadata": {},
   "source": [
    "### 2.4. REFERER y AGENT-USER"
   ]
  },
  {
   "cell_type": "code",
   "execution_count": 42,
   "metadata": {},
   "outputs": [],
   "source": [
    "# Referer\n",
    "log['REFERER']=df[1].str.slice(1,-1)"
   ]
  },
  {
   "cell_type": "code",
   "execution_count": 43,
   "metadata": {},
   "outputs": [
    {
     "data": {
      "text/plain": [
       "(2507,)"
      ]
     },
     "execution_count": 43,
     "metadata": {},
     "output_type": "execute_result"
    }
   ],
   "source": [
    "log['REFERER'].unique().shape"
   ]
  },
  {
   "cell_type": "code",
   "execution_count": 44,
   "metadata": {},
   "outputs": [],
   "source": [
    "# Agent-User\n",
    "log['USER-AGENT']=df[2].str.slice(1,-1)"
   ]
  },
  {
   "cell_type": "code",
   "execution_count": 45,
   "metadata": {},
   "outputs": [
    {
     "data": {
      "text/plain": [
       "(735,)"
      ]
     },
     "execution_count": 45,
     "metadata": {},
     "output_type": "execute_result"
    }
   ],
   "source": [
    "# Número de UA diferentes\n",
    "log['USER-AGENT'].unique().shape"
   ]
  },
  {
   "cell_type": "code",
   "execution_count": 46,
   "metadata": {},
   "outputs": [
    {
     "name": "stdout",
     "output_type": "stream",
     "text": [
      "<class 'pandas.core.frame.DataFrame'>\n",
      "RangeIndex: 261873 entries, 0 to 261872\n",
      "Data columns (total 11 columns):\n",
      " #   Column        Non-Null Count   Dtype                               \n",
      "---  ------        --------------   -----                               \n",
      " 0   DATE          261873 non-null  datetime64[ns, pytz.FixedOffset(60)]\n",
      " 1   HOST          261873 non-null  object                              \n",
      " 2   IP            261873 non-null  object                              \n",
      " 3   USER          261873 non-null  object                              \n",
      " 4   REQ_METHOD    261831 non-null  object                              \n",
      " 5   REQ_SOURCE    261831 non-null  object                              \n",
      " 6   REQ_PROTOCOL  261831 non-null  object                              \n",
      " 7   REQ_STATUS    261873 non-null  object                              \n",
      " 8   SIZE          261873 non-null  object                              \n",
      " 9   REFERER       261873 non-null  object                              \n",
      " 10  USER-AGENT    261873 non-null  object                              \n",
      "dtypes: datetime64[ns, pytz.FixedOffset(60)](1), object(10)\n",
      "memory usage: 22.0+ MB\n"
     ]
    }
   ],
   "source": [
    "log.info()"
   ]
  },
  {
   "cell_type": "code",
   "execution_count": 47,
   "metadata": {},
   "outputs": [],
   "source": [
    "# Elimino archivos que no necesito\n",
    "del df"
   ]
  },
  {
   "cell_type": "markdown",
   "metadata": {},
   "source": [
    "### 2.5.1. Asignando valores Nan.\n",
    "\n",
    "Hemos visto que hay 42 registros que no han generado un request apropiado, así que vamos a asignarle un valor adecuado para que dejen de contar como nulos."
   ]
  },
  {
   "cell_type": "code",
   "execution_count": 48,
   "metadata": {},
   "outputs": [
    {
     "data": {
      "text/html": [
       "<div>\n",
       "<style scoped>\n",
       "    .dataframe tbody tr th:only-of-type {\n",
       "        vertical-align: middle;\n",
       "    }\n",
       "\n",
       "    .dataframe tbody tr th {\n",
       "        vertical-align: top;\n",
       "    }\n",
       "\n",
       "    .dataframe thead th {\n",
       "        text-align: right;\n",
       "    }\n",
       "</style>\n",
       "<table border=\"1\" class=\"dataframe\">\n",
       "  <thead>\n",
       "    <tr style=\"text-align: right;\">\n",
       "      <th></th>\n",
       "      <th>DATE</th>\n",
       "      <th>HOST</th>\n",
       "      <th>IP</th>\n",
       "      <th>USER</th>\n",
       "      <th>REQ_METHOD</th>\n",
       "      <th>REQ_SOURCE</th>\n",
       "      <th>REQ_PROTOCOL</th>\n",
       "      <th>REQ_STATUS</th>\n",
       "      <th>SIZE</th>\n",
       "      <th>REFERER</th>\n",
       "      <th>USER-AGENT</th>\n",
       "    </tr>\n",
       "  </thead>\n",
       "  <tbody>\n",
       "    <tr>\n",
       "      <th>17928</th>\n",
       "      <td>2014-02-23 14:14:41+01:00</td>\n",
       "      <td>localhost</td>\n",
       "      <td>220.181.108.108</td>\n",
       "      <td>-</td>\n",
       "      <td>NaN</td>\n",
       "      <td>NaN</td>\n",
       "      <td>NaN</td>\n",
       "      <td>408</td>\n",
       "      <td>-</td>\n",
       "      <td>-</td>\n",
       "      <td>-</td>\n",
       "    </tr>\n",
       "    <tr>\n",
       "      <th>24211</th>\n",
       "      <td>2014-02-23 16:42:58+01:00</td>\n",
       "      <td>localhost</td>\n",
       "      <td>69.61.47.114</td>\n",
       "      <td>-</td>\n",
       "      <td>NaN</td>\n",
       "      <td>NaN</td>\n",
       "      <td>NaN</td>\n",
       "      <td>408</td>\n",
       "      <td>-</td>\n",
       "      <td>-</td>\n",
       "      <td>-</td>\n",
       "    </tr>\n",
       "    <tr>\n",
       "      <th>29514</th>\n",
       "      <td>2014-02-23 19:21:43+01:00</td>\n",
       "      <td>localhost</td>\n",
       "      <td>220.181.108.79</td>\n",
       "      <td>-</td>\n",
       "      <td>NaN</td>\n",
       "      <td>NaN</td>\n",
       "      <td>NaN</td>\n",
       "      <td>408</td>\n",
       "      <td>-</td>\n",
       "      <td>-</td>\n",
       "      <td>-</td>\n",
       "    </tr>\n",
       "    <tr>\n",
       "      <th>49414</th>\n",
       "      <td>2014-02-24 08:48:59+01:00</td>\n",
       "      <td>localhost</td>\n",
       "      <td>188.87.251.64</td>\n",
       "      <td>-</td>\n",
       "      <td>NaN</td>\n",
       "      <td>NaN</td>\n",
       "      <td>NaN</td>\n",
       "      <td>408</td>\n",
       "      <td>-</td>\n",
       "      <td>-</td>\n",
       "      <td>-</td>\n",
       "    </tr>\n",
       "    <tr>\n",
       "      <th>52518</th>\n",
       "      <td>2014-02-24 10:23:25+01:00</td>\n",
       "      <td>localhost</td>\n",
       "      <td>180.76.5.214</td>\n",
       "      <td>-</td>\n",
       "      <td>NaN</td>\n",
       "      <td>NaN</td>\n",
       "      <td>NaN</td>\n",
       "      <td>408</td>\n",
       "      <td>-</td>\n",
       "      <td>-</td>\n",
       "      <td>-</td>\n",
       "    </tr>\n",
       "    <tr>\n",
       "      <th>64244</th>\n",
       "      <td>2014-02-24 13:08:00+01:00</td>\n",
       "      <td>localhost</td>\n",
       "      <td>62.175.136.122</td>\n",
       "      <td>-</td>\n",
       "      <td>NaN</td>\n",
       "      <td>NaN</td>\n",
       "      <td>NaN</td>\n",
       "      <td>408</td>\n",
       "      <td>-</td>\n",
       "      <td>-</td>\n",
       "      <td>-</td>\n",
       "    </tr>\n",
       "    <tr>\n",
       "      <th>64249</th>\n",
       "      <td>2014-02-24 13:08:01+01:00</td>\n",
       "      <td>localhost</td>\n",
       "      <td>62.175.136.122</td>\n",
       "      <td>-</td>\n",
       "      <td>NaN</td>\n",
       "      <td>NaN</td>\n",
       "      <td>NaN</td>\n",
       "      <td>408</td>\n",
       "      <td>-</td>\n",
       "      <td>-</td>\n",
       "      <td>-</td>\n",
       "    </tr>\n",
       "    <tr>\n",
       "      <th>64251</th>\n",
       "      <td>2014-02-24 13:08:02+01:00</td>\n",
       "      <td>localhost</td>\n",
       "      <td>62.175.136.122</td>\n",
       "      <td>-</td>\n",
       "      <td>NaN</td>\n",
       "      <td>NaN</td>\n",
       "      <td>NaN</td>\n",
       "      <td>408</td>\n",
       "      <td>-</td>\n",
       "      <td>-</td>\n",
       "      <td>-</td>\n",
       "    </tr>\n",
       "    <tr>\n",
       "      <th>66209</th>\n",
       "      <td>2014-02-24 13:28:49+01:00</td>\n",
       "      <td>localhost</td>\n",
       "      <td>87.111.221.104</td>\n",
       "      <td>-</td>\n",
       "      <td>NaN</td>\n",
       "      <td>NaN</td>\n",
       "      <td>NaN</td>\n",
       "      <td>408</td>\n",
       "      <td>-</td>\n",
       "      <td>-</td>\n",
       "      <td>-</td>\n",
       "    </tr>\n",
       "    <tr>\n",
       "      <th>66370</th>\n",
       "      <td>2014-02-24 13:30:51+01:00</td>\n",
       "      <td>localhost</td>\n",
       "      <td>87.111.221.104</td>\n",
       "      <td>-</td>\n",
       "      <td>NaN</td>\n",
       "      <td>NaN</td>\n",
       "      <td>NaN</td>\n",
       "      <td>408</td>\n",
       "      <td>-</td>\n",
       "      <td>-</td>\n",
       "      <td>-</td>\n",
       "    </tr>\n",
       "    <tr>\n",
       "      <th>66372</th>\n",
       "      <td>2014-02-24 13:30:55+01:00</td>\n",
       "      <td>localhost</td>\n",
       "      <td>87.111.221.104</td>\n",
       "      <td>-</td>\n",
       "      <td>NaN</td>\n",
       "      <td>NaN</td>\n",
       "      <td>NaN</td>\n",
       "      <td>408</td>\n",
       "      <td>-</td>\n",
       "      <td>-</td>\n",
       "      <td>-</td>\n",
       "    </tr>\n",
       "    <tr>\n",
       "      <th>66373</th>\n",
       "      <td>2014-02-24 13:30:56+01:00</td>\n",
       "      <td>localhost</td>\n",
       "      <td>87.111.221.104</td>\n",
       "      <td>-</td>\n",
       "      <td>NaN</td>\n",
       "      <td>NaN</td>\n",
       "      <td>NaN</td>\n",
       "      <td>408</td>\n",
       "      <td>-</td>\n",
       "      <td>-</td>\n",
       "      <td>-</td>\n",
       "    </tr>\n",
       "    <tr>\n",
       "      <th>66376</th>\n",
       "      <td>2014-02-24 13:30:56+01:00</td>\n",
       "      <td>localhost</td>\n",
       "      <td>87.111.221.104</td>\n",
       "      <td>-</td>\n",
       "      <td>NaN</td>\n",
       "      <td>NaN</td>\n",
       "      <td>NaN</td>\n",
       "      <td>408</td>\n",
       "      <td>-</td>\n",
       "      <td>-</td>\n",
       "      <td>-</td>\n",
       "    </tr>\n",
       "    <tr>\n",
       "      <th>66377</th>\n",
       "      <td>2014-02-24 13:30:56+01:00</td>\n",
       "      <td>localhost</td>\n",
       "      <td>87.111.221.104</td>\n",
       "      <td>-</td>\n",
       "      <td>NaN</td>\n",
       "      <td>NaN</td>\n",
       "      <td>NaN</td>\n",
       "      <td>408</td>\n",
       "      <td>-</td>\n",
       "      <td>-</td>\n",
       "      <td>-</td>\n",
       "    </tr>\n",
       "    <tr>\n",
       "      <th>66655</th>\n",
       "      <td>2014-02-24 13:32:27+01:00</td>\n",
       "      <td>localhost</td>\n",
       "      <td>87.111.221.104</td>\n",
       "      <td>-</td>\n",
       "      <td>NaN</td>\n",
       "      <td>NaN</td>\n",
       "      <td>NaN</td>\n",
       "      <td>408</td>\n",
       "      <td>-</td>\n",
       "      <td>-</td>\n",
       "      <td>-</td>\n",
       "    </tr>\n",
       "    <tr>\n",
       "      <th>66656</th>\n",
       "      <td>2014-02-24 13:32:27+01:00</td>\n",
       "      <td>localhost</td>\n",
       "      <td>87.111.221.104</td>\n",
       "      <td>-</td>\n",
       "      <td>NaN</td>\n",
       "      <td>NaN</td>\n",
       "      <td>NaN</td>\n",
       "      <td>408</td>\n",
       "      <td>-</td>\n",
       "      <td>-</td>\n",
       "      <td>-</td>\n",
       "    </tr>\n",
       "    <tr>\n",
       "      <th>66657</th>\n",
       "      <td>2014-02-24 13:32:27+01:00</td>\n",
       "      <td>localhost</td>\n",
       "      <td>87.111.221.104</td>\n",
       "      <td>-</td>\n",
       "      <td>NaN</td>\n",
       "      <td>NaN</td>\n",
       "      <td>NaN</td>\n",
       "      <td>408</td>\n",
       "      <td>-</td>\n",
       "      <td>-</td>\n",
       "      <td>-</td>\n",
       "    </tr>\n",
       "    <tr>\n",
       "      <th>66658</th>\n",
       "      <td>2014-02-24 13:32:27+01:00</td>\n",
       "      <td>localhost</td>\n",
       "      <td>87.111.221.104</td>\n",
       "      <td>-</td>\n",
       "      <td>NaN</td>\n",
       "      <td>NaN</td>\n",
       "      <td>NaN</td>\n",
       "      <td>408</td>\n",
       "      <td>-</td>\n",
       "      <td>-</td>\n",
       "      <td>-</td>\n",
       "    </tr>\n",
       "    <tr>\n",
       "      <th>94739</th>\n",
       "      <td>2014-02-25 08:51:34+01:00</td>\n",
       "      <td>localhost</td>\n",
       "      <td>69.61.47.114</td>\n",
       "      <td>-</td>\n",
       "      <td>NaN</td>\n",
       "      <td>NaN</td>\n",
       "      <td>NaN</td>\n",
       "      <td>408</td>\n",
       "      <td>-</td>\n",
       "      <td>-</td>\n",
       "      <td>-</td>\n",
       "    </tr>\n",
       "    <tr>\n",
       "      <th>122077</th>\n",
       "      <td>2014-02-25 17:07:52+01:00</td>\n",
       "      <td>localhost</td>\n",
       "      <td>68.43.159.123</td>\n",
       "      <td>-</td>\n",
       "      <td>NaN</td>\n",
       "      <td>NaN</td>\n",
       "      <td>NaN</td>\n",
       "      <td>400</td>\n",
       "      <td>285</td>\n",
       "      <td>-</td>\n",
       "      <td>-</td>\n",
       "    </tr>\n",
       "    <tr>\n",
       "      <th>122862</th>\n",
       "      <td>2014-02-25 17:16:24+01:00</td>\n",
       "      <td>localhost</td>\n",
       "      <td>81.61.2.96</td>\n",
       "      <td>-</td>\n",
       "      <td>NaN</td>\n",
       "      <td>NaN</td>\n",
       "      <td>NaN</td>\n",
       "      <td>408</td>\n",
       "      <td>-</td>\n",
       "      <td>-</td>\n",
       "      <td>-</td>\n",
       "    </tr>\n",
       "    <tr>\n",
       "      <th>123041</th>\n",
       "      <td>2014-02-25 17:18:05+01:00</td>\n",
       "      <td>localhost</td>\n",
       "      <td>81.61.2.96</td>\n",
       "      <td>-</td>\n",
       "      <td>NaN</td>\n",
       "      <td>NaN</td>\n",
       "      <td>NaN</td>\n",
       "      <td>408</td>\n",
       "      <td>-</td>\n",
       "      <td>-</td>\n",
       "      <td>-</td>\n",
       "    </tr>\n",
       "    <tr>\n",
       "      <th>136378</th>\n",
       "      <td>2014-02-25 20:20:34+01:00</td>\n",
       "      <td>localhost</td>\n",
       "      <td>41.98.4.88</td>\n",
       "      <td>-</td>\n",
       "      <td>NaN</td>\n",
       "      <td>NaN</td>\n",
       "      <td>NaN</td>\n",
       "      <td>408</td>\n",
       "      <td>-</td>\n",
       "      <td>-</td>\n",
       "      <td>-</td>\n",
       "    </tr>\n",
       "    <tr>\n",
       "      <th>149850</th>\n",
       "      <td>2014-02-26 04:09:41+01:00</td>\n",
       "      <td>localhost</td>\n",
       "      <td>123.125.71.17</td>\n",
       "      <td>-</td>\n",
       "      <td>NaN</td>\n",
       "      <td>NaN</td>\n",
       "      <td>NaN</td>\n",
       "      <td>408</td>\n",
       "      <td>-</td>\n",
       "      <td>-</td>\n",
       "      <td>-</td>\n",
       "    </tr>\n",
       "    <tr>\n",
       "      <th>171219</th>\n",
       "      <td>2014-02-26 18:04:35+01:00</td>\n",
       "      <td>localhost</td>\n",
       "      <td>92.58.211.126</td>\n",
       "      <td>-</td>\n",
       "      <td>NaN</td>\n",
       "      <td>NaN</td>\n",
       "      <td>NaN</td>\n",
       "      <td>408</td>\n",
       "      <td>-</td>\n",
       "      <td>-</td>\n",
       "      <td>-</td>\n",
       "    </tr>\n",
       "    <tr>\n",
       "      <th>171220</th>\n",
       "      <td>2014-02-26 18:04:35+01:00</td>\n",
       "      <td>localhost</td>\n",
       "      <td>92.58.211.126</td>\n",
       "      <td>-</td>\n",
       "      <td>NaN</td>\n",
       "      <td>NaN</td>\n",
       "      <td>NaN</td>\n",
       "      <td>408</td>\n",
       "      <td>-</td>\n",
       "      <td>-</td>\n",
       "      <td>-</td>\n",
       "    </tr>\n",
       "    <tr>\n",
       "      <th>171221</th>\n",
       "      <td>2014-02-26 18:04:35+01:00</td>\n",
       "      <td>localhost</td>\n",
       "      <td>92.58.211.126</td>\n",
       "      <td>-</td>\n",
       "      <td>NaN</td>\n",
       "      <td>NaN</td>\n",
       "      <td>NaN</td>\n",
       "      <td>408</td>\n",
       "      <td>-</td>\n",
       "      <td>-</td>\n",
       "      <td>-</td>\n",
       "    </tr>\n",
       "    <tr>\n",
       "      <th>171222</th>\n",
       "      <td>2014-02-26 18:04:35+01:00</td>\n",
       "      <td>localhost</td>\n",
       "      <td>92.58.211.126</td>\n",
       "      <td>-</td>\n",
       "      <td>NaN</td>\n",
       "      <td>NaN</td>\n",
       "      <td>NaN</td>\n",
       "      <td>408</td>\n",
       "      <td>-</td>\n",
       "      <td>-</td>\n",
       "      <td>-</td>\n",
       "    </tr>\n",
       "    <tr>\n",
       "      <th>171223</th>\n",
       "      <td>2014-02-26 18:04:36+01:00</td>\n",
       "      <td>localhost</td>\n",
       "      <td>92.58.211.126</td>\n",
       "      <td>-</td>\n",
       "      <td>NaN</td>\n",
       "      <td>NaN</td>\n",
       "      <td>NaN</td>\n",
       "      <td>408</td>\n",
       "      <td>-</td>\n",
       "      <td>-</td>\n",
       "      <td>-</td>\n",
       "    </tr>\n",
       "    <tr>\n",
       "      <th>196635</th>\n",
       "      <td>2014-02-27 13:50:37+01:00</td>\n",
       "      <td>localhost</td>\n",
       "      <td>194.208.79.18</td>\n",
       "      <td>-</td>\n",
       "      <td>NaN</td>\n",
       "      <td>NaN</td>\n",
       "      <td>NaN</td>\n",
       "      <td>400</td>\n",
       "      <td>285</td>\n",
       "      <td>-</td>\n",
       "      <td>-</td>\n",
       "    </tr>\n",
       "    <tr>\n",
       "      <th>200345</th>\n",
       "      <td>2014-02-27 15:16:37+01:00</td>\n",
       "      <td>localhost</td>\n",
       "      <td>77.228.170.201</td>\n",
       "      <td>-</td>\n",
       "      <td>NaN</td>\n",
       "      <td>NaN</td>\n",
       "      <td>NaN</td>\n",
       "      <td>408</td>\n",
       "      <td>-</td>\n",
       "      <td>-</td>\n",
       "      <td>-</td>\n",
       "    </tr>\n",
       "    <tr>\n",
       "      <th>200354</th>\n",
       "      <td>2014-02-27 15:16:37+01:00</td>\n",
       "      <td>localhost</td>\n",
       "      <td>77.228.170.201</td>\n",
       "      <td>-</td>\n",
       "      <td>NaN</td>\n",
       "      <td>NaN</td>\n",
       "      <td>NaN</td>\n",
       "      <td>408</td>\n",
       "      <td>-</td>\n",
       "      <td>-</td>\n",
       "      <td>-</td>\n",
       "    </tr>\n",
       "    <tr>\n",
       "      <th>210907</th>\n",
       "      <td>2014-02-27 16:56:02+01:00</td>\n",
       "      <td>localhost</td>\n",
       "      <td>186.10.21.10</td>\n",
       "      <td>-</td>\n",
       "      <td>NaN</td>\n",
       "      <td>NaN</td>\n",
       "      <td>NaN</td>\n",
       "      <td>408</td>\n",
       "      <td>-</td>\n",
       "      <td>-</td>\n",
       "      <td>-</td>\n",
       "    </tr>\n",
       "    <tr>\n",
       "      <th>220693</th>\n",
       "      <td>2014-02-27 21:52:23+01:00</td>\n",
       "      <td>localhost</td>\n",
       "      <td>123.125.71.33</td>\n",
       "      <td>-</td>\n",
       "      <td>NaN</td>\n",
       "      <td>NaN</td>\n",
       "      <td>NaN</td>\n",
       "      <td>408</td>\n",
       "      <td>-</td>\n",
       "      <td>-</td>\n",
       "      <td>-</td>\n",
       "    </tr>\n",
       "    <tr>\n",
       "      <th>222572</th>\n",
       "      <td>2014-02-27 23:26:48+01:00</td>\n",
       "      <td>localhost</td>\n",
       "      <td>85.57.252.60</td>\n",
       "      <td>-</td>\n",
       "      <td>NaN</td>\n",
       "      <td>NaN</td>\n",
       "      <td>NaN</td>\n",
       "      <td>408</td>\n",
       "      <td>-</td>\n",
       "      <td>-</td>\n",
       "      <td>-</td>\n",
       "    </tr>\n",
       "    <tr>\n",
       "      <th>222573</th>\n",
       "      <td>2014-02-27 23:26:49+01:00</td>\n",
       "      <td>localhost</td>\n",
       "      <td>85.57.252.60</td>\n",
       "      <td>-</td>\n",
       "      <td>NaN</td>\n",
       "      <td>NaN</td>\n",
       "      <td>NaN</td>\n",
       "      <td>408</td>\n",
       "      <td>-</td>\n",
       "      <td>-</td>\n",
       "      <td>-</td>\n",
       "    </tr>\n",
       "    <tr>\n",
       "      <th>222576</th>\n",
       "      <td>2014-02-27 23:26:54+01:00</td>\n",
       "      <td>localhost</td>\n",
       "      <td>85.57.252.60</td>\n",
       "      <td>-</td>\n",
       "      <td>NaN</td>\n",
       "      <td>NaN</td>\n",
       "      <td>NaN</td>\n",
       "      <td>408</td>\n",
       "      <td>-</td>\n",
       "      <td>-</td>\n",
       "      <td>-</td>\n",
       "    </tr>\n",
       "    <tr>\n",
       "      <th>222577</th>\n",
       "      <td>2014-02-27 23:26:55+01:00</td>\n",
       "      <td>localhost</td>\n",
       "      <td>85.57.252.60</td>\n",
       "      <td>-</td>\n",
       "      <td>NaN</td>\n",
       "      <td>NaN</td>\n",
       "      <td>NaN</td>\n",
       "      <td>408</td>\n",
       "      <td>-</td>\n",
       "      <td>-</td>\n",
       "      <td>-</td>\n",
       "    </tr>\n",
       "    <tr>\n",
       "      <th>222578</th>\n",
       "      <td>2014-02-27 23:26:55+01:00</td>\n",
       "      <td>localhost</td>\n",
       "      <td>85.57.252.60</td>\n",
       "      <td>-</td>\n",
       "      <td>NaN</td>\n",
       "      <td>NaN</td>\n",
       "      <td>NaN</td>\n",
       "      <td>408</td>\n",
       "      <td>-</td>\n",
       "      <td>-</td>\n",
       "      <td>-</td>\n",
       "    </tr>\n",
       "    <tr>\n",
       "      <th>246949</th>\n",
       "      <td>2014-03-01 10:10:39+01:00</td>\n",
       "      <td>localhost</td>\n",
       "      <td>70.166.82.85</td>\n",
       "      <td>-</td>\n",
       "      <td>NaN</td>\n",
       "      <td>NaN</td>\n",
       "      <td>NaN</td>\n",
       "      <td>400</td>\n",
       "      <td>285</td>\n",
       "      <td>-</td>\n",
       "      <td>-</td>\n",
       "    </tr>\n",
       "    <tr>\n",
       "      <th>255719</th>\n",
       "      <td>2014-03-01 18:52:46+01:00</td>\n",
       "      <td>localhost</td>\n",
       "      <td>68.200.46.208</td>\n",
       "      <td>-</td>\n",
       "      <td>NaN</td>\n",
       "      <td>NaN</td>\n",
       "      <td>NaN</td>\n",
       "      <td>400</td>\n",
       "      <td>285</td>\n",
       "      <td>-</td>\n",
       "      <td>-</td>\n",
       "    </tr>\n",
       "    <tr>\n",
       "      <th>255830</th>\n",
       "      <td>2014-03-01 18:57:02+01:00</td>\n",
       "      <td>localhost</td>\n",
       "      <td>72.45.160.188</td>\n",
       "      <td>-</td>\n",
       "      <td>NaN</td>\n",
       "      <td>NaN</td>\n",
       "      <td>NaN</td>\n",
       "      <td>400</td>\n",
       "      <td>285</td>\n",
       "      <td>-</td>\n",
       "      <td>-</td>\n",
       "    </tr>\n",
       "  </tbody>\n",
       "</table>\n",
       "</div>"
      ],
      "text/plain": [
       "                            DATE        HOST               IP USER REQ_METHOD  \\\n",
       "17928  2014-02-23 14:14:41+01:00  localhost   220.181.108.108    -        NaN   \n",
       "24211  2014-02-23 16:42:58+01:00  localhost      69.61.47.114    -        NaN   \n",
       "29514  2014-02-23 19:21:43+01:00  localhost    220.181.108.79    -        NaN   \n",
       "49414  2014-02-24 08:48:59+01:00  localhost     188.87.251.64    -        NaN   \n",
       "52518  2014-02-24 10:23:25+01:00  localhost      180.76.5.214    -        NaN   \n",
       "64244  2014-02-24 13:08:00+01:00  localhost    62.175.136.122    -        NaN   \n",
       "64249  2014-02-24 13:08:01+01:00  localhost    62.175.136.122    -        NaN   \n",
       "64251  2014-02-24 13:08:02+01:00  localhost    62.175.136.122    -        NaN   \n",
       "66209  2014-02-24 13:28:49+01:00  localhost    87.111.221.104    -        NaN   \n",
       "66370  2014-02-24 13:30:51+01:00  localhost    87.111.221.104    -        NaN   \n",
       "66372  2014-02-24 13:30:55+01:00  localhost    87.111.221.104    -        NaN   \n",
       "66373  2014-02-24 13:30:56+01:00  localhost    87.111.221.104    -        NaN   \n",
       "66376  2014-02-24 13:30:56+01:00  localhost    87.111.221.104    -        NaN   \n",
       "66377  2014-02-24 13:30:56+01:00  localhost    87.111.221.104    -        NaN   \n",
       "66655  2014-02-24 13:32:27+01:00  localhost    87.111.221.104    -        NaN   \n",
       "66656  2014-02-24 13:32:27+01:00  localhost    87.111.221.104    -        NaN   \n",
       "66657  2014-02-24 13:32:27+01:00  localhost    87.111.221.104    -        NaN   \n",
       "66658  2014-02-24 13:32:27+01:00  localhost    87.111.221.104    -        NaN   \n",
       "94739  2014-02-25 08:51:34+01:00  localhost      69.61.47.114    -        NaN   \n",
       "122077 2014-02-25 17:07:52+01:00  localhost     68.43.159.123    -        NaN   \n",
       "122862 2014-02-25 17:16:24+01:00  localhost        81.61.2.96    -        NaN   \n",
       "123041 2014-02-25 17:18:05+01:00  localhost        81.61.2.96    -        NaN   \n",
       "136378 2014-02-25 20:20:34+01:00  localhost        41.98.4.88    -        NaN   \n",
       "149850 2014-02-26 04:09:41+01:00  localhost     123.125.71.17    -        NaN   \n",
       "171219 2014-02-26 18:04:35+01:00  localhost     92.58.211.126    -        NaN   \n",
       "171220 2014-02-26 18:04:35+01:00  localhost     92.58.211.126    -        NaN   \n",
       "171221 2014-02-26 18:04:35+01:00  localhost     92.58.211.126    -        NaN   \n",
       "171222 2014-02-26 18:04:35+01:00  localhost     92.58.211.126    -        NaN   \n",
       "171223 2014-02-26 18:04:36+01:00  localhost     92.58.211.126    -        NaN   \n",
       "196635 2014-02-27 13:50:37+01:00  localhost     194.208.79.18    -        NaN   \n",
       "200345 2014-02-27 15:16:37+01:00  localhost    77.228.170.201    -        NaN   \n",
       "200354 2014-02-27 15:16:37+01:00  localhost    77.228.170.201    -        NaN   \n",
       "210907 2014-02-27 16:56:02+01:00  localhost      186.10.21.10    -        NaN   \n",
       "220693 2014-02-27 21:52:23+01:00  localhost     123.125.71.33    -        NaN   \n",
       "222572 2014-02-27 23:26:48+01:00  localhost      85.57.252.60    -        NaN   \n",
       "222573 2014-02-27 23:26:49+01:00  localhost      85.57.252.60    -        NaN   \n",
       "222576 2014-02-27 23:26:54+01:00  localhost      85.57.252.60    -        NaN   \n",
       "222577 2014-02-27 23:26:55+01:00  localhost      85.57.252.60    -        NaN   \n",
       "222578 2014-02-27 23:26:55+01:00  localhost      85.57.252.60    -        NaN   \n",
       "246949 2014-03-01 10:10:39+01:00  localhost      70.166.82.85    -        NaN   \n",
       "255719 2014-03-01 18:52:46+01:00  localhost     68.200.46.208    -        NaN   \n",
       "255830 2014-03-01 18:57:02+01:00  localhost     72.45.160.188    -        NaN   \n",
       "\n",
       "       REQ_SOURCE REQ_PROTOCOL REQ_STATUS SIZE REFERER USER-AGENT  \n",
       "17928         NaN          NaN        408    -       -          -  \n",
       "24211         NaN          NaN        408    -       -          -  \n",
       "29514         NaN          NaN        408    -       -          -  \n",
       "49414         NaN          NaN        408    -       -          -  \n",
       "52518         NaN          NaN        408    -       -          -  \n",
       "64244         NaN          NaN        408    -       -          -  \n",
       "64249         NaN          NaN        408    -       -          -  \n",
       "64251         NaN          NaN        408    -       -          -  \n",
       "66209         NaN          NaN        408    -       -          -  \n",
       "66370         NaN          NaN        408    -       -          -  \n",
       "66372         NaN          NaN        408    -       -          -  \n",
       "66373         NaN          NaN        408    -       -          -  \n",
       "66376         NaN          NaN        408    -       -          -  \n",
       "66377         NaN          NaN        408    -       -          -  \n",
       "66655         NaN          NaN        408    -       -          -  \n",
       "66656         NaN          NaN        408    -       -          -  \n",
       "66657         NaN          NaN        408    -       -          -  \n",
       "66658         NaN          NaN        408    -       -          -  \n",
       "94739         NaN          NaN        408    -       -          -  \n",
       "122077        NaN          NaN        400  285       -          -  \n",
       "122862        NaN          NaN        408    -       -          -  \n",
       "123041        NaN          NaN        408    -       -          -  \n",
       "136378        NaN          NaN        408    -       -          -  \n",
       "149850        NaN          NaN        408    -       -          -  \n",
       "171219        NaN          NaN        408    -       -          -  \n",
       "171220        NaN          NaN        408    -       -          -  \n",
       "171221        NaN          NaN        408    -       -          -  \n",
       "171222        NaN          NaN        408    -       -          -  \n",
       "171223        NaN          NaN        408    -       -          -  \n",
       "196635        NaN          NaN        400  285       -          -  \n",
       "200345        NaN          NaN        408    -       -          -  \n",
       "200354        NaN          NaN        408    -       -          -  \n",
       "210907        NaN          NaN        408    -       -          -  \n",
       "220693        NaN          NaN        408    -       -          -  \n",
       "222572        NaN          NaN        408    -       -          -  \n",
       "222573        NaN          NaN        408    -       -          -  \n",
       "222576        NaN          NaN        408    -       -          -  \n",
       "222577        NaN          NaN        408    -       -          -  \n",
       "222578        NaN          NaN        408    -       -          -  \n",
       "246949        NaN          NaN        400  285       -          -  \n",
       "255719        NaN          NaN        400  285       -          -  \n",
       "255830        NaN          NaN        400  285       -          -  "
      ]
     },
     "execution_count": 48,
     "metadata": {},
     "output_type": "execute_result"
    }
   ],
   "source": [
    "log[log['REQ_METHOD'].isna()]"
   ]
  },
  {
   "cell_type": "markdown",
   "metadata": {},
   "source": [
    "Hay dos causas para estos Nan, los errores 408 y los 400 y tienen que tratarse de forma diferente.\n",
    "\n",
    "Para los errores 408 (Time out) dejaremos todos los valores en 'Unknown' i '-'.\n",
    "\n",
    "Para los errores 400 (bad request) asignaremos \\x80w\\x01\\x03\\x01 al REQ_METHOD y '-' al resto."
   ]
  },
  {
   "cell_type": "code",
   "execution_count": 49,
   "metadata": {},
   "outputs": [],
   "source": [
    "log.loc[(log['REQ_METHOD'].isna())&(log['REQ_STATUS']=='400'),'REQ_METHOD']='\\\\x80w\\\\x01\\\\x03\\\\x01'"
   ]
  },
  {
   "cell_type": "code",
   "execution_count": 50,
   "metadata": {},
   "outputs": [],
   "source": [
    "log.loc[(log['REQ_METHOD'].isna())&(log['REQ_STATUS']=='408'),'REQ_METHOD']='-'"
   ]
  },
  {
   "cell_type": "code",
   "execution_count": 51,
   "metadata": {},
   "outputs": [
    {
     "data": {
      "text/html": [
       "<div>\n",
       "<style scoped>\n",
       "    .dataframe tbody tr th:only-of-type {\n",
       "        vertical-align: middle;\n",
       "    }\n",
       "\n",
       "    .dataframe tbody tr th {\n",
       "        vertical-align: top;\n",
       "    }\n",
       "\n",
       "    .dataframe thead th {\n",
       "        text-align: right;\n",
       "    }\n",
       "</style>\n",
       "<table border=\"1\" class=\"dataframe\">\n",
       "  <thead>\n",
       "    <tr style=\"text-align: right;\">\n",
       "      <th></th>\n",
       "      <th>DATE</th>\n",
       "      <th>HOST</th>\n",
       "      <th>IP</th>\n",
       "      <th>USER</th>\n",
       "      <th>REQ_METHOD</th>\n",
       "      <th>REQ_SOURCE</th>\n",
       "      <th>REQ_PROTOCOL</th>\n",
       "      <th>REQ_STATUS</th>\n",
       "      <th>SIZE</th>\n",
       "      <th>REFERER</th>\n",
       "      <th>USER-AGENT</th>\n",
       "    </tr>\n",
       "  </thead>\n",
       "  <tbody>\n",
       "    <tr>\n",
       "      <th>17928</th>\n",
       "      <td>2014-02-23 14:14:41+01:00</td>\n",
       "      <td>localhost</td>\n",
       "      <td>220.181.108.108</td>\n",
       "      <td>-</td>\n",
       "      <td>-</td>\n",
       "      <td>NaN</td>\n",
       "      <td>NaN</td>\n",
       "      <td>408</td>\n",
       "      <td>-</td>\n",
       "      <td>-</td>\n",
       "      <td>-</td>\n",
       "    </tr>\n",
       "    <tr>\n",
       "      <th>24211</th>\n",
       "      <td>2014-02-23 16:42:58+01:00</td>\n",
       "      <td>localhost</td>\n",
       "      <td>69.61.47.114</td>\n",
       "      <td>-</td>\n",
       "      <td>-</td>\n",
       "      <td>NaN</td>\n",
       "      <td>NaN</td>\n",
       "      <td>408</td>\n",
       "      <td>-</td>\n",
       "      <td>-</td>\n",
       "      <td>-</td>\n",
       "    </tr>\n",
       "    <tr>\n",
       "      <th>29514</th>\n",
       "      <td>2014-02-23 19:21:43+01:00</td>\n",
       "      <td>localhost</td>\n",
       "      <td>220.181.108.79</td>\n",
       "      <td>-</td>\n",
       "      <td>-</td>\n",
       "      <td>NaN</td>\n",
       "      <td>NaN</td>\n",
       "      <td>408</td>\n",
       "      <td>-</td>\n",
       "      <td>-</td>\n",
       "      <td>-</td>\n",
       "    </tr>\n",
       "    <tr>\n",
       "      <th>49414</th>\n",
       "      <td>2014-02-24 08:48:59+01:00</td>\n",
       "      <td>localhost</td>\n",
       "      <td>188.87.251.64</td>\n",
       "      <td>-</td>\n",
       "      <td>-</td>\n",
       "      <td>NaN</td>\n",
       "      <td>NaN</td>\n",
       "      <td>408</td>\n",
       "      <td>-</td>\n",
       "      <td>-</td>\n",
       "      <td>-</td>\n",
       "    </tr>\n",
       "    <tr>\n",
       "      <th>52518</th>\n",
       "      <td>2014-02-24 10:23:25+01:00</td>\n",
       "      <td>localhost</td>\n",
       "      <td>180.76.5.214</td>\n",
       "      <td>-</td>\n",
       "      <td>-</td>\n",
       "      <td>NaN</td>\n",
       "      <td>NaN</td>\n",
       "      <td>408</td>\n",
       "      <td>-</td>\n",
       "      <td>-</td>\n",
       "      <td>-</td>\n",
       "    </tr>\n",
       "    <tr>\n",
       "      <th>64244</th>\n",
       "      <td>2014-02-24 13:08:00+01:00</td>\n",
       "      <td>localhost</td>\n",
       "      <td>62.175.136.122</td>\n",
       "      <td>-</td>\n",
       "      <td>-</td>\n",
       "      <td>NaN</td>\n",
       "      <td>NaN</td>\n",
       "      <td>408</td>\n",
       "      <td>-</td>\n",
       "      <td>-</td>\n",
       "      <td>-</td>\n",
       "    </tr>\n",
       "    <tr>\n",
       "      <th>64249</th>\n",
       "      <td>2014-02-24 13:08:01+01:00</td>\n",
       "      <td>localhost</td>\n",
       "      <td>62.175.136.122</td>\n",
       "      <td>-</td>\n",
       "      <td>-</td>\n",
       "      <td>NaN</td>\n",
       "      <td>NaN</td>\n",
       "      <td>408</td>\n",
       "      <td>-</td>\n",
       "      <td>-</td>\n",
       "      <td>-</td>\n",
       "    </tr>\n",
       "    <tr>\n",
       "      <th>64251</th>\n",
       "      <td>2014-02-24 13:08:02+01:00</td>\n",
       "      <td>localhost</td>\n",
       "      <td>62.175.136.122</td>\n",
       "      <td>-</td>\n",
       "      <td>-</td>\n",
       "      <td>NaN</td>\n",
       "      <td>NaN</td>\n",
       "      <td>408</td>\n",
       "      <td>-</td>\n",
       "      <td>-</td>\n",
       "      <td>-</td>\n",
       "    </tr>\n",
       "    <tr>\n",
       "      <th>66209</th>\n",
       "      <td>2014-02-24 13:28:49+01:00</td>\n",
       "      <td>localhost</td>\n",
       "      <td>87.111.221.104</td>\n",
       "      <td>-</td>\n",
       "      <td>-</td>\n",
       "      <td>NaN</td>\n",
       "      <td>NaN</td>\n",
       "      <td>408</td>\n",
       "      <td>-</td>\n",
       "      <td>-</td>\n",
       "      <td>-</td>\n",
       "    </tr>\n",
       "    <tr>\n",
       "      <th>66370</th>\n",
       "      <td>2014-02-24 13:30:51+01:00</td>\n",
       "      <td>localhost</td>\n",
       "      <td>87.111.221.104</td>\n",
       "      <td>-</td>\n",
       "      <td>-</td>\n",
       "      <td>NaN</td>\n",
       "      <td>NaN</td>\n",
       "      <td>408</td>\n",
       "      <td>-</td>\n",
       "      <td>-</td>\n",
       "      <td>-</td>\n",
       "    </tr>\n",
       "    <tr>\n",
       "      <th>66372</th>\n",
       "      <td>2014-02-24 13:30:55+01:00</td>\n",
       "      <td>localhost</td>\n",
       "      <td>87.111.221.104</td>\n",
       "      <td>-</td>\n",
       "      <td>-</td>\n",
       "      <td>NaN</td>\n",
       "      <td>NaN</td>\n",
       "      <td>408</td>\n",
       "      <td>-</td>\n",
       "      <td>-</td>\n",
       "      <td>-</td>\n",
       "    </tr>\n",
       "    <tr>\n",
       "      <th>66373</th>\n",
       "      <td>2014-02-24 13:30:56+01:00</td>\n",
       "      <td>localhost</td>\n",
       "      <td>87.111.221.104</td>\n",
       "      <td>-</td>\n",
       "      <td>-</td>\n",
       "      <td>NaN</td>\n",
       "      <td>NaN</td>\n",
       "      <td>408</td>\n",
       "      <td>-</td>\n",
       "      <td>-</td>\n",
       "      <td>-</td>\n",
       "    </tr>\n",
       "    <tr>\n",
       "      <th>66376</th>\n",
       "      <td>2014-02-24 13:30:56+01:00</td>\n",
       "      <td>localhost</td>\n",
       "      <td>87.111.221.104</td>\n",
       "      <td>-</td>\n",
       "      <td>-</td>\n",
       "      <td>NaN</td>\n",
       "      <td>NaN</td>\n",
       "      <td>408</td>\n",
       "      <td>-</td>\n",
       "      <td>-</td>\n",
       "      <td>-</td>\n",
       "    </tr>\n",
       "    <tr>\n",
       "      <th>66377</th>\n",
       "      <td>2014-02-24 13:30:56+01:00</td>\n",
       "      <td>localhost</td>\n",
       "      <td>87.111.221.104</td>\n",
       "      <td>-</td>\n",
       "      <td>-</td>\n",
       "      <td>NaN</td>\n",
       "      <td>NaN</td>\n",
       "      <td>408</td>\n",
       "      <td>-</td>\n",
       "      <td>-</td>\n",
       "      <td>-</td>\n",
       "    </tr>\n",
       "    <tr>\n",
       "      <th>66655</th>\n",
       "      <td>2014-02-24 13:32:27+01:00</td>\n",
       "      <td>localhost</td>\n",
       "      <td>87.111.221.104</td>\n",
       "      <td>-</td>\n",
       "      <td>-</td>\n",
       "      <td>NaN</td>\n",
       "      <td>NaN</td>\n",
       "      <td>408</td>\n",
       "      <td>-</td>\n",
       "      <td>-</td>\n",
       "      <td>-</td>\n",
       "    </tr>\n",
       "    <tr>\n",
       "      <th>66656</th>\n",
       "      <td>2014-02-24 13:32:27+01:00</td>\n",
       "      <td>localhost</td>\n",
       "      <td>87.111.221.104</td>\n",
       "      <td>-</td>\n",
       "      <td>-</td>\n",
       "      <td>NaN</td>\n",
       "      <td>NaN</td>\n",
       "      <td>408</td>\n",
       "      <td>-</td>\n",
       "      <td>-</td>\n",
       "      <td>-</td>\n",
       "    </tr>\n",
       "    <tr>\n",
       "      <th>66657</th>\n",
       "      <td>2014-02-24 13:32:27+01:00</td>\n",
       "      <td>localhost</td>\n",
       "      <td>87.111.221.104</td>\n",
       "      <td>-</td>\n",
       "      <td>-</td>\n",
       "      <td>NaN</td>\n",
       "      <td>NaN</td>\n",
       "      <td>408</td>\n",
       "      <td>-</td>\n",
       "      <td>-</td>\n",
       "      <td>-</td>\n",
       "    </tr>\n",
       "    <tr>\n",
       "      <th>66658</th>\n",
       "      <td>2014-02-24 13:32:27+01:00</td>\n",
       "      <td>localhost</td>\n",
       "      <td>87.111.221.104</td>\n",
       "      <td>-</td>\n",
       "      <td>-</td>\n",
       "      <td>NaN</td>\n",
       "      <td>NaN</td>\n",
       "      <td>408</td>\n",
       "      <td>-</td>\n",
       "      <td>-</td>\n",
       "      <td>-</td>\n",
       "    </tr>\n",
       "    <tr>\n",
       "      <th>94739</th>\n",
       "      <td>2014-02-25 08:51:34+01:00</td>\n",
       "      <td>localhost</td>\n",
       "      <td>69.61.47.114</td>\n",
       "      <td>-</td>\n",
       "      <td>-</td>\n",
       "      <td>NaN</td>\n",
       "      <td>NaN</td>\n",
       "      <td>408</td>\n",
       "      <td>-</td>\n",
       "      <td>-</td>\n",
       "      <td>-</td>\n",
       "    </tr>\n",
       "    <tr>\n",
       "      <th>122077</th>\n",
       "      <td>2014-02-25 17:07:52+01:00</td>\n",
       "      <td>localhost</td>\n",
       "      <td>68.43.159.123</td>\n",
       "      <td>-</td>\n",
       "      <td>\\x80w\\x01\\x03\\x01</td>\n",
       "      <td>NaN</td>\n",
       "      <td>NaN</td>\n",
       "      <td>400</td>\n",
       "      <td>285</td>\n",
       "      <td>-</td>\n",
       "      <td>-</td>\n",
       "    </tr>\n",
       "    <tr>\n",
       "      <th>122862</th>\n",
       "      <td>2014-02-25 17:16:24+01:00</td>\n",
       "      <td>localhost</td>\n",
       "      <td>81.61.2.96</td>\n",
       "      <td>-</td>\n",
       "      <td>-</td>\n",
       "      <td>NaN</td>\n",
       "      <td>NaN</td>\n",
       "      <td>408</td>\n",
       "      <td>-</td>\n",
       "      <td>-</td>\n",
       "      <td>-</td>\n",
       "    </tr>\n",
       "    <tr>\n",
       "      <th>123041</th>\n",
       "      <td>2014-02-25 17:18:05+01:00</td>\n",
       "      <td>localhost</td>\n",
       "      <td>81.61.2.96</td>\n",
       "      <td>-</td>\n",
       "      <td>-</td>\n",
       "      <td>NaN</td>\n",
       "      <td>NaN</td>\n",
       "      <td>408</td>\n",
       "      <td>-</td>\n",
       "      <td>-</td>\n",
       "      <td>-</td>\n",
       "    </tr>\n",
       "    <tr>\n",
       "      <th>136378</th>\n",
       "      <td>2014-02-25 20:20:34+01:00</td>\n",
       "      <td>localhost</td>\n",
       "      <td>41.98.4.88</td>\n",
       "      <td>-</td>\n",
       "      <td>-</td>\n",
       "      <td>NaN</td>\n",
       "      <td>NaN</td>\n",
       "      <td>408</td>\n",
       "      <td>-</td>\n",
       "      <td>-</td>\n",
       "      <td>-</td>\n",
       "    </tr>\n",
       "    <tr>\n",
       "      <th>149850</th>\n",
       "      <td>2014-02-26 04:09:41+01:00</td>\n",
       "      <td>localhost</td>\n",
       "      <td>123.125.71.17</td>\n",
       "      <td>-</td>\n",
       "      <td>-</td>\n",
       "      <td>NaN</td>\n",
       "      <td>NaN</td>\n",
       "      <td>408</td>\n",
       "      <td>-</td>\n",
       "      <td>-</td>\n",
       "      <td>-</td>\n",
       "    </tr>\n",
       "    <tr>\n",
       "      <th>171219</th>\n",
       "      <td>2014-02-26 18:04:35+01:00</td>\n",
       "      <td>localhost</td>\n",
       "      <td>92.58.211.126</td>\n",
       "      <td>-</td>\n",
       "      <td>-</td>\n",
       "      <td>NaN</td>\n",
       "      <td>NaN</td>\n",
       "      <td>408</td>\n",
       "      <td>-</td>\n",
       "      <td>-</td>\n",
       "      <td>-</td>\n",
       "    </tr>\n",
       "    <tr>\n",
       "      <th>171220</th>\n",
       "      <td>2014-02-26 18:04:35+01:00</td>\n",
       "      <td>localhost</td>\n",
       "      <td>92.58.211.126</td>\n",
       "      <td>-</td>\n",
       "      <td>-</td>\n",
       "      <td>NaN</td>\n",
       "      <td>NaN</td>\n",
       "      <td>408</td>\n",
       "      <td>-</td>\n",
       "      <td>-</td>\n",
       "      <td>-</td>\n",
       "    </tr>\n",
       "    <tr>\n",
       "      <th>171221</th>\n",
       "      <td>2014-02-26 18:04:35+01:00</td>\n",
       "      <td>localhost</td>\n",
       "      <td>92.58.211.126</td>\n",
       "      <td>-</td>\n",
       "      <td>-</td>\n",
       "      <td>NaN</td>\n",
       "      <td>NaN</td>\n",
       "      <td>408</td>\n",
       "      <td>-</td>\n",
       "      <td>-</td>\n",
       "      <td>-</td>\n",
       "    </tr>\n",
       "    <tr>\n",
       "      <th>171222</th>\n",
       "      <td>2014-02-26 18:04:35+01:00</td>\n",
       "      <td>localhost</td>\n",
       "      <td>92.58.211.126</td>\n",
       "      <td>-</td>\n",
       "      <td>-</td>\n",
       "      <td>NaN</td>\n",
       "      <td>NaN</td>\n",
       "      <td>408</td>\n",
       "      <td>-</td>\n",
       "      <td>-</td>\n",
       "      <td>-</td>\n",
       "    </tr>\n",
       "    <tr>\n",
       "      <th>171223</th>\n",
       "      <td>2014-02-26 18:04:36+01:00</td>\n",
       "      <td>localhost</td>\n",
       "      <td>92.58.211.126</td>\n",
       "      <td>-</td>\n",
       "      <td>-</td>\n",
       "      <td>NaN</td>\n",
       "      <td>NaN</td>\n",
       "      <td>408</td>\n",
       "      <td>-</td>\n",
       "      <td>-</td>\n",
       "      <td>-</td>\n",
       "    </tr>\n",
       "    <tr>\n",
       "      <th>196635</th>\n",
       "      <td>2014-02-27 13:50:37+01:00</td>\n",
       "      <td>localhost</td>\n",
       "      <td>194.208.79.18</td>\n",
       "      <td>-</td>\n",
       "      <td>\\x80w\\x01\\x03\\x01</td>\n",
       "      <td>NaN</td>\n",
       "      <td>NaN</td>\n",
       "      <td>400</td>\n",
       "      <td>285</td>\n",
       "      <td>-</td>\n",
       "      <td>-</td>\n",
       "    </tr>\n",
       "    <tr>\n",
       "      <th>200345</th>\n",
       "      <td>2014-02-27 15:16:37+01:00</td>\n",
       "      <td>localhost</td>\n",
       "      <td>77.228.170.201</td>\n",
       "      <td>-</td>\n",
       "      <td>-</td>\n",
       "      <td>NaN</td>\n",
       "      <td>NaN</td>\n",
       "      <td>408</td>\n",
       "      <td>-</td>\n",
       "      <td>-</td>\n",
       "      <td>-</td>\n",
       "    </tr>\n",
       "    <tr>\n",
       "      <th>200354</th>\n",
       "      <td>2014-02-27 15:16:37+01:00</td>\n",
       "      <td>localhost</td>\n",
       "      <td>77.228.170.201</td>\n",
       "      <td>-</td>\n",
       "      <td>-</td>\n",
       "      <td>NaN</td>\n",
       "      <td>NaN</td>\n",
       "      <td>408</td>\n",
       "      <td>-</td>\n",
       "      <td>-</td>\n",
       "      <td>-</td>\n",
       "    </tr>\n",
       "    <tr>\n",
       "      <th>210907</th>\n",
       "      <td>2014-02-27 16:56:02+01:00</td>\n",
       "      <td>localhost</td>\n",
       "      <td>186.10.21.10</td>\n",
       "      <td>-</td>\n",
       "      <td>-</td>\n",
       "      <td>NaN</td>\n",
       "      <td>NaN</td>\n",
       "      <td>408</td>\n",
       "      <td>-</td>\n",
       "      <td>-</td>\n",
       "      <td>-</td>\n",
       "    </tr>\n",
       "    <tr>\n",
       "      <th>220693</th>\n",
       "      <td>2014-02-27 21:52:23+01:00</td>\n",
       "      <td>localhost</td>\n",
       "      <td>123.125.71.33</td>\n",
       "      <td>-</td>\n",
       "      <td>-</td>\n",
       "      <td>NaN</td>\n",
       "      <td>NaN</td>\n",
       "      <td>408</td>\n",
       "      <td>-</td>\n",
       "      <td>-</td>\n",
       "      <td>-</td>\n",
       "    </tr>\n",
       "    <tr>\n",
       "      <th>222572</th>\n",
       "      <td>2014-02-27 23:26:48+01:00</td>\n",
       "      <td>localhost</td>\n",
       "      <td>85.57.252.60</td>\n",
       "      <td>-</td>\n",
       "      <td>-</td>\n",
       "      <td>NaN</td>\n",
       "      <td>NaN</td>\n",
       "      <td>408</td>\n",
       "      <td>-</td>\n",
       "      <td>-</td>\n",
       "      <td>-</td>\n",
       "    </tr>\n",
       "    <tr>\n",
       "      <th>222573</th>\n",
       "      <td>2014-02-27 23:26:49+01:00</td>\n",
       "      <td>localhost</td>\n",
       "      <td>85.57.252.60</td>\n",
       "      <td>-</td>\n",
       "      <td>-</td>\n",
       "      <td>NaN</td>\n",
       "      <td>NaN</td>\n",
       "      <td>408</td>\n",
       "      <td>-</td>\n",
       "      <td>-</td>\n",
       "      <td>-</td>\n",
       "    </tr>\n",
       "    <tr>\n",
       "      <th>222576</th>\n",
       "      <td>2014-02-27 23:26:54+01:00</td>\n",
       "      <td>localhost</td>\n",
       "      <td>85.57.252.60</td>\n",
       "      <td>-</td>\n",
       "      <td>-</td>\n",
       "      <td>NaN</td>\n",
       "      <td>NaN</td>\n",
       "      <td>408</td>\n",
       "      <td>-</td>\n",
       "      <td>-</td>\n",
       "      <td>-</td>\n",
       "    </tr>\n",
       "    <tr>\n",
       "      <th>222577</th>\n",
       "      <td>2014-02-27 23:26:55+01:00</td>\n",
       "      <td>localhost</td>\n",
       "      <td>85.57.252.60</td>\n",
       "      <td>-</td>\n",
       "      <td>-</td>\n",
       "      <td>NaN</td>\n",
       "      <td>NaN</td>\n",
       "      <td>408</td>\n",
       "      <td>-</td>\n",
       "      <td>-</td>\n",
       "      <td>-</td>\n",
       "    </tr>\n",
       "    <tr>\n",
       "      <th>222578</th>\n",
       "      <td>2014-02-27 23:26:55+01:00</td>\n",
       "      <td>localhost</td>\n",
       "      <td>85.57.252.60</td>\n",
       "      <td>-</td>\n",
       "      <td>-</td>\n",
       "      <td>NaN</td>\n",
       "      <td>NaN</td>\n",
       "      <td>408</td>\n",
       "      <td>-</td>\n",
       "      <td>-</td>\n",
       "      <td>-</td>\n",
       "    </tr>\n",
       "    <tr>\n",
       "      <th>246949</th>\n",
       "      <td>2014-03-01 10:10:39+01:00</td>\n",
       "      <td>localhost</td>\n",
       "      <td>70.166.82.85</td>\n",
       "      <td>-</td>\n",
       "      <td>\\x80w\\x01\\x03\\x01</td>\n",
       "      <td>NaN</td>\n",
       "      <td>NaN</td>\n",
       "      <td>400</td>\n",
       "      <td>285</td>\n",
       "      <td>-</td>\n",
       "      <td>-</td>\n",
       "    </tr>\n",
       "    <tr>\n",
       "      <th>255719</th>\n",
       "      <td>2014-03-01 18:52:46+01:00</td>\n",
       "      <td>localhost</td>\n",
       "      <td>68.200.46.208</td>\n",
       "      <td>-</td>\n",
       "      <td>\\x80w\\x01\\x03\\x01</td>\n",
       "      <td>NaN</td>\n",
       "      <td>NaN</td>\n",
       "      <td>400</td>\n",
       "      <td>285</td>\n",
       "      <td>-</td>\n",
       "      <td>-</td>\n",
       "    </tr>\n",
       "    <tr>\n",
       "      <th>255830</th>\n",
       "      <td>2014-03-01 18:57:02+01:00</td>\n",
       "      <td>localhost</td>\n",
       "      <td>72.45.160.188</td>\n",
       "      <td>-</td>\n",
       "      <td>\\x80w\\x01\\x03\\x01</td>\n",
       "      <td>NaN</td>\n",
       "      <td>NaN</td>\n",
       "      <td>400</td>\n",
       "      <td>285</td>\n",
       "      <td>-</td>\n",
       "      <td>-</td>\n",
       "    </tr>\n",
       "  </tbody>\n",
       "</table>\n",
       "</div>"
      ],
      "text/plain": [
       "                            DATE        HOST               IP USER  \\\n",
       "17928  2014-02-23 14:14:41+01:00  localhost   220.181.108.108    -   \n",
       "24211  2014-02-23 16:42:58+01:00  localhost      69.61.47.114    -   \n",
       "29514  2014-02-23 19:21:43+01:00  localhost    220.181.108.79    -   \n",
       "49414  2014-02-24 08:48:59+01:00  localhost     188.87.251.64    -   \n",
       "52518  2014-02-24 10:23:25+01:00  localhost      180.76.5.214    -   \n",
       "64244  2014-02-24 13:08:00+01:00  localhost    62.175.136.122    -   \n",
       "64249  2014-02-24 13:08:01+01:00  localhost    62.175.136.122    -   \n",
       "64251  2014-02-24 13:08:02+01:00  localhost    62.175.136.122    -   \n",
       "66209  2014-02-24 13:28:49+01:00  localhost    87.111.221.104    -   \n",
       "66370  2014-02-24 13:30:51+01:00  localhost    87.111.221.104    -   \n",
       "66372  2014-02-24 13:30:55+01:00  localhost    87.111.221.104    -   \n",
       "66373  2014-02-24 13:30:56+01:00  localhost    87.111.221.104    -   \n",
       "66376  2014-02-24 13:30:56+01:00  localhost    87.111.221.104    -   \n",
       "66377  2014-02-24 13:30:56+01:00  localhost    87.111.221.104    -   \n",
       "66655  2014-02-24 13:32:27+01:00  localhost    87.111.221.104    -   \n",
       "66656  2014-02-24 13:32:27+01:00  localhost    87.111.221.104    -   \n",
       "66657  2014-02-24 13:32:27+01:00  localhost    87.111.221.104    -   \n",
       "66658  2014-02-24 13:32:27+01:00  localhost    87.111.221.104    -   \n",
       "94739  2014-02-25 08:51:34+01:00  localhost      69.61.47.114    -   \n",
       "122077 2014-02-25 17:07:52+01:00  localhost     68.43.159.123    -   \n",
       "122862 2014-02-25 17:16:24+01:00  localhost        81.61.2.96    -   \n",
       "123041 2014-02-25 17:18:05+01:00  localhost        81.61.2.96    -   \n",
       "136378 2014-02-25 20:20:34+01:00  localhost        41.98.4.88    -   \n",
       "149850 2014-02-26 04:09:41+01:00  localhost     123.125.71.17    -   \n",
       "171219 2014-02-26 18:04:35+01:00  localhost     92.58.211.126    -   \n",
       "171220 2014-02-26 18:04:35+01:00  localhost     92.58.211.126    -   \n",
       "171221 2014-02-26 18:04:35+01:00  localhost     92.58.211.126    -   \n",
       "171222 2014-02-26 18:04:35+01:00  localhost     92.58.211.126    -   \n",
       "171223 2014-02-26 18:04:36+01:00  localhost     92.58.211.126    -   \n",
       "196635 2014-02-27 13:50:37+01:00  localhost     194.208.79.18    -   \n",
       "200345 2014-02-27 15:16:37+01:00  localhost    77.228.170.201    -   \n",
       "200354 2014-02-27 15:16:37+01:00  localhost    77.228.170.201    -   \n",
       "210907 2014-02-27 16:56:02+01:00  localhost      186.10.21.10    -   \n",
       "220693 2014-02-27 21:52:23+01:00  localhost     123.125.71.33    -   \n",
       "222572 2014-02-27 23:26:48+01:00  localhost      85.57.252.60    -   \n",
       "222573 2014-02-27 23:26:49+01:00  localhost      85.57.252.60    -   \n",
       "222576 2014-02-27 23:26:54+01:00  localhost      85.57.252.60    -   \n",
       "222577 2014-02-27 23:26:55+01:00  localhost      85.57.252.60    -   \n",
       "222578 2014-02-27 23:26:55+01:00  localhost      85.57.252.60    -   \n",
       "246949 2014-03-01 10:10:39+01:00  localhost      70.166.82.85    -   \n",
       "255719 2014-03-01 18:52:46+01:00  localhost     68.200.46.208    -   \n",
       "255830 2014-03-01 18:57:02+01:00  localhost     72.45.160.188    -   \n",
       "\n",
       "               REQ_METHOD REQ_SOURCE REQ_PROTOCOL REQ_STATUS SIZE REFERER  \\\n",
       "17928                   -        NaN          NaN        408    -       -   \n",
       "24211                   -        NaN          NaN        408    -       -   \n",
       "29514                   -        NaN          NaN        408    -       -   \n",
       "49414                   -        NaN          NaN        408    -       -   \n",
       "52518                   -        NaN          NaN        408    -       -   \n",
       "64244                   -        NaN          NaN        408    -       -   \n",
       "64249                   -        NaN          NaN        408    -       -   \n",
       "64251                   -        NaN          NaN        408    -       -   \n",
       "66209                   -        NaN          NaN        408    -       -   \n",
       "66370                   -        NaN          NaN        408    -       -   \n",
       "66372                   -        NaN          NaN        408    -       -   \n",
       "66373                   -        NaN          NaN        408    -       -   \n",
       "66376                   -        NaN          NaN        408    -       -   \n",
       "66377                   -        NaN          NaN        408    -       -   \n",
       "66655                   -        NaN          NaN        408    -       -   \n",
       "66656                   -        NaN          NaN        408    -       -   \n",
       "66657                   -        NaN          NaN        408    -       -   \n",
       "66658                   -        NaN          NaN        408    -       -   \n",
       "94739                   -        NaN          NaN        408    -       -   \n",
       "122077  \\x80w\\x01\\x03\\x01        NaN          NaN        400  285       -   \n",
       "122862                  -        NaN          NaN        408    -       -   \n",
       "123041                  -        NaN          NaN        408    -       -   \n",
       "136378                  -        NaN          NaN        408    -       -   \n",
       "149850                  -        NaN          NaN        408    -       -   \n",
       "171219                  -        NaN          NaN        408    -       -   \n",
       "171220                  -        NaN          NaN        408    -       -   \n",
       "171221                  -        NaN          NaN        408    -       -   \n",
       "171222                  -        NaN          NaN        408    -       -   \n",
       "171223                  -        NaN          NaN        408    -       -   \n",
       "196635  \\x80w\\x01\\x03\\x01        NaN          NaN        400  285       -   \n",
       "200345                  -        NaN          NaN        408    -       -   \n",
       "200354                  -        NaN          NaN        408    -       -   \n",
       "210907                  -        NaN          NaN        408    -       -   \n",
       "220693                  -        NaN          NaN        408    -       -   \n",
       "222572                  -        NaN          NaN        408    -       -   \n",
       "222573                  -        NaN          NaN        408    -       -   \n",
       "222576                  -        NaN          NaN        408    -       -   \n",
       "222577                  -        NaN          NaN        408    -       -   \n",
       "222578                  -        NaN          NaN        408    -       -   \n",
       "246949  \\x80w\\x01\\x03\\x01        NaN          NaN        400  285       -   \n",
       "255719  \\x80w\\x01\\x03\\x01        NaN          NaN        400  285       -   \n",
       "255830  \\x80w\\x01\\x03\\x01        NaN          NaN        400  285       -   \n",
       "\n",
       "       USER-AGENT  \n",
       "17928           -  \n",
       "24211           -  \n",
       "29514           -  \n",
       "49414           -  \n",
       "52518           -  \n",
       "64244           -  \n",
       "64249           -  \n",
       "64251           -  \n",
       "66209           -  \n",
       "66370           -  \n",
       "66372           -  \n",
       "66373           -  \n",
       "66376           -  \n",
       "66377           -  \n",
       "66655           -  \n",
       "66656           -  \n",
       "66657           -  \n",
       "66658           -  \n",
       "94739           -  \n",
       "122077          -  \n",
       "122862          -  \n",
       "123041          -  \n",
       "136378          -  \n",
       "149850          -  \n",
       "171219          -  \n",
       "171220          -  \n",
       "171221          -  \n",
       "171222          -  \n",
       "171223          -  \n",
       "196635          -  \n",
       "200345          -  \n",
       "200354          -  \n",
       "210907          -  \n",
       "220693          -  \n",
       "222572          -  \n",
       "222573          -  \n",
       "222576          -  \n",
       "222577          -  \n",
       "222578          -  \n",
       "246949          -  \n",
       "255719          -  \n",
       "255830          -  "
      ]
     },
     "execution_count": 51,
     "metadata": {},
     "output_type": "execute_result"
    }
   ],
   "source": [
    "log[log['REQ_PROTOCOL'].isna()]"
   ]
  },
  {
   "cell_type": "code",
   "execution_count": 52,
   "metadata": {},
   "outputs": [],
   "source": [
    "log.loc[log['REQ_PROTOCOL'].isna(),['REQ_SOURCE','REQ_PROTOCOL']]='-'"
   ]
  },
  {
   "cell_type": "code",
   "execution_count": 53,
   "metadata": {},
   "outputs": [
    {
     "data": {
      "text/plain": [
       "DATE            False\n",
       "HOST            False\n",
       "IP              False\n",
       "USER            False\n",
       "REQ_METHOD      False\n",
       "REQ_SOURCE      False\n",
       "REQ_PROTOCOL    False\n",
       "REQ_STATUS      False\n",
       "SIZE            False\n",
       "REFERER         False\n",
       "USER-AGENT      False\n",
       "dtype: bool"
      ]
     },
     "execution_count": 53,
     "metadata": {},
     "output_type": "execute_result"
    }
   ],
   "source": [
    "# Any Nan\n",
    "log.isna().any()"
   ]
  },
  {
   "cell_type": "markdown",
   "metadata": {},
   "source": [
    "Hemos visto que en la columna SIZE había valores nulos con formato '-', como quiero convertir esta columna a tipo numérico vamos a sustituir este valor por 0."
   ]
  },
  {
   "cell_type": "code",
   "execution_count": 54,
   "metadata": {},
   "outputs": [],
   "source": [
    "# Imputo a 0 Nan de SIZE\n",
    "log.loc[log['SIZE']=='-','SIZE']=0"
   ]
  },
  {
   "cell_type": "code",
   "execution_count": 55,
   "metadata": {},
   "outputs": [],
   "source": [
    "# SIZE a NUMERICO\n",
    "log['SIZE']=log['SIZE'].astype('int')"
   ]
  },
  {
   "cell_type": "code",
   "execution_count": 56,
   "metadata": {},
   "outputs": [
    {
     "name": "stdout",
     "output_type": "stream",
     "text": [
      "<class 'pandas.core.frame.DataFrame'>\n",
      "RangeIndex: 261873 entries, 0 to 261872\n",
      "Data columns (total 11 columns):\n",
      " #   Column        Non-Null Count   Dtype                               \n",
      "---  ------        --------------   -----                               \n",
      " 0   DATE          261873 non-null  datetime64[ns, pytz.FixedOffset(60)]\n",
      " 1   HOST          261873 non-null  object                              \n",
      " 2   IP            261873 non-null  object                              \n",
      " 3   USER          261873 non-null  object                              \n",
      " 4   REQ_METHOD    261873 non-null  object                              \n",
      " 5   REQ_SOURCE    261873 non-null  object                              \n",
      " 6   REQ_PROTOCOL  261873 non-null  object                              \n",
      " 7   REQ_STATUS    261873 non-null  object                              \n",
      " 8   SIZE          261873 non-null  int32                               \n",
      " 9   REFERER       261873 non-null  object                              \n",
      " 10  USER-AGENT    261873 non-null  object                              \n",
      "dtypes: datetime64[ns, pytz.FixedOffset(60)](1), int32(1), object(9)\n",
      "memory usage: 21.0+ MB\n"
     ]
    }
   ],
   "source": [
    "log.info()"
   ]
  },
  {
   "cell_type": "code",
   "execution_count": 57,
   "metadata": {},
   "outputs": [],
   "source": [
    "log=log.sort_values(by='DATE')"
   ]
  },
  {
   "cell_type": "markdown",
   "metadata": {},
   "source": [
    "## 3. Nuevas variables."
   ]
  },
  {
   "cell_type": "markdown",
   "metadata": {},
   "source": [
    "### 3.1. Variables derivadas de la fecha.\n",
    "\n",
    "Voy a crear tres variables derivadas de la fecha, dia de la semana y hora del día"
   ]
  },
  {
   "cell_type": "code",
   "execution_count": 58,
   "metadata": {},
   "outputs": [
    {
     "data": {
      "text/plain": [
       "(Timestamp('2014-02-23 03:10:31+0100', tz='pytz.FixedOffset(60)'),\n",
       " Timestamp('2014-03-02 03:10:18+0100', tz='pytz.FixedOffset(60)'))"
      ]
     },
     "execution_count": 58,
     "metadata": {},
     "output_type": "execute_result"
    }
   ],
   "source": [
    "log['DATE'].min(),log['DATE'].max()"
   ]
  },
  {
   "cell_type": "markdown",
   "metadata": {},
   "source": [
    "Parece que tenemos los registros de una semana."
   ]
  },
  {
   "cell_type": "code",
   "execution_count": 59,
   "metadata": {},
   "outputs": [],
   "source": [
    "log['DAYoWEEK']=log['DATE'].dt.dayofweek"
   ]
  },
  {
   "cell_type": "code",
   "execution_count": 60,
   "metadata": {},
   "outputs": [],
   "source": [
    "log['Hour']=log['DATE'].dt.hour"
   ]
  },
  {
   "cell_type": "markdown",
   "metadata": {},
   "source": [
    "### Exercici 3\n",
    "Geolocalitza les IP's. Aqui tens una pagina de interes :IP2Locattion: https://blog.ip2location.com/knowledge-base/how-to-add-a-sub-account-in-ip2location/\n",
    "\n"
   ]
  },
  {
   "cell_type": "markdown",
   "metadata": {},
   "source": [
    "### 3.2. Variables derivadas de IP. Geolocalización.\n",
    "\n",
    "Voy a obtener primero un array con las direciones con el método unique. Este array será el que usemos para extraer la información. "
   ]
  },
  {
   "cell_type": "code",
   "execution_count": 61,
   "metadata": {},
   "outputs": [
    {
     "data": {
      "text/plain": [
       "(2921,)"
      ]
     },
     "execution_count": 61,
     "metadata": {},
     "output_type": "execute_result"
    }
   ],
   "source": [
    "log['IP'].unique().shape"
   ]
  },
  {
   "cell_type": "markdown",
   "metadata": {},
   "source": [
    "Han accedido a nuestra web 2921 IPs diferentes.Voy a intentar geolocalizarlas y añadir la información de país, ciudad y región."
   ]
  },
  {
   "cell_type": "code",
   "execution_count": 62,
   "metadata": {},
   "outputs": [],
   "source": [
    "# Extraigo listado de direcciones IP\n",
    "IPS=log['IP'].unique()"
   ]
  },
  {
   "cell_type": "code",
   "execution_count": 63,
   "metadata": {},
   "outputs": [],
   "source": [
    "# Array a dataframe\n",
    "IPS=pd.DataFrame(IPS)"
   ]
  },
  {
   "cell_type": "markdown",
   "metadata": {},
   "source": [
    "#### 3.2.1. Freegeoip.\n",
    "\n",
    "Escribo una función utilizando la librería urllib2 y posteriormente utilizo apply para aplicar la función a cada fila del dataframe de IPs."
   ]
  },
  {
   "cell_type": "code",
   "execution_count": 64,
   "metadata": {},
   "outputs": [],
   "source": [
    "# Defino una función que obtenga los datos de geolocalización de las IPs\n",
    "def ipInfo(addr=\"\"):\n",
    "    if addr == \"\":\n",
    "        url = \"https://freegeoip.app/json/\"\n",
    "    else:\n",
    "        url = \"https://freegeoip.app/json/\" + addr \n",
    "\n",
    "    response = urlopen(url)\n",
    "    data = json.load(response)\n",
    "    return data"
   ]
  },
  {
   "cell_type": "code",
   "execution_count": 65,
   "metadata": {},
   "outputs": [],
   "source": [
    "# Scrapping \n",
    "#CITY=IPS[0].apply(lambda x: ipInfo(x))"
   ]
  },
  {
   "cell_type": "code",
   "execution_count": 66,
   "metadata": {},
   "outputs": [],
   "source": [
    "#CITY # archivo con datos de ubicación de IPs"
   ]
  },
  {
   "cell_type": "code",
   "execution_count": 67,
   "metadata": {},
   "outputs": [],
   "source": [
    "# File to pickle (guardo el archivo en formato binario)\n",
    "#with open('geoloc.pickle','wb') as archivo:\n",
    "#        pickle.dump(CITY,archivo)"
   ]
  },
  {
   "cell_type": "code",
   "execution_count": 68,
   "metadata": {},
   "outputs": [],
   "source": [
    "#import requests\n",
    "#def geolocaliza(IP):\n",
    "#    archivo=requests.get('http://www.geoplugin.net/json.gp?ip='+var)\n",
    "#    return json.loads(archivo.content)"
   ]
  },
  {
   "cell_type": "code",
   "execution_count": 69,
   "metadata": {},
   "outputs": [],
   "source": [
    "#geoplugin_dic=IPS[0].apply(lambda x: geolocaliza(x))"
   ]
  },
  {
   "cell_type": "code",
   "execution_count": 70,
   "metadata": {},
   "outputs": [],
   "source": [
    "# Load geolocalization data\n",
    "IPSs=pd.read_pickle('geoloc.pickle')"
   ]
  },
  {
   "cell_type": "code",
   "execution_count": 71,
   "metadata": {},
   "outputs": [
    {
     "data": {
      "text/plain": [
       "2921"
      ]
     },
     "execution_count": 71,
     "metadata": {},
     "output_type": "execute_result"
    }
   ],
   "source": [
    "diccionario=IPSs.to_dict()\n",
    "len(diccionario)"
   ]
  },
  {
   "cell_type": "code",
   "execution_count": 72,
   "metadata": {},
   "outputs": [
    {
     "name": "stdout",
     "output_type": "stream",
     "text": [
      "<class 'pandas.core.frame.DataFrame'>\n",
      "Int64Index: 2921 entries, 0 to 2920\n",
      "Data columns (total 11 columns):\n",
      " #   Column        Non-Null Count  Dtype  \n",
      "---  ------        --------------  -----  \n",
      " 0   ip            2921 non-null   object \n",
      " 1   country_code  2921 non-null   object \n",
      " 2   country_name  2921 non-null   object \n",
      " 3   region_code   2921 non-null   object \n",
      " 4   region_name   2921 non-null   object \n",
      " 5   city          2921 non-null   object \n",
      " 6   zip_code      2921 non-null   object \n",
      " 7   time_zone     2921 non-null   object \n",
      " 8   latitude      2921 non-null   float64\n",
      " 9   longitude     2921 non-null   float64\n",
      " 10  metro_code    2921 non-null   int64  \n",
      "dtypes: float64(2), int64(1), object(8)\n",
      "memory usage: 273.8+ KB\n"
     ]
    }
   ],
   "source": [
    "IPSs=pd.DataFrame.from_dict(diccionario,orient='index')\n",
    "IPSs.info()"
   ]
  },
  {
   "cell_type": "code",
   "execution_count": 73,
   "metadata": {},
   "outputs": [],
   "source": [
    "IPSs.loc[IPSs['country_name']=='','country_name']='Unknown'\n",
    "IPSs.loc[IPSs['city']=='','city']='Unknown'\n",
    "IPSs.loc[IPSs['region_name']=='','region_name']='Unknown'"
   ]
  },
  {
   "cell_type": "code",
   "execution_count": 74,
   "metadata": {
    "scrolled": true
   },
   "outputs": [
    {
     "data": {
      "text/plain": [
       "(14, 1090, 902)"
      ]
     },
     "execution_count": 74,
     "metadata": {},
     "output_type": "execute_result"
    }
   ],
   "source": [
    "# Missed data\n",
    "IPSs[IPSs['country_name']=='Unknown'].shape[0],IPSs[IPSs['city']=='Unknown'].shape[0],IPSs[IPSs['region_name']=='Unknown'].shape[0]"
   ]
  },
  {
   "cell_type": "markdown",
   "metadata": {},
   "source": [
    "#### 3.2.2. Ip2geotools.\n",
    "\n",
    "En este caso voy a probar con la base de datos DbIpCity de Ip2geotools."
   ]
  },
  {
   "cell_type": "code",
   "execution_count": 75,
   "metadata": {},
   "outputs": [],
   "source": [
    "# Función para obtener datos IPs\n",
    "def localiza(ip):\n",
    "    try:\n",
    "        resp = DbIpCity.get(ip, api_key='free')\n",
    "        return (ip,resp.country,resp.city)\n",
    "    except:\n",
    "        return (ip,np.nan,np.nan)"
   ]
  },
  {
   "cell_type": "code",
   "execution_count": 76,
   "metadata": {},
   "outputs": [],
   "source": [
    "#nuevas_ips=IPS[0].apply(lambda x:localiza(x))"
   ]
  },
  {
   "cell_type": "code",
   "execution_count": 77,
   "metadata": {},
   "outputs": [],
   "source": [
    "#Obtengo datos IPs\n",
    "#nuevas_ips=pd.DataFrame.from_records(nuevas_ips,columns=['IP','country','city'])"
   ]
  },
  {
   "cell_type": "code",
   "execution_count": 78,
   "metadata": {},
   "outputs": [],
   "source": [
    "# File to pickle (guardo el archivo en formato binario)\n",
    "#with open('DbIpCity_Ip2geotools.pickle','wb') as archivo:\n",
    "#        pickle.dump(nuevas_ips,archivo)"
   ]
  },
  {
   "cell_type": "code",
   "execution_count": 79,
   "metadata": {},
   "outputs": [],
   "source": [
    "nuevas_ips=pd.read_pickle('DbIpCity_Ip2geotools.pickle')"
   ]
  },
  {
   "cell_type": "code",
   "execution_count": 80,
   "metadata": {},
   "outputs": [],
   "source": [
    "#nuevas_ips"
   ]
  },
  {
   "cell_type": "code",
   "execution_count": 81,
   "metadata": {},
   "outputs": [
    {
     "data": {
      "text/plain": [
       "IP            0\n",
       "country    1914\n",
       "city       1914\n",
       "dtype: int64"
      ]
     },
     "execution_count": 81,
     "metadata": {},
     "output_type": "execute_result"
    }
   ],
   "source": [
    "nuevas_ips.isna().sum(axis=0)"
   ]
  },
  {
   "cell_type": "markdown",
   "metadata": {},
   "source": [
    "#### 3.2.3. Geolite2.\n",
    "\n",
    "En este caso voy a probar con la API de Geolite."
   ]
  },
  {
   "cell_type": "code",
   "execution_count": 82,
   "metadata": {},
   "outputs": [],
   "source": [
    "# Función para obtener datos IPs\n",
    "def geolite_2(ip):\n",
    "    try:\n",
    "        x=geolite2.reader().get(ip)\n",
    "        tupla=(ip,\n",
    "               x['country']['names']['es'],\n",
    "               x['city']['names']['es'],\n",
    "               x['subdivisions'][0]['names']['es'])\n",
    "        geolite2.close()\n",
    "        return tupla\n",
    "    except:\n",
    "        return (ip,np.nan,np.nan,np.nan)\n"
   ]
  },
  {
   "cell_type": "code",
   "execution_count": 83,
   "metadata": {},
   "outputs": [],
   "source": [
    "#IPS_geolite=IPS[0].apply(lambda x:geolite_2(x))"
   ]
  },
  {
   "cell_type": "code",
   "execution_count": 84,
   "metadata": {},
   "outputs": [],
   "source": [
    "#Obtengo datos IPs\n",
    "#IPS_geolite=pd.DataFrame.from_records(IPS_geolite,columns=['IP','country','city','region'])"
   ]
  },
  {
   "cell_type": "code",
   "execution_count": 85,
   "metadata": {},
   "outputs": [],
   "source": [
    "# File to pickle (guardo el archivo en formato binario)\n",
    "#with open('geolite2.pickle','wb') as archivo:\n",
    "#        pickle.dump(IPS_geolite,archivo)"
   ]
  },
  {
   "cell_type": "code",
   "execution_count": 86,
   "metadata": {},
   "outputs": [],
   "source": [
    "IPS_geolite=pd.read_pickle('geolite2.pickle')"
   ]
  },
  {
   "cell_type": "code",
   "execution_count": 87,
   "metadata": {},
   "outputs": [
    {
     "data": {
      "text/plain": [
       "IP            0\n",
       "country    1477\n",
       "city       1477\n",
       "region     1477\n",
       "dtype: int64"
      ]
     },
     "execution_count": 87,
     "metadata": {},
     "output_type": "execute_result"
    }
   ],
   "source": [
    "IPS_geolite.isna().sum(axis=0)"
   ]
  },
  {
   "cell_type": "code",
   "execution_count": 88,
   "metadata": {},
   "outputs": [
    {
     "data": {
      "text/plain": [
       "('80.28.221.123', 'España', 'Torrejón de Ardoz', 'Madrid')"
      ]
     },
     "execution_count": 88,
     "metadata": {},
     "output_type": "execute_result"
    }
   ],
   "source": [
    "geolite_2('80.28.221.123')"
   ]
  },
  {
   "cell_type": "code",
   "execution_count": 89,
   "metadata": {},
   "outputs": [
    {
     "data": {
      "text/html": [
       "<div>\n",
       "<style scoped>\n",
       "    .dataframe tbody tr th:only-of-type {\n",
       "        vertical-align: middle;\n",
       "    }\n",
       "\n",
       "    .dataframe tbody tr th {\n",
       "        vertical-align: top;\n",
       "    }\n",
       "\n",
       "    .dataframe thead th {\n",
       "        text-align: right;\n",
       "    }\n",
       "</style>\n",
       "<table border=\"1\" class=\"dataframe\">\n",
       "  <thead>\n",
       "    <tr style=\"text-align: right;\">\n",
       "      <th></th>\n",
       "      <th>IP</th>\n",
       "      <th>country</th>\n",
       "      <th>city</th>\n",
       "      <th>region</th>\n",
       "    </tr>\n",
       "  </thead>\n",
       "  <tbody>\n",
       "    <tr>\n",
       "      <th>0</th>\n",
       "      <td>127.0.0.1</td>\n",
       "      <td>NaN</td>\n",
       "      <td>NaN</td>\n",
       "      <td>NaN</td>\n",
       "    </tr>\n",
       "    <tr>\n",
       "      <th>1</th>\n",
       "      <td>66.249.76.216</td>\n",
       "      <td>NaN</td>\n",
       "      <td>NaN</td>\n",
       "      <td>NaN</td>\n",
       "    </tr>\n",
       "    <tr>\n",
       "      <th>2</th>\n",
       "      <td>5.255.253.53</td>\n",
       "      <td>NaN</td>\n",
       "      <td>NaN</td>\n",
       "      <td>NaN</td>\n",
       "    </tr>\n",
       "    <tr>\n",
       "      <th>3</th>\n",
       "      <td>157.55.35.112</td>\n",
       "      <td>Estados Unidos</td>\n",
       "      <td>Redmond</td>\n",
       "      <td>Washington</td>\n",
       "    </tr>\n",
       "    <tr>\n",
       "      <th>4</th>\n",
       "      <td>193.111.141.116</td>\n",
       "      <td>Alemania</td>\n",
       "      <td>Düsseldorf</td>\n",
       "      <td>Renania del Norte-Westfalia</td>\n",
       "    </tr>\n",
       "    <tr>\n",
       "      <th>...</th>\n",
       "      <td>...</td>\n",
       "      <td>...</td>\n",
       "      <td>...</td>\n",
       "      <td>...</td>\n",
       "    </tr>\n",
       "    <tr>\n",
       "      <th>2916</th>\n",
       "      <td>46.222.83.180</td>\n",
       "      <td>NaN</td>\n",
       "      <td>NaN</td>\n",
       "      <td>NaN</td>\n",
       "    </tr>\n",
       "    <tr>\n",
       "      <th>2917</th>\n",
       "      <td>79.155.78.117</td>\n",
       "      <td>España</td>\n",
       "      <td>Madrid</td>\n",
       "      <td>Madrid</td>\n",
       "    </tr>\n",
       "    <tr>\n",
       "      <th>2918</th>\n",
       "      <td>217.174.248.179</td>\n",
       "      <td>Reino Unido</td>\n",
       "      <td>Gloucester</td>\n",
       "      <td>Inglaterra</td>\n",
       "    </tr>\n",
       "    <tr>\n",
       "      <th>2919</th>\n",
       "      <td>188.135.173.80</td>\n",
       "      <td>NaN</td>\n",
       "      <td>NaN</td>\n",
       "      <td>NaN</td>\n",
       "    </tr>\n",
       "    <tr>\n",
       "      <th>2920</th>\n",
       "      <td>206.198.5.33</td>\n",
       "      <td>NaN</td>\n",
       "      <td>NaN</td>\n",
       "      <td>NaN</td>\n",
       "    </tr>\n",
       "  </tbody>\n",
       "</table>\n",
       "<p>2921 rows × 4 columns</p>\n",
       "</div>"
      ],
      "text/plain": [
       "                   IP         country        city                       region\n",
       "0           127.0.0.1             NaN         NaN                          NaN\n",
       "1       66.249.76.216             NaN         NaN                          NaN\n",
       "2        5.255.253.53             NaN         NaN                          NaN\n",
       "3       157.55.35.112  Estados Unidos     Redmond                   Washington\n",
       "4     193.111.141.116        Alemania  Düsseldorf  Renania del Norte-Westfalia\n",
       "...               ...             ...         ...                          ...\n",
       "2916    46.222.83.180             NaN         NaN                          NaN\n",
       "2917    79.155.78.117          España      Madrid                       Madrid\n",
       "2918  217.174.248.179     Reino Unido  Gloucester                   Inglaterra\n",
       "2919   188.135.173.80             NaN         NaN                          NaN\n",
       "2920     206.198.5.33             NaN         NaN                          NaN\n",
       "\n",
       "[2921 rows x 4 columns]"
      ]
     },
     "execution_count": 89,
     "metadata": {},
     "output_type": "execute_result"
    }
   ],
   "source": [
    "IPS_geolite"
   ]
  },
  {
   "cell_type": "markdown",
   "metadata": {},
   "source": [
    "#### 3.2.4. Trasladando los datos al archivo log.\n",
    "\n",
    "Parece que freegeoip es la página que más resultados nos ha dado, así que trabajaré con este archivo."
   ]
  },
  {
   "cell_type": "markdown",
   "metadata": {},
   "source": [
    "Ahora solo quedaría hacer un merge de la tabla log con los datos de IPSs para obtener ciudad y pais."
   ]
  },
  {
   "cell_type": "code",
   "execution_count": 90,
   "metadata": {},
   "outputs": [],
   "source": [
    "log=log.merge(IPS_geolite[['IP','city','country','region']],\n",
    "         how='left',\n",
    "         left_on='IP',\n",
    "         right_on='IP')#.drop(columns='IP')"
   ]
  },
  {
   "cell_type": "code",
   "execution_count": null,
   "metadata": {},
   "outputs": [],
   "source": []
  },
  {
   "cell_type": "markdown",
   "metadata": {},
   "source": [
    "### 3.3. Extrayendo información de la variable user agent.\n",
    "\n",
    "El campo user agent nos puede proporcionar mucha información sobre quien está accediendo a nuestro sitio. Para extraerla voy a utilizar una librería específica **ua-parser**. Para un primer análisis voy a extraer la información del sistema operativo y del dispositivo."
   ]
  },
  {
   "cell_type": "code",
   "execution_count": 91,
   "metadata": {},
   "outputs": [],
   "source": [
    "# Información sobre sistema operativo\n",
    "log['OS_info']=log['USER-AGENT'].apply(lambda x:user_agent_parser.ParseOS(x)['family'])"
   ]
  },
  {
   "cell_type": "code",
   "execution_count": 92,
   "metadata": {},
   "outputs": [],
   "source": [
    "# Información sobre DISPOSITIVO\n",
    "log['DEVICE_info']=log['USER-AGENT'].apply(lambda x:user_agent_parser.ParseDevice(x)['family'])"
   ]
  },
  {
   "cell_type": "code",
   "execution_count": 93,
   "metadata": {},
   "outputs": [
    {
     "name": "stdout",
     "output_type": "stream",
     "text": [
      "<class 'pandas.core.frame.DataFrame'>\n",
      "Int64Index: 261873 entries, 0 to 261872\n",
      "Data columns (total 18 columns):\n",
      " #   Column        Non-Null Count   Dtype                               \n",
      "---  ------        --------------   -----                               \n",
      " 0   DATE          261873 non-null  datetime64[ns, pytz.FixedOffset(60)]\n",
      " 1   HOST          261873 non-null  object                              \n",
      " 2   IP            261873 non-null  object                              \n",
      " 3   USER          261873 non-null  object                              \n",
      " 4   REQ_METHOD    261873 non-null  object                              \n",
      " 5   REQ_SOURCE    261873 non-null  object                              \n",
      " 6   REQ_PROTOCOL  261873 non-null  object                              \n",
      " 7   REQ_STATUS    261873 non-null  object                              \n",
      " 8   SIZE          261873 non-null  int32                               \n",
      " 9   REFERER       261873 non-null  object                              \n",
      " 10  USER-AGENT    261873 non-null  object                              \n",
      " 11  DAYoWEEK      261873 non-null  int64                               \n",
      " 12  Hour          261873 non-null  int64                               \n",
      " 13  city          142337 non-null  object                              \n",
      " 14  country       142337 non-null  object                              \n",
      " 15  region        142337 non-null  object                              \n",
      " 16  OS_info       261873 non-null  object                              \n",
      " 17  DEVICE_info   261873 non-null  object                              \n",
      "dtypes: datetime64[ns, pytz.FixedOffset(60)](1), int32(1), int64(2), object(14)\n",
      "memory usage: 37.0+ MB\n"
     ]
    }
   ],
   "source": [
    "log.info()"
   ]
  },
  {
   "cell_type": "code",
   "execution_count": 94,
   "metadata": {},
   "outputs": [],
   "source": [
    "# \n",
    "#log.loc[log['country_name']=='','country_name']='Unknown'\n",
    "#log.loc[log['city']=='','city']='Unknown'"
   ]
  },
  {
   "cell_type": "code",
   "execution_count": 95,
   "metadata": {},
   "outputs": [],
   "source": [
    "#log.columns.to_list()"
   ]
  },
  {
   "cell_type": "code",
   "execution_count": 96,
   "metadata": {},
   "outputs": [],
   "source": [
    "campos=['DATE','DAYoWEEK', 'Hour','USER', 'HOST', 'IP', 'REQ_METHOD', 'REQ_SOURCE', 'REQ_PROTOCOL',\n",
    " 'REQ_STATUS', 'SIZE', 'REFERER', 'USER-AGENT','city','region','country','OS_info','DEVICE_info']"
   ]
  },
  {
   "cell_type": "code",
   "execution_count": 97,
   "metadata": {},
   "outputs": [],
   "source": [
    "log=log.reindex(columns=campos)"
   ]
  },
  {
   "cell_type": "markdown",
   "metadata": {},
   "source": [
    "### 3.4. Generando un archivo csv. "
   ]
  },
  {
   "cell_type": "code",
   "execution_count": 98,
   "metadata": {},
   "outputs": [],
   "source": [
    "#log.to_csv('log_clean.csv',index=False)"
   ]
  },
  {
   "cell_type": "code",
   "execution_count": 99,
   "metadata": {},
   "outputs": [],
   "source": [
    "log.to_csv('log_clean_geolite.csv',index=False)"
   ]
  },
  {
   "cell_type": "markdown",
   "metadata": {},
   "source": [
    "## Nivell 3\n",
    "### Exercici 4\n",
    "Mostreu-me la teva creativitat, Sorprèn-me fes un pas més enllà amb el analysis anterior.\n",
    "\n"
   ]
  },
  {
   "cell_type": "markdown",
   "metadata": {},
   "source": [
    "## 4. Análisis explaratorio.\n",
    "\n",
    "Para el análisis exploratorio de datos voy a trabajar con una copia del dataframe original. "
   ]
  },
  {
   "cell_type": "code",
   "execution_count": 2,
   "metadata": {},
   "outputs": [],
   "source": [
    "#Dateframe para el análisis\n",
    "df=pd.read_csv('log_clean_geolite.csv') #geolite2\n",
    "#df=pd.read_csv('log_clean.csv')  #freegeoapp\n",
    "#df=log.copy()"
   ]
  },
  {
   "cell_type": "code",
   "execution_count": 3,
   "metadata": {},
   "outputs": [
    {
     "name": "stdout",
     "output_type": "stream",
     "text": [
      "<class 'pandas.core.frame.DataFrame'>\n",
      "RangeIndex: 261873 entries, 0 to 261872\n",
      "Data columns (total 18 columns):\n",
      " #   Column        Non-Null Count   Dtype \n",
      "---  ------        --------------   ----- \n",
      " 0   DATE          261873 non-null  object\n",
      " 1   DAYoWEEK      261873 non-null  int64 \n",
      " 2   Hour          261873 non-null  int64 \n",
      " 3   USER          261873 non-null  object\n",
      " 4   HOST          261873 non-null  object\n",
      " 5   IP            261873 non-null  object\n",
      " 6   REQ_METHOD    261873 non-null  object\n",
      " 7   REQ_SOURCE    261873 non-null  object\n",
      " 8   REQ_PROTOCOL  261873 non-null  object\n",
      " 9   REQ_STATUS    261873 non-null  int64 \n",
      " 10  SIZE          261873 non-null  int64 \n",
      " 11  REFERER       261873 non-null  object\n",
      " 12  USER-AGENT    261873 non-null  object\n",
      " 13  city          142337 non-null  object\n",
      " 14  region        142337 non-null  object\n",
      " 15  country       142337 non-null  object\n",
      " 16  OS_info       261873 non-null  object\n",
      " 17  DEVICE_info   261873 non-null  object\n",
      "dtypes: int64(4), object(14)\n",
      "memory usage: 36.0+ MB\n"
     ]
    }
   ],
   "source": [
    "df.info()"
   ]
  },
  {
   "cell_type": "code",
   "execution_count": 4,
   "metadata": {},
   "outputs": [],
   "source": [
    "df.loc[df['country'].isna(),'country']='Unknown'\n",
    "df.loc[df['city'].isna(),'city']='Unknown'\n",
    "df.loc[df['region'].isna(),'region']='Unknown'"
   ]
  },
  {
   "cell_type": "markdown",
   "metadata": {},
   "source": [
    "### 4.1. Comportamiento del tráfico de mi web en el tiempo.\n",
    "\n",
    "Para analizar la evolución del tráfico en el tiempo creo la variable día extrayendo la fecha de la variable DATE y me quedo con las variables relativa a la HORA y el DÍA DE LA SEMANA."
   ]
  },
  {
   "cell_type": "code",
   "execution_count": 5,
   "metadata": {},
   "outputs": [],
   "source": [
    "#df['TIME']=log.DATE.dt.time"
   ]
  },
  {
   "cell_type": "code",
   "execution_count": 6,
   "metadata": {},
   "outputs": [
    {
     "data": {
      "text/plain": [
       "('2014-02-23 03:10:31+01:00', '2014-03-02 03:10:18+01:00')"
      ]
     },
     "execution_count": 6,
     "metadata": {},
     "output_type": "execute_result"
    }
   ],
   "source": [
    "df.DATE.min(),df.DATE.max()"
   ]
  },
  {
   "cell_type": "code",
   "execution_count": 7,
   "metadata": {},
   "outputs": [],
   "source": [
    "df.DATE=pd.to_datetime(df.DATE,format='%Y-%m-%d %H:%M:%S%z')"
   ]
  },
  {
   "cell_type": "code",
   "execution_count": 8,
   "metadata": {},
   "outputs": [],
   "source": [
    "df['DIA']=df.DATE.dt.strftime('%b/%d/%Y')\n",
    "df.DAYoWEEK=df.DATE.dt.day_name()\n",
    "df.drop(columns='DATE',inplace=True);"
   ]
  },
  {
   "cell_type": "code",
   "execution_count": 9,
   "metadata": {},
   "outputs": [
    {
     "data": {
      "text/plain": [
       "('Feb/23/2014', 'Mar/02/2014')"
      ]
     },
     "execution_count": 9,
     "metadata": {},
     "output_type": "execute_result"
    }
   ],
   "source": [
    "df.DIA.min(),df.DIA.max()"
   ]
  },
  {
   "cell_type": "code",
   "execution_count": 10,
   "metadata": {},
   "outputs": [
    {
     "data": {
      "text/plain": [
       "(0    Sunday\n",
       " Name: DAYoWEEK, dtype: object,\n",
       " 261872    Sunday\n",
       " Name: DAYoWEEK, dtype: object)"
      ]
     },
     "execution_count": 10,
     "metadata": {},
     "output_type": "execute_result"
    }
   ],
   "source": [
    "df.DAYoWEEK.head(1),df.DAYoWEEK.tail(1)"
   ]
  },
  {
   "cell_type": "code",
   "execution_count": 11,
   "metadata": {},
   "outputs": [
    {
     "data": {
      "text/html": [
       "<div>\n",
       "<style scoped>\n",
       "    .dataframe tbody tr th:only-of-type {\n",
       "        vertical-align: middle;\n",
       "    }\n",
       "\n",
       "    .dataframe tbody tr th {\n",
       "        vertical-align: top;\n",
       "    }\n",
       "\n",
       "    .dataframe thead th {\n",
       "        text-align: right;\n",
       "    }\n",
       "</style>\n",
       "<table border=\"1\" class=\"dataframe\">\n",
       "  <thead>\n",
       "    <tr style=\"text-align: right;\">\n",
       "      <th></th>\n",
       "      <th></th>\n",
       "      <th>IP</th>\n",
       "    </tr>\n",
       "    <tr>\n",
       "      <th>DIA</th>\n",
       "      <th>DAYoWEEK</th>\n",
       "      <th></th>\n",
       "    </tr>\n",
       "  </thead>\n",
       "  <tbody>\n",
       "    <tr>\n",
       "      <th>Feb/23/2014</th>\n",
       "      <th>Sunday</th>\n",
       "      <td>40536</td>\n",
       "    </tr>\n",
       "    <tr>\n",
       "      <th>Feb/24/2014</th>\n",
       "      <th>Monday</th>\n",
       "      <td>48850</td>\n",
       "    </tr>\n",
       "    <tr>\n",
       "      <th>Feb/25/2014</th>\n",
       "      <th>Tuesday</th>\n",
       "      <td>55798</td>\n",
       "    </tr>\n",
       "    <tr>\n",
       "      <th>Feb/26/2014</th>\n",
       "      <th>Wednesday</th>\n",
       "      <td>36473</td>\n",
       "    </tr>\n",
       "    <tr>\n",
       "      <th>Feb/27/2014</th>\n",
       "      <th>Thursday</th>\n",
       "      <td>41513</td>\n",
       "    </tr>\n",
       "    <tr>\n",
       "      <th>Feb/28/2014</th>\n",
       "      <th>Friday</th>\n",
       "      <td>19570</td>\n",
       "    </tr>\n",
       "    <tr>\n",
       "      <th>Mar/01/2014</th>\n",
       "      <th>Saturday</th>\n",
       "      <td>17749</td>\n",
       "    </tr>\n",
       "    <tr>\n",
       "      <th>Mar/02/2014</th>\n",
       "      <th>Sunday</th>\n",
       "      <td>1384</td>\n",
       "    </tr>\n",
       "  </tbody>\n",
       "</table>\n",
       "</div>"
      ],
      "text/plain": [
       "                          IP\n",
       "DIA         DAYoWEEK        \n",
       "Feb/23/2014 Sunday     40536\n",
       "Feb/24/2014 Monday     48850\n",
       "Feb/25/2014 Tuesday    55798\n",
       "Feb/26/2014 Wednesday  36473\n",
       "Feb/27/2014 Thursday   41513\n",
       "Feb/28/2014 Friday     19570\n",
       "Mar/01/2014 Saturday   17749\n",
       "Mar/02/2014 Sunday      1384"
      ]
     },
     "execution_count": 11,
     "metadata": {},
     "output_type": "execute_result"
    }
   ],
   "source": [
    "df.groupby(['DIA','DAYoWEEK'])[['IP']].count()"
   ]
  },
  {
   "cell_type": "code",
   "execution_count": 12,
   "metadata": {},
   "outputs": [
    {
     "data": {
      "image/png": "[encoded data removed]",
      "text/plain": [
       "<Figure size 864x432 with 1 Axes>"
      ]
     },
     "metadata": {},
     "output_type": "display_data"
    }
   ],
   "source": [
    "# Evolución visitas diarias\n",
    "df.groupby(['DIA'])[['IP']].count().plot(figsize=(12,6));"
   ]
  },
  {
   "cell_type": "markdown",
   "metadata": {},
   "source": [
    "Tenemos un registro de navegación entre los días 23 de febrero y 2 de marzo, que va de domingo a domingo, en esta tabla el primer y último día no son completos. \n",
    "\n",
    "De domingo a jueves el tráfico está entre las 36k y las 55k visitas, mientras que viernes y sábado cae a la mitad. Probablemente se deba a que la mayoría de las reservas se hacen de domingo a jueves y los usuarios viajan en fin de semana.\n",
    "\n",
    "Veamos ahora cuales son las horas con más tráfico."
   ]
  },
  {
   "cell_type": "code",
   "execution_count": 111,
   "metadata": {},
   "outputs": [
    {
     "data": {
      "image/png": "[encoded data removed]",
      "text/plain": [
       "<Figure size 864x432 with 1 Axes>"
      ]
     },
     "metadata": {},
     "output_type": "display_data"
    }
   ],
   "source": [
    "# Visitas totales por franja horaria\n",
    "df.groupby(['Hour'])[['IP']].count().plot(figsize=(12,6));"
   ]
  },
  {
   "cell_type": "markdown",
   "metadata": {},
   "source": [
    "Entre las 10 y las 20 hay más de 10k visitas a la hora, llegando a más de 20k entre las 12 y las 17.\n",
    "\n",
    "Todo este tráfico no corresponde únicamente a usuarios humanos, si no que también hay bots que recorren la web automáticamente. Vamos a filtrar este tipo de tráfico para quedarnos con el tráfico humano. "
   ]
  },
  {
   "cell_type": "code",
   "execution_count": 13,
   "metadata": {},
   "outputs": [],
   "source": [
    "#Variable tipo de tráfico\n",
    "df['Traffic']='Human'\n",
    "df.loc[df.DEVICE_info=='Spider','Traffic']='Bot'"
   ]
  },
  {
   "cell_type": "code",
   "execution_count": 14,
   "metadata": {},
   "outputs": [],
   "source": [
    "#Trafico usuarios humanos\n",
    "realtrafic=df[df.DEVICE_info!='Spider']"
   ]
  },
  {
   "cell_type": "code",
   "execution_count": 15,
   "metadata": {},
   "outputs": [],
   "source": [
    "#Trafico bots\n",
    "bottrafic=df[df.DEVICE_info=='Spider']"
   ]
  },
  {
   "cell_type": "code",
   "execution_count": 115,
   "metadata": {},
   "outputs": [],
   "source": [
    "#df.groupby(['DIA','REQ_METHOD'])[['IP']].count()"
   ]
  },
  {
   "cell_type": "code",
   "execution_count": 17,
   "metadata": {},
   "outputs": [
    {
     "data": {
      "image/png": "[encoded data removed]",
      "text/plain": [
       "<Figure size 864x432 with 1 Axes>"
      ]
     },
     "metadata": {},
     "output_type": "display_data"
    }
   ],
   "source": [
    "\n",
    "# Trafico semanal\n",
    "\n",
    "# 1. Preparo datos\n",
    "\n",
    "# 2. Creo fig y axes.\n",
    "fig, ax=plt.subplots(figsize=(12, 6))\n",
    "\n",
    "# 3. Creo Plot\n",
    "trafico=sns.countplot(data=df.query('DIA!=\"Mar/02/2014\"'),\n",
    "                        x='DIA',\n",
    "                        hue='Traffic',\n",
    "                        alpha=0.9,\n",
    "                        ax=ax)\n",
    "\n",
    "sns.lineplot(data=df.query('DIA!=\"Mar/02/2014\"').groupby(['DIA'])[['IP']].count(),\n",
    "             x='DIA',\n",
    "             y='IP',\n",
    "             ax=ax,\n",
    "             legend='full',\n",
    "             label='Trafico Total')\n",
    "\n",
    "\n",
    "# 4. Configuracion de imagen y anotaciones \n",
    "trafico.set(title='Número de accesos diarios. Humanos vs Bots ',\n",
    "          ylabel=None,\n",
    "          xlabel=None);\n",
    "\n"
   ]
  },
  {
   "cell_type": "markdown",
   "metadata": {},
   "source": [
    "Ahora podemos observar que la mayoría de las visitas del domingo corresponden a bots que están recorriendo nuestra web.  \n",
    "\n",
    "Además vemos que el tráfico en nuestra página alcanza un máximo lunes y martes, tal vez debido a que los usuarios planean su escapada para el fin de semana y luego se observa una tendencia descendente hasta el fin de semana donde se alcanza un mínimo de visitas el sábado y domingo, aunque el jueves se observa un número de visitas que rompe la tendencia descendente."
   ]
  },
  {
   "cell_type": "code",
   "execution_count": 117,
   "metadata": {},
   "outputs": [],
   "source": [
    "#bottrafic.groupby(['Hour'])[['IP']].count().plot(figsize=(12,6));"
   ]
  },
  {
   "cell_type": "code",
   "execution_count": 118,
   "metadata": {},
   "outputs": [],
   "source": [
    "#realtrafic.groupby(['Hour'])[['IP']].count().plot(figsize=(12,6));"
   ]
  },
  {
   "cell_type": "markdown",
   "metadata": {},
   "source": [
    "A continuación quiero analizar los Megabytes de tráfico que hubo en nuestra página."
   ]
  },
  {
   "cell_type": "code",
   "execution_count": 119,
   "metadata": {},
   "outputs": [
    {
     "data": {
      "image/png": "[encoded data removed]",
      "text/plain": [
       "<Figure size 864x864 with 2 Axes>"
      ]
     },
     "metadata": {},
     "output_type": "display_data"
    }
   ],
   "source": [
    "# Histograma de número de visitas por dia\n",
    "# 1. Preparo datos\n",
    "Megas=lambda x: np.sum(x)/(1024**2)\n",
    "\n",
    "# 2. Creo fig y axes.\n",
    "fig,(ax1,ax2)=plt.subplots(figsize=(12, 12),ncols=1,nrows=2)\n",
    "\n",
    "# 3. Creo Plot\n",
    "trafico=sns.barplot(data=realtrafic.query('DIA!=\"Mar/02/2014\"'),\n",
    "                    estimator=Megas,\n",
    "                    ci=None,\n",
    "                    x='DIA',\n",
    "                    y='SIZE',\n",
    "                    color='tab:cyan',\n",
    "                    ax=ax1)\n",
    "\n",
    "trafico_promedio=sns.barplot(data=realtrafic.query('DIA!=\"Mar/02/2014\"'),\n",
    "                  #  ci='sd',\n",
    "                    x='DIA',\n",
    "                    y='SIZE',\n",
    "                    hue='REQ_METHOD',\n",
    "                    ax=ax2)\n",
    "\n",
    "\n",
    "\n",
    "# 4. Configuracion de imagen y anotaciones \n",
    "trafico.set(title='Tráfico total en MegaBytes',\n",
    "          ylabel='Megabytes',\n",
    "          xlabel=None);\n",
    "\n",
    "trafico_promedio.set(title='Tráfico promedio por conexión en bytes',\n",
    "                      ylabel='bytes',\n",
    "                      xlabel=None);\n",
    "\n",
    "\n",
    "trafico_promedio.legend(loc='upper right');"
   ]
  },
  {
   "cell_type": "markdown",
   "metadata": {},
   "source": [
    "Del gráfico de tráfico total en Megabytes vemos un patrón no esperado y es que el miércoles (26/2) hubo menos visitas que lunes, martes o jueves, sin embargo ese día se transfirió mayor número de bytes.\n",
    "\n",
    "Viendo el promedio de información transmitida cada día y para cada método se aprecia que el día 26/2 hubo una conexión fuera de lo común. Veamos con detalle la distribución de los bytes transmitidos ese día."
   ]
  },
  {
   "cell_type": "code",
   "execution_count": 19,
   "metadata": {},
   "outputs": [],
   "source": [
    "# Dataframe conexiones miércoles\n",
    "miercoles=df.query('DIA==\"Feb/26/2014\"')"
   ]
  },
  {
   "cell_type": "code",
   "execution_count": 20,
   "metadata": {},
   "outputs": [
    {
     "data": {
      "image/png": "[encoded data removed]",
      "text/plain": [
       "<Figure size 864x216 with 1 Axes>"
      ]
     },
     "metadata": {},
     "output_type": "display_data"
    }
   ],
   "source": [
    "# Fig\n",
    "fix,ax=plt.subplots(figsize=(12,3))\n",
    "\n",
    "# Plot\n",
    "box=sns.boxplot(data=miercoles,x='SIZE')\n",
    "\n",
    "# Título\n",
    "box.set(title='Boxplot tamaño de datos transmitido 26/2/2014',\n",
    "        xlabel='kbytes');"
   ]
  },
  {
   "cell_type": "markdown",
   "metadata": {},
   "source": [
    "El día 26/2 hubo un grupo de conexiones anómalo. Veámoslo en detalle."
   ]
  },
  {
   "cell_type": "code",
   "execution_count": 21,
   "metadata": {},
   "outputs": [
    {
     "data": {
      "text/plain": [
       "count    3.647300e+04\n",
       "mean     1.629166e+04\n",
       "std      5.801659e+05\n",
       "min      0.000000e+00\n",
       "25%      4.190000e+02\n",
       "50%      3.863000e+03\n",
       "75%      8.158000e+03\n",
       "max      4.556469e+07\n",
       "Name: SIZE, dtype: float64"
      ]
     },
     "execution_count": 21,
     "metadata": {},
     "output_type": "execute_result"
    }
   ],
   "source": [
    "miercoles.SIZE.describe()"
   ]
  },
  {
   "cell_type": "code",
   "execution_count": 22,
   "metadata": {},
   "outputs": [
    {
     "data": {
      "text/plain": [
       "19766.5"
      ]
     },
     "execution_count": 22,
     "metadata": {},
     "output_type": "execute_result"
    }
   ],
   "source": [
    "UWhisker=(miercoles.SIZE.quantile(0.75)-miercoles.SIZE.quantile(0.25))*1.5+miercoles.SIZE.quantile(0.75)\n",
    "UWhisker"
   ]
  },
  {
   "cell_type": "code",
   "execution_count": 23,
   "metadata": {},
   "outputs": [
    {
     "data": {
      "text/html": [
       "<div>\n",
       "<style scoped>\n",
       "    .dataframe tbody tr th:only-of-type {\n",
       "        vertical-align: middle;\n",
       "    }\n",
       "\n",
       "    .dataframe tbody tr th {\n",
       "        vertical-align: top;\n",
       "    }\n",
       "\n",
       "    .dataframe thead th {\n",
       "        text-align: right;\n",
       "    }\n",
       "</style>\n",
       "<table border=\"1\" class=\"dataframe\">\n",
       "  <thead>\n",
       "    <tr style=\"text-align: right;\">\n",
       "      <th></th>\n",
       "      <th>DAYoWEEK</th>\n",
       "      <th>Hour</th>\n",
       "      <th>USER</th>\n",
       "      <th>HOST</th>\n",
       "      <th>IP</th>\n",
       "      <th>REQ_METHOD</th>\n",
       "      <th>REQ_SOURCE</th>\n",
       "      <th>REQ_PROTOCOL</th>\n",
       "      <th>REQ_STATUS</th>\n",
       "      <th>SIZE</th>\n",
       "      <th>REFERER</th>\n",
       "      <th>USER-AGENT</th>\n",
       "      <th>city</th>\n",
       "      <th>region</th>\n",
       "      <th>country</th>\n",
       "      <th>OS_info</th>\n",
       "      <th>DEVICE_info</th>\n",
       "      <th>DIA</th>\n",
       "      <th>Traffic</th>\n",
       "    </tr>\n",
       "  </thead>\n",
       "  <tbody>\n",
       "    <tr>\n",
       "      <th>161021</th>\n",
       "      <td>Wednesday</td>\n",
       "      <td>12</td>\n",
       "      <td>-</td>\n",
       "      <td>test.akumenius.com</td>\n",
       "      <td>80.28.221.123</td>\n",
       "      <td>GET</td>\n",
       "      <td>/newdesign/log/php/29</td>\n",
       "      <td>HTTP/1.1</td>\n",
       "      <td>200</td>\n",
       "      <td>45069075</td>\n",
       "      <td>http://test.akumenius.com/newdesign/log</td>\n",
       "      <td>Mozilla/5.0 (X11; U; Linux i686; ca; rv:1.9.2....</td>\n",
       "      <td>Torrejón de Ardoz</td>\n",
       "      <td>Madrid</td>\n",
       "      <td>España</td>\n",
       "      <td>Fedora</td>\n",
       "      <td>Other</td>\n",
       "      <td>Feb/26/2014</td>\n",
       "      <td>Human</td>\n",
       "    </tr>\n",
       "    <tr>\n",
       "      <th>161419</th>\n",
       "      <td>Wednesday</td>\n",
       "      <td>13</td>\n",
       "      <td>-</td>\n",
       "      <td>test.akumenius.com</td>\n",
       "      <td>80.28.221.123</td>\n",
       "      <td>GET</td>\n",
       "      <td>/newdesign/log/php/108</td>\n",
       "      <td>HTTP/1.1</td>\n",
       "      <td>200</td>\n",
       "      <td>45071171</td>\n",
       "      <td>http://test.akumenius.com/newdesign/log</td>\n",
       "      <td>Mozilla/5.0 (X11; U; Linux i686; ca; rv:1.9.2....</td>\n",
       "      <td>Torrejón de Ardoz</td>\n",
       "      <td>Madrid</td>\n",
       "      <td>España</td>\n",
       "      <td>Fedora</td>\n",
       "      <td>Other</td>\n",
       "      <td>Feb/26/2014</td>\n",
       "      <td>Human</td>\n",
       "    </tr>\n",
       "    <tr>\n",
       "      <th>161982</th>\n",
       "      <td>Wednesday</td>\n",
       "      <td>13</td>\n",
       "      <td>-</td>\n",
       "      <td>test.akumenius.com</td>\n",
       "      <td>80.28.221.123</td>\n",
       "      <td>GET</td>\n",
       "      <td>/newdesign/log/php/108</td>\n",
       "      <td>HTTP/1.1</td>\n",
       "      <td>200</td>\n",
       "      <td>45071171</td>\n",
       "      <td>http://test.akumenius.com/newdesign/log</td>\n",
       "      <td>Mozilla/5.0 (X11; U; Linux i686; ca; rv:1.9.2....</td>\n",
       "      <td>Torrejón de Ardoz</td>\n",
       "      <td>Madrid</td>\n",
       "      <td>España</td>\n",
       "      <td>Fedora</td>\n",
       "      <td>Other</td>\n",
       "      <td>Feb/26/2014</td>\n",
       "      <td>Human</td>\n",
       "    </tr>\n",
       "    <tr>\n",
       "      <th>162365</th>\n",
       "      <td>Wednesday</td>\n",
       "      <td>13</td>\n",
       "      <td>-</td>\n",
       "      <td>test.akumenius.com</td>\n",
       "      <td>80.28.221.123</td>\n",
       "      <td>GET</td>\n",
       "      <td>/newdesign/log/php/169</td>\n",
       "      <td>HTTP/1.1</td>\n",
       "      <td>200</td>\n",
       "      <td>45073995</td>\n",
       "      <td>http://test.akumenius.com/newdesign/log</td>\n",
       "      <td>Mozilla/5.0 (X11; U; Linux i686; ca; rv:1.9.2....</td>\n",
       "      <td>Torrejón de Ardoz</td>\n",
       "      <td>Madrid</td>\n",
       "      <td>España</td>\n",
       "      <td>Fedora</td>\n",
       "      <td>Other</td>\n",
       "      <td>Feb/26/2014</td>\n",
       "      <td>Human</td>\n",
       "    </tr>\n",
       "    <tr>\n",
       "      <th>162543</th>\n",
       "      <td>Wednesday</td>\n",
       "      <td>13</td>\n",
       "      <td>-</td>\n",
       "      <td>test.akumenius.com</td>\n",
       "      <td>80.28.221.123</td>\n",
       "      <td>GET</td>\n",
       "      <td>/newdesign/log/php/169</td>\n",
       "      <td>HTTP/1.1</td>\n",
       "      <td>200</td>\n",
       "      <td>45073995</td>\n",
       "      <td>http://test.akumenius.com/newdesign/log</td>\n",
       "      <td>Mozilla/5.0 (X11; U; Linux i686; ca; rv:1.9.2....</td>\n",
       "      <td>Torrejón de Ardoz</td>\n",
       "      <td>Madrid</td>\n",
       "      <td>España</td>\n",
       "      <td>Fedora</td>\n",
       "      <td>Other</td>\n",
       "      <td>Feb/26/2014</td>\n",
       "      <td>Human</td>\n",
       "    </tr>\n",
       "    <tr>\n",
       "      <th>163263</th>\n",
       "      <td>Wednesday</td>\n",
       "      <td>13</td>\n",
       "      <td>-</td>\n",
       "      <td>test.akumenius.com</td>\n",
       "      <td>80.28.221.123</td>\n",
       "      <td>GET</td>\n",
       "      <td>/newdesign/log/php/218</td>\n",
       "      <td>HTTP/1.1</td>\n",
       "      <td>200</td>\n",
       "      <td>45564687</td>\n",
       "      <td>http://test.akumenius.com/newdesign/log</td>\n",
       "      <td>Mozilla/5.0 (X11; U; Linux i686; ca; rv:1.9.2....</td>\n",
       "      <td>Torrejón de Ardoz</td>\n",
       "      <td>Madrid</td>\n",
       "      <td>España</td>\n",
       "      <td>Fedora</td>\n",
       "      <td>Other</td>\n",
       "      <td>Feb/26/2014</td>\n",
       "      <td>Human</td>\n",
       "    </tr>\n",
       "  </tbody>\n",
       "</table>\n",
       "</div>"
      ],
      "text/plain": [
       "         DAYoWEEK  Hour USER                 HOST             IP REQ_METHOD  \\\n",
       "161021  Wednesday    12    -  test.akumenius.com   80.28.221.123        GET   \n",
       "161419  Wednesday    13    -  test.akumenius.com   80.28.221.123        GET   \n",
       "161982  Wednesday    13    -  test.akumenius.com   80.28.221.123        GET   \n",
       "162365  Wednesday    13    -  test.akumenius.com   80.28.221.123        GET   \n",
       "162543  Wednesday    13    -  test.akumenius.com   80.28.221.123        GET   \n",
       "163263  Wednesday    13    -  test.akumenius.com   80.28.221.123        GET   \n",
       "\n",
       "                    REQ_SOURCE REQ_PROTOCOL  REQ_STATUS      SIZE  \\\n",
       "161021   /newdesign/log/php/29     HTTP/1.1         200  45069075   \n",
       "161419  /newdesign/log/php/108     HTTP/1.1         200  45071171   \n",
       "161982  /newdesign/log/php/108     HTTP/1.1         200  45071171   \n",
       "162365  /newdesign/log/php/169     HTTP/1.1         200  45073995   \n",
       "162543  /newdesign/log/php/169     HTTP/1.1         200  45073995   \n",
       "163263  /newdesign/log/php/218     HTTP/1.1         200  45564687   \n",
       "\n",
       "                                        REFERER  \\\n",
       "161021  http://test.akumenius.com/newdesign/log   \n",
       "161419  http://test.akumenius.com/newdesign/log   \n",
       "161982  http://test.akumenius.com/newdesign/log   \n",
       "162365  http://test.akumenius.com/newdesign/log   \n",
       "162543  http://test.akumenius.com/newdesign/log   \n",
       "163263  http://test.akumenius.com/newdesign/log   \n",
       "\n",
       "                                               USER-AGENT               city  \\\n",
       "161021  Mozilla/5.0 (X11; U; Linux i686; ca; rv:1.9.2....  Torrejón de Ardoz   \n",
       "161419  Mozilla/5.0 (X11; U; Linux i686; ca; rv:1.9.2....  Torrejón de Ardoz   \n",
       "161982  Mozilla/5.0 (X11; U; Linux i686; ca; rv:1.9.2....  Torrejón de Ardoz   \n",
       "162365  Mozilla/5.0 (X11; U; Linux i686; ca; rv:1.9.2....  Torrejón de Ardoz   \n",
       "162543  Mozilla/5.0 (X11; U; Linux i686; ca; rv:1.9.2....  Torrejón de Ardoz   \n",
       "163263  Mozilla/5.0 (X11; U; Linux i686; ca; rv:1.9.2....  Torrejón de Ardoz   \n",
       "\n",
       "        region country OS_info DEVICE_info          DIA Traffic  \n",
       "161021  Madrid  España  Fedora       Other  Feb/26/2014   Human  \n",
       "161419  Madrid  España  Fedora       Other  Feb/26/2014   Human  \n",
       "161982  Madrid  España  Fedora       Other  Feb/26/2014   Human  \n",
       "162365  Madrid  España  Fedora       Other  Feb/26/2014   Human  \n",
       "162543  Madrid  España  Fedora       Other  Feb/26/2014   Human  \n",
       "163263  Madrid  España  Fedora       Other  Feb/26/2014   Human  "
      ]
     },
     "execution_count": 23,
     "metadata": {},
     "output_type": "execute_result"
    }
   ],
   "source": [
    "anomalous=miercoles[miercoles.SIZE>1e7]\n",
    "anomalous"
   ]
  },
  {
   "cell_type": "code",
   "execution_count": 24,
   "metadata": {},
   "outputs": [
    {
     "data": {
      "text/plain": [
       "(6, 19)"
      ]
     },
     "execution_count": 24,
     "metadata": {},
     "output_type": "execute_result"
    }
   ],
   "source": [
    "anomalous.shape"
   ]
  },
  {
   "cell_type": "code",
   "execution_count": 25,
   "metadata": {},
   "outputs": [
    {
     "data": {
      "text/plain": [
       "80.28.221.123    6\n",
       "Name: IP, dtype: int64"
      ]
     },
     "execution_count": 25,
     "metadata": {},
     "output_type": "execute_result"
    }
   ],
   "source": [
    "anomalous.IP.value_counts()"
   ]
  },
  {
   "cell_type": "markdown",
   "metadata": {},
   "source": [
    "Podemos decir que este tráfico anómalo se debe a alguna operación de actualización hecha desde la ip 80.28.221.123."
   ]
  },
  {
   "cell_type": "code",
   "execution_count": 26,
   "metadata": {},
   "outputs": [
    {
     "data": {
      "text/plain": [
       "array(['80.28.221.123'], dtype=object)"
      ]
     },
     "execution_count": 26,
     "metadata": {},
     "output_type": "execute_result"
    }
   ],
   "source": [
    "df.query('city==\"Torrejón de Ardoz\"')['IP'].unique()"
   ]
  },
  {
   "cell_type": "markdown",
   "metadata": {},
   "source": [
    "#### 4.1.1. Analizando los estados de respuesta de mis visitas.\n",
    "\n",
    "Los diferentes estados de respuesta que se han dado en este periodo de tiempo en mi web son:"
   ]
  },
  {
   "cell_type": "code",
   "execution_count": 27,
   "metadata": {},
   "outputs": [
    {
     "data": {
      "text/plain": [
       "array([200, 404, 304, 502, 301, 403, 408, 400, 206, 401, 302, 500],\n",
       "      dtype=int64)"
      ]
     },
     "execution_count": 27,
     "metadata": {},
     "output_type": "execute_result"
    }
   ],
   "source": [
    "df.REQ_STATUS.unique()"
   ]
  },
  {
   "cell_type": "markdown",
   "metadata": {},
   "source": [
    "Para facilitar el análisis voy a categorizar la variable Status en familias de status, correspondiendo a:\n",
    "\n",
    "- 200+: Conexión OK\n",
    "- 300+: Redirección\n",
    "- 400+: Error de cliente\n",
    "- 500+: Error interno\n",
    "\n",
    "Si el servicio web funcionase adecuadamente la mayoría de conexiones serían 200. Si observamos un número desproporcionado de otras familias deberíamos analizar que está sucediendo."
   ]
  },
  {
   "cell_type": "code",
   "execution_count": 28,
   "metadata": {},
   "outputs": [],
   "source": [
    "# Categorizar REQ_STATUS en familias\n",
    "df['STATUS']=pd.cut(df.REQ_STATUS,bins=[200,300,400,500,600],\n",
    "                 right=False,\n",
    "                 labels=['200+','300+','400+','500+'],\n",
    "                 ordered=True)"
   ]
  },
  {
   "cell_type": "code",
   "execution_count": 29,
   "metadata": {},
   "outputs": [
    {
     "data": {
      "text/plain": [
       "200+    86.563334\n",
       "300+    10.023179\n",
       "400+     3.395539\n",
       "500+     0.017948\n",
       "Name: STATUS, dtype: float64"
      ]
     },
     "execution_count": 29,
     "metadata": {},
     "output_type": "execute_result"
    }
   ],
   "source": [
    "df.STATUS.value_counts(normalize=True)*100"
   ]
  },
  {
   "cell_type": "markdown",
   "metadata": {},
   "source": [
    "Parece que alrededor del 96% de nuestras visitas fueron exitosas y no se observa una proporción muy alta de errores (3,4%). Veamos como fueron los status día a día."
   ]
  },
  {
   "cell_type": "code",
   "execution_count": 131,
   "metadata": {},
   "outputs": [
    {
     "data": {
      "text/plain": [
       "DIA          STATUS\n",
       "Feb/23/2014  200+      84.048747\n",
       "             400+      14.912670\n",
       "             300+       1.011447\n",
       "             500+       0.027136\n",
       "Feb/24/2014  200+      87.297851\n",
       "             300+       7.977482\n",
       "             400+       4.708291\n",
       "             500+       0.016377\n",
       "Feb/25/2014  200+      95.152156\n",
       "             300+       4.437435\n",
       "             400+       0.397864\n",
       "             500+       0.012545\n",
       "Feb/26/2014  200+      91.684260\n",
       "             300+       7.923670\n",
       "             400+       0.372879\n",
       "             500+       0.019192\n",
       "Feb/27/2014  200+      67.342760\n",
       "             300+      32.447667\n",
       "             400+       0.190302\n",
       "             500+       0.019271\n",
       "Feb/28/2014  200+      90.812468\n",
       "             300+       8.896270\n",
       "             400+       0.281042\n",
       "             500+       0.010220\n",
       "Mar/01/2014  200+      92.275621\n",
       "             300+       7.425770\n",
       "             400+       0.276072\n",
       "             500+       0.022536\n",
       "Mar/02/2014  200+      96.242775\n",
       "             300+       3.323699\n",
       "             400+       0.433526\n",
       "Name: STATUS, dtype: float64"
      ]
     },
     "execution_count": 131,
     "metadata": {},
     "output_type": "execute_result"
    }
   ],
   "source": [
    "df.groupby('DIA').STATUS.value_counts(normalize=True)*100"
   ]
  },
  {
   "cell_type": "code",
   "execution_count": 132,
   "metadata": {},
   "outputs": [
    {
     "data": {
      "text/plain": [
       "DIA          STATUS\n",
       "Feb/23/2014  200+      34070\n",
       "             300+        410\n",
       "             400+       6045\n",
       "             500+         11\n",
       "Feb/24/2014  200+      42645\n",
       "             300+       3897\n",
       "             400+       2300\n",
       "             500+          8\n",
       "Feb/25/2014  200+      53093\n",
       "             300+       2476\n",
       "             400+        222\n",
       "             500+          7\n",
       "Feb/26/2014  200+      33440\n",
       "             300+       2890\n",
       "             400+        136\n",
       "             500+          7\n",
       "Feb/27/2014  200+      27956\n",
       "             300+      13470\n",
       "             400+         79\n",
       "             500+          8\n",
       "Feb/28/2014  200+      17772\n",
       "             300+       1741\n",
       "             400+         55\n",
       "             500+          2\n",
       "Mar/01/2014  200+      16378\n",
       "             300+       1318\n",
       "             400+         49\n",
       "             500+          4\n",
       "Mar/02/2014  200+       1332\n",
       "             300+         46\n",
       "             400+          6\n",
       "             500+          0\n",
       "Name: IP, dtype: int64"
      ]
     },
     "execution_count": 132,
     "metadata": {},
     "output_type": "execute_result"
    }
   ],
   "source": [
    "df.groupby(['DIA','STATUS'])['IP'].count()"
   ]
  },
  {
   "cell_type": "code",
   "execution_count": 30,
   "metadata": {},
   "outputs": [
    {
     "data": {
      "image/png": "[encoded data removed]",
      "text/plain": [
       "<Figure size 864x432 with 1 Axes>"
      ]
     },
     "metadata": {},
     "output_type": "display_data"
    }
   ],
   "source": [
    "\n",
    "# Histograma de número de estados de respuesta por dia\n",
    "# 1. Preparo datos\n",
    "\n",
    "# 2. Creo fig y axes.\n",
    "fig, ax=plt.subplots(figsize=(12, 6))\n",
    "\n",
    "# 3. Creo Plot\n",
    "\n",
    "var=sns.pointplot(data=df.query('DIA!=\"Mar/02/2014\"').groupby(['DIA','STATUS'])[['IP']].count().reset_index(),\n",
    "             hue='STATUS',\n",
    "             x='DIA',\n",
    "              y='IP',\n",
    "            #legend=None,\n",
    "            ax=ax)\n",
    "\n",
    "\n",
    "\n",
    "# 4. Configuracion de imagen y anotaciones \n",
    "var.set(title='Número de accesos al servidor por método',\n",
    "          ylabel=None,\n",
    "          xlabel=None);\n",
    "\n",
    "var.legend(loc='upper right');"
   ]
  },
  {
   "cell_type": "markdown",
   "metadata": {},
   "source": [
    "La tasa de errores internos se mantiene muy baja durante toda la semana, sin embargo hay dos puntos que se salen de lo común, por un lado 23 y 24 de febrero hay un número más alto de lo normal de errores de cliente (400) y por otro lado, 26 y 27 de febrero se disparan las redirecciones (300). Veamos que ha podido pasar:"
   ]
  },
  {
   "cell_type": "markdown",
   "metadata": {},
   "source": [
    "### Errores 300+"
   ]
  },
  {
   "cell_type": "code",
   "execution_count": 136,
   "metadata": {},
   "outputs": [
    {
     "data": {
      "image/png": "[encoded data removed]",
      "text/plain": [
       "<Figure size 864x432 with 1 Axes>"
      ]
     },
     "metadata": {},
     "output_type": "display_data"
    }
   ],
   "source": [
    "\n",
    "# Status Request 300+\n",
    "\n",
    "# 1. Preparo datos\n",
    "\n",
    "# 2. Creo fig y axes.\n",
    "fig, ax=plt.subplots(figsize=(12, 6))\n",
    "\n",
    "# 3. Creo Plot\n",
    "\n",
    "g=sns.pointplot(data=df.query('STATUS==\"300+\"').groupby(['DIA','REQ_STATUS'])[['IP']].count().reset_index(),\n",
    "             hue='REQ_STATUS',\n",
    "             x='DIA',\n",
    "             y='IP',\n",
    "            palette='bwr',\n",
    "            ax=ax)\n",
    "\n",
    "\n",
    "\n",
    "# 4. Configuracion de imagen y anotaciones \n",
    "g.set(title='Evolución del Request Status 300',\n",
    "          ylabel=None,\n",
    "          xlabel=None);\n"
   ]
  },
  {
   "cell_type": "markdown",
   "metadata": {},
   "source": [
    "Los principales errores de la familia 300 que podemos observar en nuestras conexiones son 301,302 y 304. El 304 es más habitual, aunque hay un día, el 21 de febrero que se disparan.\n",
    "\n",
    "Para conocer algo más del error 304 puedes leer este [enlace] .A grandes rasgos, un código 304 es un código que comunica a tu navegador que: «El recurso solicitado no ha sido modificado desde la última vez que se accedió a él».\n",
    "\n",
    "Esencialmente, tu navegador (o el de tu visitante) está siendo informado por el servidor de que los recursos almacenados (en caché) en el navegador no han sido modificados desde la última vez que visitó esa página.\n",
    "\n",
    "A su vez, tu navegador recupera una versión guardada de la página web del caché. El propósito de esto es mejorar la velocidad y la entrega de la página, evitando que tu navegador tenga que descargar repetidamente la misma información.\n",
    "\n",
    "[enlace]: https://kinsta.com/es/base-de-conocimiento/http-304/"
   ]
  },
  {
   "cell_type": "code",
   "execution_count": 137,
   "metadata": {},
   "outputs": [
    {
     "data": {
      "image/png": "[encoded data removed]",
      "text/plain": [
       "<Figure size 864x432 with 1 Axes>"
      ]
     },
     "metadata": {},
     "output_type": "display_data"
    }
   ],
   "source": [
    "# Horas a las que se produce el response status 304.\n",
    "df.query('REQ_STATUS==\"304\" and DIA==\"Feb/27/2014\"').groupby('Hour')[['IP']].count().plot(figsize=(12,6));"
   ]
  },
  {
   "cell_type": "code",
   "execution_count": 138,
   "metadata": {},
   "outputs": [
    {
     "data": {
      "text/plain": [
       "80.28.221.123     11295\n",
       "195.57.124.71       730\n",
       "62.117.197.230      634\n",
       "217.12.16.130       132\n",
       "217.125.71.222       79\n",
       "95.18.84.69          69\n",
       "95.63.234.126        58\n",
       "5.255.253.81         51\n",
       "217.12.28.130        31\n",
       "87.217.56.160        28\n",
       "Name: IP, dtype: int64"
      ]
     },
     "execution_count": 138,
     "metadata": {},
     "output_type": "execute_result"
    }
   ],
   "source": [
    "# Top 10 IPs que producen response status 304\n",
    "df.query('REQ_STATUS==\"304\" and DIA==\"Feb/27/2014\"').IP.value_counts().head(10)"
   ]
  },
  {
   "cell_type": "code",
   "execution_count": 139,
   "metadata": {},
   "outputs": [
    {
     "data": {
      "text/plain": [
       "array(['newdesign', 'modules', 'includes', 'awstats', '', 'libraries'],\n",
       "      dtype=object)"
      ]
     },
     "execution_count": 139,
     "metadata": {},
     "output_type": "execute_result"
    }
   ],
   "source": [
    "# Directorios que visita IP más activa.\n",
    "df.query('REQ_STATUS==\"304\" and DIA==\"Feb/27/2014\" and IP==\"80.28.221.123\"').REQ_SOURCE.str.split('/',expand=True)[1].unique()"
   ]
  },
  {
   "cell_type": "code",
   "execution_count": 140,
   "metadata": {},
   "outputs": [
    {
     "data": {
      "text/plain": [
       "array(['libraries', 'modules', 'includes', '', 'sitemap6.xml',\n",
       "       'robots.txt', 'sitemap.xml', 'newdesign', 'awstats', 'icon.png'],\n",
       "      dtype=object)"
      ]
     },
     "execution_count": 140,
     "metadata": {},
     "output_type": "execute_result"
    }
   ],
   "source": [
    "# Directorios que generan estatus 304\n",
    "df.query('REQ_STATUS==\"304\"').REQ_SOURCE.str.split('/',expand=True)[1].unique()"
   ]
  },
  {
   "cell_type": "markdown",
   "metadata": {},
   "source": [
    "De nuevo encontramos que la dirección IP __80.28.221.123__ generó un número inusual de visitas el día 27/2. Estas visitas no pueden ser atribuidas de usuarios."
   ]
  },
  {
   "cell_type": "markdown",
   "metadata": {},
   "source": [
    "Tal como habíamos visto en el punto 4.1. lunes y martes eran los días más concurridos de la semana, probablemente debido a que nuestros usuarios dediacaban el principio de la semana para reservar sus actividades, y después se observaba una tendencia a la baja hasta el domingo. \n",
    "\n",
    "Aunque había un día que rompía esa tendencia que era el jueves, ahora vemos la causa de ese patrón anómalo y es que si filtramos los datos por origen se puede apreciar que el servicio técnico tuvo un gran volumen de accesos el jueves 27/2. \n",
    "\n",
    "En el siguiente gráfico se puede ver esa evolución del número de visitas, representado el número de visitas del servicio técnico contra el número de visitas por usuario."
   ]
  },
  {
   "cell_type": "code",
   "execution_count": 141,
   "metadata": {},
   "outputs": [
    {
     "data": {
      "image/png": "[encoded data removed]",
      "text/plain": [
       "<Figure size 864x432 with 1 Axes>"
      ]
     },
     "metadata": {},
     "output_type": "display_data"
    }
   ],
   "source": [
    "\n",
    "# Trafico semanal servicio técnico vs usuarios\n",
    "\n",
    "# 1. Preparo datos\n",
    "# Visitas reales\n",
    "#realtrafic.query('HOST!=\"localhost \" and HOST!=\"test.akumenius.com \" ')\n",
    "\n",
    "# 2. Creo fig y axes.\n",
    "fig, ax=plt.subplots(figsize=(12, 6))\n",
    "\n",
    "# 3. Creo Plot\n",
    "trafico=sns.countplot(data=realtrafic.query('HOST!=\"localhost \" and HOST!=\"test.akumenius.com \" and DIA!=\"Mar/02/2014\"'),\n",
    "                        x='DIA',\n",
    "                        alpha=0.7,\n",
    "                        ax=ax,\n",
    "                        label='Usiarios',\n",
    "                        color='lightsteelblue'\n",
    "                        )\n",
    "\n",
    "sns.lineplot(data=realtrafic.query('HOST==\"localhost \" or HOST==\"test.akumenius.com \" and DIA!=\"Mar/02/2014\"').groupby(['DIA'])[['IP']].count(),\n",
    "             x='DIA',\n",
    "             y='IP',\n",
    "             ax=ax,\n",
    "             legend='full',\n",
    "             label='Servicio técnico')\n",
    "\n",
    "\n",
    "# 4. Configuracion de imagen y anotaciones \n",
    "trafico.set(title='Número de accesos diarios. Usuarios vs Servicio técnico ',\n",
    "          ylabel=None,\n",
    "          xlabel=None);\n",
    "\n"
   ]
  },
  {
   "cell_type": "markdown",
   "metadata": {},
   "source": [
    "### Errores 400+\n",
    "\n",
    "Como vimos al inicio domingo lunes y martes hubo un número anómalo de errores 400. Vamos a intentar averiguar a que podrían ser debidos."
   ]
  },
  {
   "cell_type": "code",
   "execution_count": 142,
   "metadata": {},
   "outputs": [
    {
     "data": {
      "text/plain": [
       "Bot      8328\n",
       "Human     239\n",
       "Name: Traffic, dtype: int64"
      ]
     },
     "execution_count": 142,
     "metadata": {},
     "output_type": "execute_result"
    }
   ],
   "source": [
    "# Tipo de tráfico que provoca errores 400\n",
    "df.query('STATUS==\"400+\" and DIA<\"Feb/26/2014\"').Traffic.value_counts()"
   ]
  },
  {
   "cell_type": "code",
   "execution_count": 143,
   "metadata": {},
   "outputs": [
    {
     "data": {
      "text/plain": [
       "REQ_STATUS  Traffic\n",
       "400         Human        26\n",
       "401         Human         5\n",
       "403         Human       143\n",
       "            Bot          51\n",
       "404         Bot        8391\n",
       "            Human       239\n",
       "408         Human        37\n",
       "Name: Traffic, dtype: int64"
      ]
     },
     "execution_count": 143,
     "metadata": {},
     "output_type": "execute_result"
    }
   ],
   "source": [
    "# Distribución de errores\n",
    "df.query('STATUS==\"400+\"').groupby(['REQ_STATUS']).Traffic.value_counts()"
   ]
  },
  {
   "cell_type": "markdown",
   "metadata": {},
   "source": [
    "Parece que la inmensa mayoría de errores 400 son errores de tipo 404. En este caso hay un número muy desproporcionado de errores provocados por BOTS y aunque el número de usuarios que tuvieron ese error es también muy desproporcionado.\n",
    "\n",
    "Un error 404 quiere decir que el cliente pudo conectarse con éxito con el host, pero no pudo encontrar el recurso que estaba pidiendo.\n",
    "\n",
    "Por ejemplo, si alguien intenta acceder susitio.com/nombre-articulo, pero usted no tiene contenido con el slug nombre-articulo. El visitante verá el error 404 porque a pesar de que su servidor esté funcionando correctamente, el recurso buscado no existe.\n",
    "\n",
    "Y no sólo son los artículos o páginas, cualquier recurso que haga falta puede generar un error 404 en el servidor, tal como una imagen faltante, JavaScript o CSS faltante, etc..\n",
    "\n",
    "Así pues podemos pensar que estos errores deben a que hubo algún link que no funcionaba correctamente durante esos días."
   ]
  },
  {
   "cell_type": "code",
   "execution_count": 144,
   "metadata": {},
   "outputs": [
    {
     "data": {
      "image/png": "[encoded data removed]",
      "text/plain": [
       "<Figure size 720x288 with 1 Axes>"
      ]
     },
     "metadata": {},
     "output_type": "display_data"
    }
   ],
   "source": [
    "# Cuando se produce el response status 404.\n",
    "df.query('REQ_STATUS==\"404\"').groupby('DIA')[['IP']].count().plot(figsize=(10,4));"
   ]
  },
  {
   "cell_type": "markdown",
   "metadata": {},
   "source": [
    "Vemos que el número de veces que ocurre el error 404 disminuye entre el domingo y el martes. Hay que tener en cuenta que disminuye en la misma proporción que el tráfico de bots (3 a 1), con lo cual podemos  asumir que durante el domingo y el lunes hubo un problema con algun recurso que se solucionó a partir del martes."
   ]
  },
  {
   "cell_type": "code",
   "execution_count": 145,
   "metadata": {},
   "outputs": [
    {
     "data": {
      "image/png": "[encoded data removed]",
      "text/plain": [
       "<Figure size 864x432 with 1 Axes>"
      ]
     },
     "metadata": {},
     "output_type": "display_data"
    }
   ],
   "source": [
    "\n",
    "# Trafico semanal\n",
    "\n",
    "# 1. Preparo datos\n",
    "\n",
    "# 2. Creo fig y axes.\n",
    "fig, ax=plt.subplots(figsize=(12, 6))\n",
    "\n",
    "# 3. Creo Plot\n",
    "trafico=sns.countplot(data=bottrafic.query('DIA!=\"Mar/02/2014\"'),\n",
    "                        x='DIA',\n",
    "                        hue='Traffic',\n",
    "                        alpha=0.1,\n",
    "                        ax=ax)\n",
    "\n",
    "trafico=sns.lineplot(data=df.query('REQ_STATUS==\"404\" and DIA!=\"Mar/02/2014\"').groupby(['DIA','REQ_STATUS'])[['IP']].count().reset_index(),\n",
    "            x='DIA',\n",
    "            y='IP',\n",
    "            legend='full',\n",
    "            style='REQ_STATUS',\n",
    "            markers=True,         \n",
    "            ax=ax)\n",
    "\n",
    "\n",
    "\n",
    "# 4. Configuracion de imagen y anotaciones \n",
    "ax.set(title='Número de accesos diarios. Humanos vs Bots ',\n",
    "          ylabel=None,\n",
    "          xlabel=None);\n"
   ]
  },
  {
   "cell_type": "code",
   "execution_count": 146,
   "metadata": {},
   "outputs": [
    {
     "data": {
      "text/plain": [
       "8128"
      ]
     },
     "execution_count": 146,
     "metadata": {},
     "output_type": "execute_result"
    }
   ],
   "source": [
    "# Número de direcciones que generan 404.\n",
    "df.query('REQ_STATUS==\"404\" and DIA<\"Feb/26/2014\"').REQ_SOURCE.nunique()"
   ]
  },
  {
   "cell_type": "code",
   "execution_count": 147,
   "metadata": {},
   "outputs": [
    {
     "data": {
      "text/plain": [
       "/favicon.ico                                                                                       60\n",
       "/hoteles-baratos/ofertas-hotel-Castillo-del-Buen-Amor-en-Topas-25543b-destinos.html                 6\n",
       "/hoteles-baratos/ofertas-hotel-Hostal-La-Escapada-en-Uleila%20del%20Campo-178890b-destinos.html     4\n",
       "Name: REQ_SOURCE, dtype: int64"
      ]
     },
     "execution_count": 147,
     "metadata": {},
     "output_type": "execute_result"
    }
   ],
   "source": [
    "# Principaples direcciones\n",
    "df.query('REQ_STATUS==\"404\" and DIA<\"Feb/26/2014\"').REQ_SOURCE.value_counts().head(3)"
   ]
  },
  {
   "cell_type": "code",
   "execution_count": 148,
   "metadata": {},
   "outputs": [
    {
     "data": {
      "text/plain": [
       "hoteles-baratos     4568\n",
       "destinos-baratos    3855\n",
       "favicon.ico           60\n",
       "awstats                1\n",
       "newdesign              1\n",
       "Name: 1, dtype: int64"
      ]
     },
     "execution_count": 148,
     "metadata": {},
     "output_type": "execute_result"
    }
   ],
   "source": [
    "# Principales directorios\n",
    "df.query('REQ_STATUS==\"404\" and DIA<\"Feb/26/2014\"').REQ_SOURCE.str.split('/',expand=True)[1].value_counts()"
   ]
  },
  {
   "cell_type": "code",
   "execution_count": 149,
   "metadata": {},
   "outputs": [
    {
     "data": {
      "text/plain": [
       "4558"
      ]
     },
     "execution_count": 149,
     "metadata": {},
     "output_type": "execute_result"
    }
   ],
   "source": [
    "# Accesos que empiecen por /hoteles-baratos con error 404.\n",
    "(\n",
    "df[df.REQ_SOURCE.str.startswith(\"/hoteles-baratos/ofertas-hotel\")].\n",
    "    query('REQ_STATUS==\"404\" and DIA<\"Feb/26/2014\"').\n",
    "    REQ_SOURCE.str.split('/',expand=True)[2].count()\n",
    "  )"
   ]
  },
  {
   "cell_type": "code",
   "execution_count": 150,
   "metadata": {},
   "outputs": [
    {
     "data": {
      "text/plain": [
       "3855"
      ]
     },
     "execution_count": 150,
     "metadata": {},
     "output_type": "execute_result"
    }
   ],
   "source": [
    "# Accesos que empiecen por /destinos-baratos/hoteles-baratos con error 404.\n",
    "(\n",
    "df[df.REQ_SOURCE.str.startswith(\"/destinos-baratos/hoteles-baratos\")].\n",
    "    query('REQ_STATUS==\"404\" and DIA<\"Feb/26/2014\"')\n",
    "    .REQ_SOURCE.count()\n",
    "  )"
   ]
  },
  {
   "cell_type": "code",
   "execution_count": 151,
   "metadata": {},
   "outputs": [
    {
     "data": {
      "text/plain": [
       "1165"
      ]
     },
     "execution_count": 151,
     "metadata": {},
     "output_type": "execute_result"
    }
   ],
   "source": [
    "# Numero de accesos que empiezan por /destinos-baratos/hoteles-baratos y no dan error 404\n",
    "(\n",
    "df[df.REQ_SOURCE.str.startswith(\"/hoteles-baratos/\")]\n",
    "    .query('REQ_STATUS!=\"404\" and DIA<\"Feb/26/2014\"')\n",
    "    .REQ_SOURCE.str.split('/',expand=True)[2].count()\n",
    ")"
   ]
  },
  {
   "cell_type": "markdown",
   "metadata": {},
   "source": [
    "La mayoría de errores 404 son provocados por spiders que recorren automáticamente la web. 4588 direcciones que no se encontraron empezaban por _/hoteles-baratos/ofertas-hotel_ y 3855 por _/destinos-baratos/hoteles-baratos_, probablemente estos errores se deban a recursos que ya no existen, por que haya caducado la oferta o el anunciante la haya retirado. A partir del martes estos errores desaparecen, lo que quiere decir que han sido reparados por el servicio técnico.  "
   ]
  },
  {
   "cell_type": "code",
   "execution_count": null,
   "metadata": {},
   "outputs": [],
   "source": []
  },
  {
   "cell_type": "markdown",
   "metadata": {},
   "source": [
    "## 4.2. Visitas por ubicación geográfica.\n",
    "\n",
    "Veamos ahora de donde provienen las visitas a nuestra web."
   ]
  },
  {
   "cell_type": "code",
   "execution_count": 152,
   "metadata": {},
   "outputs": [
    {
     "data": {
      "image/png": "[encoded data removed]",
      "text/plain": [
       "<Figure size 864x432 with 2 Axes>"
      ]
     },
     "metadata": {},
     "output_type": "display_data"
    }
   ],
   "source": [
    "# Histograma de número de visitas por pais\n",
    "# 1. Preparo datos\n",
    "# 2. Creo fig y axes.\n",
    "fig, (ax1,ax2)=plt.subplots(figsize=(12, 6),ncols=1,nrows=2,sharex=True,tight_layout=True)\n",
    "\n",
    "# 3. Creo Plot\n",
    "real=sns.barplot(data=realtrafic.groupby('country')[['IP']].count().sort_values(by='IP',ascending=False).reset_index().head(5),\n",
    "                    y='country',  \n",
    "                    x='IP',\n",
    "                    palette='flare_r',\n",
    "                    ax=ax1)\n",
    "\n",
    "bot=sns.barplot(data=bottrafic.groupby('country')[['IP']].count().sort_values(by='IP',ascending=False).reset_index().head(5),\n",
    "                    y='country',  \n",
    "                    x='IP',\n",
    "                    palette='mako_r',\n",
    "                    ax=ax2)\n",
    "\n",
    "\n",
    "# 4. Configuracion de imagen y anotaciones \n",
    "real.set(title='Número de visitas de usuarios por país',\n",
    "          ylabel=None,\n",
    "          xlabel=None);\n",
    "\n",
    "bot.set(title='Número de visitas de bots por país',\n",
    "          ylabel=None,\n",
    "          xlabel=None);\n",
    "\n"
   ]
  },
  {
   "cell_type": "markdown",
   "metadata": {},
   "source": [
    "Da la sensación de que nuestro público está principalmente en España. Vamos aprofundizar un poco más y veamos que regiones acumulan mayor número de visitas.  "
   ]
  },
  {
   "cell_type": "code",
   "execution_count": 153,
   "metadata": {},
   "outputs": [
    {
     "data": {
      "image/png": "[encoded data removed]",
      "text/plain": [
       "<Figure size 864x576 with 2 Axes>"
      ]
     },
     "metadata": {},
     "output_type": "display_data"
    }
   ],
   "source": [
    "# Histograma de número de visitas por CCAA\n",
    "# 1. Preparo datos\n",
    "CCAA= realtrafic.query('country==\"España\"').groupby('region')[['IP']].count().sort_values(by='IP',ascending=False).reset_index().head(10)\n",
    "Ciudad= realtrafic.query('country==\"España\"').groupby('city')[['IP']].count().sort_values(by='IP',ascending=False).reset_index().head(10)\n",
    "\n",
    "# 2. Creo fig y axes.\n",
    "fig,(ax1,ax2)=plt.subplots(figsize=(12, 8),ncols=1,nrows=2,sharex=True,tight_layout=True)\n",
    "\n",
    "\n",
    "# 3. Creo Plot\n",
    "comunidad=sns.barplot(data=CCAA,\n",
    "                    y='region',  \n",
    "                    x='IP',\n",
    "                    palette='flare_r',\n",
    "                   ax=ax1)\n",
    "\n",
    "ciudad=sns.barplot(data=Ciudad,\n",
    "                    y='city',  \n",
    "                    x='IP',\n",
    "                    palette='mako',\n",
    "                   ax=ax2)\n",
    "\n",
    "\n",
    "# 4. Configuracion de imagen y anotaciones \n",
    "comunidad.set(title='Número de visitas por comunidad autónoma',\n",
    "          ylabel=None,\n",
    "          xlabel=None);\n",
    "\n",
    "\n",
    "ciudad.set(title='Número de visitas por ciudad',\n",
    "          ylabel=None,\n",
    "          xlabel=None);\n"
   ]
  },
  {
   "cell_type": "markdown",
   "metadata": {},
   "source": [
    "Analizando por provincias, Madrid, Andalucía y Cataluña son las regiones desde donde más visitas recibimos."
   ]
  },
  {
   "cell_type": "markdown",
   "metadata": {},
   "source": [
    "En este punto creo que sería interesante distinguir los accesos de IP que estén asociados a personas que trabajen en el mantenimiento de la página."
   ]
  },
  {
   "cell_type": "code",
   "execution_count": 154,
   "metadata": {
    "scrolled": true
   },
   "outputs": [
    {
     "data": {
      "text/plain": [
       "array(['localhost ', 'www.akumenius.com ', 'akumenius.com ',\n",
       "       'akumenius.es ', 'test.akumenius.com '], dtype=object)"
      ]
     },
     "execution_count": 154,
     "metadata": {},
     "output_type": "execute_result"
    }
   ],
   "source": [
    "df.HOST.unique()"
   ]
  },
  {
   "cell_type": "markdown",
   "metadata": {},
   "source": [
    "Asumo que las ips que acceden a través de localhost o test.akumenius.com serían las que corresponden a personas que trabajan en le mantenimiento de la web. En total suponen unas 37.514 visitas."
   ]
  },
  {
   "cell_type": "code",
   "execution_count": 155,
   "metadata": {},
   "outputs": [],
   "source": [
    "ip_test=df[(df.HOST=='test.akumenius.com ' )].IP.unique()"
   ]
  },
  {
   "cell_type": "code",
   "execution_count": 156,
   "metadata": {},
   "outputs": [],
   "source": [
    "ip_localhost=df[(df.HOST=='localhost ') ].IP.unique()"
   ]
  },
  {
   "cell_type": "code",
   "execution_count": 157,
   "metadata": {},
   "outputs": [
    {
     "data": {
      "text/plain": [
       "22322"
      ]
     },
     "execution_count": 157,
     "metadata": {},
     "output_type": "execute_result"
    }
   ],
   "source": [
    "df[(df.IP.isin(ip_test))].IP.value_counts().sum()"
   ]
  },
  {
   "cell_type": "code",
   "execution_count": 158,
   "metadata": {},
   "outputs": [
    {
     "data": {
      "text/plain": [
       "15192"
      ]
     },
     "execution_count": 158,
     "metadata": {},
     "output_type": "execute_result"
    }
   ],
   "source": [
    "df[df.IP.isin(ip_localhost)].IP.value_counts().sum()"
   ]
  },
  {
   "cell_type": "markdown",
   "metadata": {},
   "source": [
    "Como quedarían las visitas pos CCAA y Ciudades si no tenemos en cuenta las visitas de trabajadores de la web?"
   ]
  },
  {
   "cell_type": "code",
   "execution_count": 159,
   "metadata": {},
   "outputs": [
    {
     "data": {
      "image/png": "[encoded data removed]",
      "text/plain": [
       "<Figure size 864x576 with 2 Axes>"
      ]
     },
     "metadata": {},
     "output_type": "display_data"
    }
   ],
   "source": [
    "# Histograma de número de visitas por CCAA sin accesos localhost ni test.akumenius \n",
    "# 1. Preparo datos\n",
    "filter1=realtrafic[(realtrafic['country']==\"España\")&(~(realtrafic.IP.isin(ip_test))&~(realtrafic.IP.isin(ip_localhost)))]\n",
    "\n",
    "CCAA= filter1.groupby('region')[['IP']].count().sort_values(by='IP',ascending=False).reset_index().head(10)\n",
    "Ciudad= filter1.groupby('city')[['IP']].count().sort_values(by='IP',ascending=False).reset_index().head(10)\n",
    "\n",
    "# 2. Creo fig y axes.\n",
    "fig,(ax1,ax2)=plt.subplots(figsize=(12, 8),ncols=1,nrows=2,sharex=True,tight_layout=True)\n",
    "\n",
    "\n",
    "# 3. Creo Plot\n",
    "comunidad=sns.barplot(data=CCAA,\n",
    "                    y='region',  \n",
    "                    x='IP',\n",
    "                    palette='flare_r',\n",
    "                    ax=ax1)\n",
    "\n",
    "ciudad=sns.barplot(data=Ciudad,\n",
    "                    y='city',  \n",
    "                    x='IP',\n",
    "                    palette='mako',\n",
    "                    ax=ax2)\n",
    "\n",
    "\n",
    "# 4. Configuracion de imagen y anotaciones \n",
    "comunidad.set(title='Número de visitas por comunidad autónoma',ylabel=None,xlabel=None);\n",
    "\n",
    "\n",
    "ciudad.set(title='Número de visitas por ciudad',ylabel=None,xlabel=None);\n"
   ]
  },
  {
   "cell_type": "code",
   "execution_count": 160,
   "metadata": {},
   "outputs": [
    {
     "data": {
      "text/plain": [
       "GET     90598\n",
       "POST    10337\n",
       "HEAD        2\n",
       "Name: REQ_METHOD, dtype: int64"
      ]
     },
     "execution_count": 160,
     "metadata": {},
     "output_type": "execute_result"
    }
   ],
   "source": [
    "filter1.REQ_METHOD.value_counts()"
   ]
  },
  {
   "cell_type": "markdown",
   "metadata": {},
   "source": [
    "Por comunidades autónomas podemos decir que la mayoría de visitas viene de Andalucía, Cataluña y Valencia, aunque la ciudad que más número de visitas nos hace es Madrid."
   ]
  },
  {
   "cell_type": "code",
   "execution_count": null,
   "metadata": {},
   "outputs": [],
   "source": []
  },
  {
   "cell_type": "code",
   "execution_count": 161,
   "metadata": {},
   "outputs": [
    {
     "data": {
      "image/png": "[encoded data removed]",
      "text/plain": [
       "<Figure size 864x576 with 1 Axes>"
      ]
     },
     "metadata": {},
     "output_type": "display_data"
    }
   ],
   "source": [
    "# Histograma de número de visitas por CCAA sin accesos localhost ni test.akumenius \n",
    "# 1. Preparo datos\n",
    "comunidades=['Andalucía','Valencia','Cataluña','Madrid']\n",
    "filter2=realtrafic[(realtrafic['country']==\"España\")&\n",
    "                   (~(realtrafic.IP.isin(ip_test))&~(realtrafic.IP.isin(ip_localhost))&\n",
    "                   (realtrafic.region.isin(comunidades)))]\n",
    "\n",
    "CCAA= filter2.groupby(['DIA','region'])[['IP']].count().reset_index().sort_values(by=['DIA','IP'],ascending=[True,False])\n",
    "#Ciudad= filter1.groupby('city')[['IP']].count().sort_values(by='IP',ascending=False).reset_index().head(10)\n",
    "\n",
    "# 2. Creo fig y axes.\n",
    "fig,(ax1)=plt.subplots(figsize=(12, 8))\n",
    "\n",
    "\n",
    "# 3. Creo Plot\n",
    "comunidad=sns.barplot(data=CCAA,\n",
    "                    hue='region',  \n",
    "                    y='IP',\n",
    "                    x='DIA',\n",
    "                    palette='Set2',\n",
    "                    ax=ax1)\n",
    "\n",
    "\n",
    "# 4. Configuracion de imagen y anotaciones \n",
    "comunidad.set(title='Número de visitas por comunidad autónoma',ylabel=None,xlabel=None);\n",
    "\n",
    "\n",
    "\n"
   ]
  },
  {
   "cell_type": "code",
   "execution_count": null,
   "metadata": {},
   "outputs": [],
   "source": []
  },
  {
   "cell_type": "markdown",
   "metadata": {},
   "source": [
    "## 4.3. Analizando REQ_SOURCES"
   ]
  },
  {
   "cell_type": "markdown",
   "metadata": {},
   "source": [
    "Si observamos el número de accesos que ha tenido nuestra página por tipo de método de acceso tenemos:"
   ]
  },
  {
   "cell_type": "code",
   "execution_count": 162,
   "metadata": {},
   "outputs": [
    {
     "data": {
      "text/plain": [
       "GET                  148251\n",
       "POST                  16660\n",
       "OPTIONS               13892\n",
       "HEAD                    132\n",
       "-                        37\n",
       "\\x80w\\x01\\x03\\x01         5\n",
       "Name: REQ_METHOD, dtype: int64"
      ]
     },
     "execution_count": 162,
     "metadata": {},
     "output_type": "execute_result"
    }
   ],
   "source": [
    "realtrafic.REQ_METHOD.value_counts()"
   ]
  },
  {
   "cell_type": "markdown",
   "metadata": {},
   "source": [
    "Y esto distribuido a lo largo de la semana:"
   ]
  },
  {
   "cell_type": "code",
   "execution_count": 163,
   "metadata": {},
   "outputs": [
    {
     "data": {
      "image/png": "[encoded data removed]",
      "text/plain": [
       "<Figure size 864x432 with 1 Axes>"
      ]
     },
     "metadata": {},
     "output_type": "display_data"
    }
   ],
   "source": [
    "\n",
    "# Histograma de número de visitas por dia\n",
    "# 1. Preparo datos\n",
    "\n",
    "# 2. Creo fig y axes.\n",
    "fig, ax=plt.subplots(figsize=(12, 6))\n",
    "\n",
    "# 3. Creo Plot\n",
    "trafico=sns.countplot(data=realtrafic.query('DIA!=\"Mar/02/2014\"'),\n",
    "                      x='DIA',\n",
    "                      hue='REQ_METHOD',\n",
    "                      ax=ax)\n",
    "\n",
    "sns.lineplot(data=realtrafic.query('DIA!=\"Mar/02/2014\"').groupby(['DIA','REQ_METHOD'])[['IP']].count(),\n",
    "            y='IP',\n",
    "            hue='REQ_METHOD',\n",
    "            x='DIA',\n",
    "             alpha=0.8,\n",
    "             linestyle='-.',\n",
    "             legend=None,\n",
    "            ax=ax)\n",
    "\n",
    "\n",
    "\n",
    "# 4. Configuracion de imagen y anotaciones \n",
    "trafico.set(title='Número de accesos al servidor por método',\n",
    "          ylabel=None,\n",
    "          xlabel=None);\n",
    "\n",
    "trafico.legend(loc='upper right');"
   ]
  },
  {
   "cell_type": "markdown",
   "metadata": {},
   "source": [
    "Los accesos con el método OPTIONS tienen valores mayores a principio de semana y luego van decreciendo hasta el domingo. Probablemente a principio de semana se requiere un mayor trabajo en el mantenimiento de la web que hace que lunes y martes sean días con más accesos, mientras que miércoles jueves y viernes disminuye el tráfico. \n",
    "\n",
    "Con las accesos con el método POST pasa algo parecido, lunes y martes son días con muchas entradas, tal vez se deba a tareas de actualización de anuncios o a subidas de comentarios.\n",
    "\n",
    "En el tráfico generado el método GET vemos que lunes y martes son días con mucho tráfico, tal vez debido a que muchos usuarios empiezan a buscar planes para el fin de semana y aunque las visitas caen el miércoles, el jueves vuelven a subir, aunque como ya vimos el jueves hubo un elevado número de visitas realizadas por el servicio técnico.\n",
    "\n",
    "Por último en general vemos que el tráfico cae de viernes a domingo.\n",
    "\n",
    "Veamos a donde buscan acceder los diferente métodos."
   ]
  },
  {
   "cell_type": "code",
   "execution_count": 164,
   "metadata": {},
   "outputs": [
    {
     "data": {
      "text/plain": [
       "array(['OPTIONS', 'GET', 'HEAD', 'POST', '-', '\\\\x80w\\\\x01\\\\x03\\\\x01'],\n",
       "      dtype=object)"
      ]
     },
     "execution_count": 164,
     "metadata": {},
     "output_type": "execute_result"
    }
   ],
   "source": [
    "# Lista de métodos\n",
    "df.REQ_METHOD.unique()"
   ]
  },
  {
   "cell_type": "markdown",
   "metadata": {},
   "source": [
    "### 4.3.1. OPTIONS"
   ]
  },
  {
   "cell_type": "code",
   "execution_count": 165,
   "metadata": {},
   "outputs": [
    {
     "data": {
      "text/plain": [
       "array(['*'], dtype=object)"
      ]
     },
     "execution_count": 165,
     "metadata": {},
     "output_type": "execute_result"
    }
   ],
   "source": [
    "df[df.REQ_METHOD=='OPTIONS'].REQ_SOURCE.unique()"
   ]
  },
  {
   "cell_type": "code",
   "execution_count": 166,
   "metadata": {},
   "outputs": [
    {
     "data": {
      "text/plain": [
       "['200+']\n",
       "Categories (1, object): ['200+']"
      ]
     },
     "execution_count": 166,
     "metadata": {},
     "output_type": "execute_result"
    }
   ],
   "source": [
    "df[df.REQ_METHOD=='OPTIONS'].STATUS.unique()"
   ]
  },
  {
   "cell_type": "code",
   "execution_count": 179,
   "metadata": {},
   "outputs": [
    {
     "data": {
      "text/plain": [
       "200+    1.0\n",
       "500+    0.0\n",
       "400+    0.0\n",
       "300+    0.0\n",
       "Name: STATUS, dtype: float64"
      ]
     },
     "execution_count": 179,
     "metadata": {},
     "output_type": "execute_result"
    }
   ],
   "source": [
    "# Performance estado accesos OPTIONS\n",
    "df[df.REQ_METHOD=='OPTIONS'].STATUS.value_counts(normalize=True)"
   ]
  },
  {
   "cell_type": "markdown",
   "metadata": {},
   "source": [
    "### 4.3.2. POST"
   ]
  },
  {
   "cell_type": "code",
   "execution_count": 167,
   "metadata": {},
   "outputs": [
    {
     "name": "stdout",
     "output_type": "stream",
     "text": [
      "Número de visitas con POST totales:  16669 \n",
      "\n",
      "Número de diferentes fuentes:  343\n"
     ]
    }
   ],
   "source": [
    "print('Número de visitas con POST totales: ',df[df.REQ_METHOD=='POST'].REQ_SOURCE.count(),'\\n')\n",
    "print('Número de diferentes fuentes: ',df[df.REQ_METHOD=='POST'].REQ_SOURCE.nunique())"
   ]
  },
  {
   "cell_type": "code",
   "execution_count": 168,
   "metadata": {},
   "outputs": [
    {
     "data": {
      "text/plain": [
       "destinos-get                    8115\n",
       "hotel-list-data                 3439\n",
       "raton-search                    1694\n",
       "newdesign                       1120\n",
       "destinos-insert                  862\n",
       "hotel-translate-get              184\n",
       "raton-search2                    171\n",
       "hotel-translate-name-new-get     149\n",
       "booking                          147\n",
       "hoteles-baratos                  141\n",
       "Name: 1, dtype: int64"
      ]
     },
     "execution_count": 168,
     "metadata": {},
     "output_type": "execute_result"
    }
   ],
   "source": [
    "# Top 10 carpetas con más accesos por POST. \n",
    "df[df.REQ_METHOD=='POST'].REQ_SOURCE.str.split('/',expand=True)[1].value_counts().head(10)"
   ]
  },
  {
   "cell_type": "code",
   "execution_count": 169,
   "metadata": {},
   "outputs": [
    {
     "data": {
      "text/plain": [
       "200+    0.993401\n",
       "300+    0.004799\n",
       "400+    0.001620\n",
       "500+    0.000180\n",
       "Name: STATUS, dtype: float64"
      ]
     },
     "execution_count": 169,
     "metadata": {},
     "output_type": "execute_result"
    }
   ],
   "source": [
    "# Performance estado accesos POST\n",
    "df[df.REQ_METHOD=='POST'].STATUS.value_counts(normalize=True)"
   ]
  },
  {
   "cell_type": "markdown",
   "metadata": {},
   "source": [
    "### 4.3.3. HEAD"
   ]
  },
  {
   "cell_type": "code",
   "execution_count": 170,
   "metadata": {},
   "outputs": [
    {
     "name": "stdout",
     "output_type": "stream",
     "text": [
      "Número de visitas con HEAD totales:  1788 \n",
      "\n",
      "Número de diferentes fuentes:  25\n"
     ]
    }
   ],
   "source": [
    "print('Número de visitas con HEAD totales: ',df[df.REQ_METHOD=='HEAD'].REQ_SOURCE.count(),'\\n')\n",
    "print('Número de diferentes fuentes: ',df[df.REQ_METHOD=='HEAD'].REQ_SOURCE.nunique())"
   ]
  },
  {
   "cell_type": "code",
   "execution_count": 171,
   "metadata": {},
   "outputs": [
    {
     "data": {
      "text/plain": [
       "              1745\n",
       "libraries       14\n",
       "modules         12\n",
       "chollos          5\n",
       "includes         4\n",
       "icon.png         3\n",
       "escapadas        3\n",
       "robots.txt       2\n",
       "Name: 1, dtype: int64"
      ]
     },
     "execution_count": 171,
     "metadata": {},
     "output_type": "execute_result"
    }
   ],
   "source": [
    "df[df.REQ_METHOD=='HEAD'].REQ_SOURCE.str.split('/',expand=True)[1].value_counts()"
   ]
  },
  {
   "cell_type": "code",
   "execution_count": 177,
   "metadata": {},
   "outputs": [
    {
     "data": {
      "text/plain": [
       "200+    0.946868\n",
       "300+    0.039709\n",
       "400+    0.013423\n",
       "500+    0.000000\n",
       "Name: STATUS, dtype: float64"
      ]
     },
     "execution_count": 177,
     "metadata": {},
     "output_type": "execute_result"
    }
   ],
   "source": [
    "# Performance estado accesos HEAD\n",
    "df[df.REQ_METHOD=='HEAD'].STATUS.value_counts(normalize=True)"
   ]
  },
  {
   "cell_type": "markdown",
   "metadata": {},
   "source": [
    "### 4.3.4. GET"
   ]
  },
  {
   "cell_type": "code",
   "execution_count": 172,
   "metadata": {},
   "outputs": [
    {
     "name": "stdout",
     "output_type": "stream",
     "text": [
      "Número de visitas con GET totales:  229482 \n",
      "\n",
      "Número de diferentes fuentes:  65778\n"
     ]
    }
   ],
   "source": [
    "print('Número de visitas con GET totales: ',df[df.REQ_METHOD=='GET'].REQ_SOURCE.count(),'\\n')\n",
    "print('Número de diferentes fuentes: ',df[df.REQ_METHOD=='GET'].REQ_SOURCE.nunique())"
   ]
  },
  {
   "cell_type": "code",
   "execution_count": 178,
   "metadata": {},
   "outputs": [
    {
     "data": {
      "text/plain": [
       "200+    0.847744\n",
       "300+    0.113721\n",
       "400+    0.038343\n",
       "500+    0.000192\n",
       "Name: STATUS, dtype: float64"
      ]
     },
     "execution_count": 178,
     "metadata": {},
     "output_type": "execute_result"
    }
   ],
   "source": [
    "# Performance estado accesos GET\n",
    "df[df.REQ_METHOD=='GET'].STATUS.value_counts(normalize=True)"
   ]
  },
  {
   "cell_type": "code",
   "execution_count": 173,
   "metadata": {},
   "outputs": [
    {
     "data": {
      "text/plain": [
       "1                      \n",
       "modules                    60694\n",
       "libraries                  39331\n",
       "newdesign                  14314\n",
       "includes                   13373\n",
       "destinos-get                8115\n",
       "                            7115\n",
       "hotel-list-data             3439\n",
       "escapadas                   2791\n",
       "hotel-list                  1972\n",
       "agencias_europlayas         1910\n",
       "raton-search                1694\n",
       "hoteles-baratos             1543\n",
       "icon.png                    1116\n",
       "hotels-consulted-update     1007\n",
       "destinos-baratos             968\n",
       "dtype: int64"
      ]
     },
     "execution_count": 173,
     "metadata": {},
     "output_type": "execute_result"
    }
   ],
   "source": [
    "# Directorios más visitados\n",
    "realtrafic.REQ_SOURCE.str.split('/',expand=True)[[1]].value_counts().head(15)"
   ]
  },
  {
   "cell_type": "markdown",
   "metadata": {},
   "source": [
    "Folders como modules, libraries, newdesign o included contienen información sobre elementos de la arquitectura web. Veamos que viajes son los más buscados por nuestros usuarios: "
   ]
  },
  {
   "cell_type": "code",
   "execution_count": 174,
   "metadata": {},
   "outputs": [
    {
     "data": {
      "text/plain": [
       "cataluna-154_files                                                            915\n",
       "escapada-golf-islantilla-golf-resort-0437afab49458d7bd5a48954a459ad6d.html    143\n",
       "general-550                                                                   134\n",
       "andalucia-713                                                                 102\n",
       "escapada-golf-hotel-elba-estepona-0cc275f95c9f11febf96eedab9465da3.html       100\n",
       "hotel-spa-493                                                                  74\n",
       "aragon-718                                                                     67\n",
       "golf-500.html                                                                  56\n",
       "romanticas-492                                                                 52\n",
       "andalucia-713.html                                                             38\n",
       "Name: 2, dtype: int64"
      ]
     },
     "execution_count": 174,
     "metadata": {},
     "output_type": "execute_result"
    }
   ],
   "source": [
    "realtrafic[realtrafic.REQ_SOURCE.str.startswith('/escapadas/')\n",
    "          ].REQ_SOURCE.str.split('/',expand=True)[2].value_counts().head(10)"
   ]
  },
  {
   "cell_type": "code",
   "execution_count": 175,
   "metadata": {},
   "outputs": [
    {
     "data": {
      "text/plain": [
       "hoteles-todo-incluido.html                                                   382\n",
       "ofertas-vacaciones-verano.html                                                92\n",
       "ofertas-hoteles-todo-incluido-en-algarve_PORTUGAL.html                        84\n",
       "ofertas-hoteles-semana-santa.html                                             41\n",
       "ofertas-hoteles-todo-incluido-en-benidorm_ESPA%C3%91A.html                    40\n",
       "ofertas-hoteles-todo-incluido-en-roquetas-de-mar_ESPA%C3%91A.html             36\n",
       "ofertas-hoteles-todo-incluido-en-chiclana-de-la-frontera_ESPA%C3%91A.html     36\n",
       "ofertas-hoteles-todo-incluido-en-albir_ESPA%C3%91A.html                       26\n",
       "ofertas-hoteles-puente-andalucia.html                                         22\n",
       "ofertas-hoteles-todo-incluido-en-salou_ESPA%C3%91A.html                       19\n",
       "Name: 2, dtype: int64"
      ]
     },
     "execution_count": 175,
     "metadata": {},
     "output_type": "execute_result"
    }
   ],
   "source": [
    "realtrafic[realtrafic.REQ_SOURCE.str.startswith('/hoteles-baratos/')\n",
    "          ].REQ_SOURCE.str.split('/',expand=True)[2].value_counts().head(10)"
   ]
  },
  {
   "cell_type": "code",
   "execution_count": 176,
   "metadata": {},
   "outputs": [
    {
     "data": {
      "text/plain": [
       "hoteles-baratos                          114\n",
       "destinos-caracteristicas                  64\n",
       "hoteles-en-Benidorm_ESPA%C3%91A           22\n",
       "hoteles-en-Granada_ESPA%C3%91A            21\n",
       "hoteles-en-Barcelona_ESPA%C3%91A          12\n",
       "hoteles-en-C%C3%A1diz_ESPA%C3%91A         11\n",
       "hoteles-en-Alicante_ESPA%C3%91A           10\n",
       "hoteles-en-Pe%C3%B1iscola_ESPA%C3%91A     10\n",
       "hoteles-en-Madrid_ESPA%C3%91A             10\n",
       "hoteles-en-Mykonos_GRECIA                  9\n",
       "Name: 2, dtype: int64"
      ]
     },
     "execution_count": 176,
     "metadata": {},
     "output_type": "execute_result"
    }
   ],
   "source": [
    "realtrafic[realtrafic.REQ_SOURCE.str.startswith('/destinos-baratos/')\n",
    "          ].REQ_SOURCE.str.split('/',expand=True)[2].value_counts().head(10)"
   ]
  },
  {
   "cell_type": "markdown",
   "metadata": {},
   "source": [
    "En general nuestros usuarios buscan hoteles baratos o con todo incluido, Cataluña y Andalucía como destinos más habituales y ofertas para verano y semana santa. "
   ]
  },
  {
   "cell_type": "markdown",
   "metadata": {},
   "source": [
    "## 5. Resumen.\n",
    "\n",
    "En este notebook hemos extraido la información de un registro log. Para ello en primer lugar tuvimos que ir identificando los diferentes campos de cara registro. La particularidad en este caso es que los campos no están separados por caracteres, así que tuvimos que hacer uso de expresiones regulares y algunas funciones de tratamiento de strings de la librería de Pandas para ir obteniendo los diferentes campos.\n",
    "\n",
    "Una vez preparada la tabla para analizar conectamos el notebook con una API que nos permitió geolocalizar las IPs y con ayuda de una librería especializada en parsear user agents pudimos inferir el tipo de dispositivo que conectaba con nuestra web, el sistema operativo o si era un Bot o no.\n",
    "\n",
    "Con toda la información extraida pudimos ver que días había más tráfico o cuales eran las horas de conexión más usuales de nuestra audiencia. Fuimos capaces de detectar diferentes incidencias e incluso que día se actualizó el sistema. La información de geolocalización de las IPs, nos ayudó a conocer que nuestro público era mayoritariamente nacional y que las ciudades que más nos visitaban eran Madrid, Barcelona y Valencia. "
   ]
  },
  {
   "cell_type": "code",
   "execution_count": null,
   "metadata": {},
   "outputs": [],
   "source": []
  }
 ],
 "metadata": {
  "kernelspec": {
   "display_name": "Python 3",
   "language": "python",
   "name": "python3"
  },
  "language_info": {
   "codemirror_mode": {
    "name": "ipython",
    "version": 3
   },
   "file_extension": ".py",
   "mimetype": "text/x-python",
   "name": "python",
   "nbconvert_exporter": "python",
   "pygments_lexer": "ipython3",
   "version": "3.8.5"
  }
 },
 "nbformat": 4,
 "nbformat_minor": 4
}
